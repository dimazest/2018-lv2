{
 "cells": [
  {
   "cell_type": "code",
   "execution_count": 1,
   "metadata": {},
   "outputs": [],
   "source": [
    "%load_ext autoreload\n",
    "%autoreload 2"
   ]
  },
  {
   "cell_type": "code",
   "execution_count": 2,
   "metadata": {},
   "outputs": [
    {
     "data": {
      "text/html": [
       "\n",
       "    <div class=\"bk-root\">\n",
       "        <a href=\"https://bokeh.pydata.org\" target=\"_blank\" class=\"bk-logo bk-logo-small bk-logo-notebook\"></a>\n",
       "        <span id=\"79df3d89-1c17-4bd8-9e8c-a84f32bbe97a\">Loading BokehJS ...</span>\n",
       "    </div>"
      ]
     },
     "metadata": {},
     "output_type": "display_data"
    },
    {
     "data": {
      "application/javascript": [
       "\n",
       "(function(root) {\n",
       "  function now() {\n",
       "    return new Date();\n",
       "  }\n",
       "\n",
       "  var force = true;\n",
       "\n",
       "  if (typeof (root._bokeh_onload_callbacks) === \"undefined\" || force === true) {\n",
       "    root._bokeh_onload_callbacks = [];\n",
       "    root._bokeh_is_loading = undefined;\n",
       "  }\n",
       "\n",
       "  var JS_MIME_TYPE = 'application/javascript';\n",
       "  var HTML_MIME_TYPE = 'text/html';\n",
       "  var EXEC_MIME_TYPE = 'application/vnd.bokehjs_exec.v0+json';\n",
       "  var CLASS_NAME = 'output_bokeh rendered_html';\n",
       "\n",
       "  /**\n",
       "   * Render data to the DOM node\n",
       "   */\n",
       "  function render(props, node) {\n",
       "    var script = document.createElement(\"script\");\n",
       "    node.appendChild(script);\n",
       "  }\n",
       "\n",
       "  /**\n",
       "   * Handle when an output is cleared or removed\n",
       "   */\n",
       "  function handleClearOutput(event, handle) {\n",
       "    var cell = handle.cell;\n",
       "\n",
       "    var id = cell.output_area._bokeh_element_id;\n",
       "    var server_id = cell.output_area._bokeh_server_id;\n",
       "    // Clean up Bokeh references\n",
       "    if (id !== undefined) {\n",
       "      Bokeh.index[id].model.document.clear();\n",
       "      delete Bokeh.index[id];\n",
       "    }\n",
       "\n",
       "    if (server_id !== undefined) {\n",
       "      // Clean up Bokeh references\n",
       "      var cmd = \"from bokeh.io.state import curstate; print(curstate().uuid_to_server['\" + server_id + \"'].get_sessions()[0].document.roots[0]._id)\";\n",
       "      cell.notebook.kernel.execute(cmd, {\n",
       "        iopub: {\n",
       "          output: function(msg) {\n",
       "            var element_id = msg.content.text.trim();\n",
       "            Bokeh.index[element_id].model.document.clear();\n",
       "            delete Bokeh.index[element_id];\n",
       "          }\n",
       "        }\n",
       "      });\n",
       "      // Destroy server and session\n",
       "      var cmd = \"import bokeh.io.notebook as ion; ion.destroy_server('\" + server_id + \"')\";\n",
       "      cell.notebook.kernel.execute(cmd);\n",
       "    }\n",
       "  }\n",
       "\n",
       "  /**\n",
       "   * Handle when a new output is added\n",
       "   */\n",
       "  function handleAddOutput(event, handle) {\n",
       "    var output_area = handle.output_area;\n",
       "    var output = handle.output;\n",
       "\n",
       "    // limit handleAddOutput to display_data with EXEC_MIME_TYPE content only\n",
       "    if ((output.output_type != \"display_data\") || (!output.data.hasOwnProperty(EXEC_MIME_TYPE))) {\n",
       "      return\n",
       "    }\n",
       "\n",
       "    var toinsert = output_area.element.find(\".\" + CLASS_NAME.split(' ')[0]);\n",
       "\n",
       "    if (output.metadata[EXEC_MIME_TYPE][\"id\"] !== undefined) {\n",
       "      toinsert[toinsert.length - 1].firstChild.textContent = output.data[JS_MIME_TYPE];\n",
       "      // store reference to embed id on output_area\n",
       "      output_area._bokeh_element_id = output.metadata[EXEC_MIME_TYPE][\"id\"];\n",
       "    }\n",
       "    if (output.metadata[EXEC_MIME_TYPE][\"server_id\"] !== undefined) {\n",
       "      var bk_div = document.createElement(\"div\");\n",
       "      bk_div.innerHTML = output.data[HTML_MIME_TYPE];\n",
       "      var script_attrs = bk_div.children[0].attributes;\n",
       "      for (var i = 0; i < script_attrs.length; i++) {\n",
       "        toinsert[toinsert.length - 1].firstChild.setAttribute(script_attrs[i].name, script_attrs[i].value);\n",
       "      }\n",
       "      // store reference to server id on output_area\n",
       "      output_area._bokeh_server_id = output.metadata[EXEC_MIME_TYPE][\"server_id\"];\n",
       "    }\n",
       "  }\n",
       "\n",
       "  function register_renderer(events, OutputArea) {\n",
       "\n",
       "    function append_mime(data, metadata, element) {\n",
       "      // create a DOM node to render to\n",
       "      var toinsert = this.create_output_subarea(\n",
       "        metadata,\n",
       "        CLASS_NAME,\n",
       "        EXEC_MIME_TYPE\n",
       "      );\n",
       "      this.keyboard_manager.register_events(toinsert);\n",
       "      // Render to node\n",
       "      var props = {data: data, metadata: metadata[EXEC_MIME_TYPE]};\n",
       "      render(props, toinsert[toinsert.length - 1]);\n",
       "      element.append(toinsert);\n",
       "      return toinsert\n",
       "    }\n",
       "\n",
       "    /* Handle when an output is cleared or removed */\n",
       "    events.on('clear_output.CodeCell', handleClearOutput);\n",
       "    events.on('delete.Cell', handleClearOutput);\n",
       "\n",
       "    /* Handle when a new output is added */\n",
       "    events.on('output_added.OutputArea', handleAddOutput);\n",
       "\n",
       "    /**\n",
       "     * Register the mime type and append_mime function with output_area\n",
       "     */\n",
       "    OutputArea.prototype.register_mime_type(EXEC_MIME_TYPE, append_mime, {\n",
       "      /* Is output safe? */\n",
       "      safe: true,\n",
       "      /* Index of renderer in `output_area.display_order` */\n",
       "      index: 0\n",
       "    });\n",
       "  }\n",
       "\n",
       "  // register the mime type if in Jupyter Notebook environment and previously unregistered\n",
       "  if (root.Jupyter !== undefined) {\n",
       "    var events = require('base/js/events');\n",
       "    var OutputArea = require('notebook/js/outputarea').OutputArea;\n",
       "\n",
       "    if (OutputArea.prototype.mime_types().indexOf(EXEC_MIME_TYPE) == -1) {\n",
       "      register_renderer(events, OutputArea);\n",
       "    }\n",
       "  }\n",
       "\n",
       "  \n",
       "  if (typeof (root._bokeh_timeout) === \"undefined\" || force === true) {\n",
       "    root._bokeh_timeout = Date.now() + 5000;\n",
       "    root._bokeh_failed_load = false;\n",
       "  }\n",
       "\n",
       "  var NB_LOAD_WARNING = {'data': {'text/html':\n",
       "     \"<div style='background-color: #fdd'>\\n\"+\n",
       "     \"<p>\\n\"+\n",
       "     \"BokehJS does not appear to have successfully loaded. If loading BokehJS from CDN, this \\n\"+\n",
       "     \"may be due to a slow or bad network connection. Possible fixes:\\n\"+\n",
       "     \"</p>\\n\"+\n",
       "     \"<ul>\\n\"+\n",
       "     \"<li>re-rerun `output_notebook()` to attempt to load from CDN again, or</li>\\n\"+\n",
       "     \"<li>use INLINE resources instead, as so:</li>\\n\"+\n",
       "     \"</ul>\\n\"+\n",
       "     \"<code>\\n\"+\n",
       "     \"from bokeh.resources import INLINE\\n\"+\n",
       "     \"output_notebook(resources=INLINE)\\n\"+\n",
       "     \"</code>\\n\"+\n",
       "     \"</div>\"}};\n",
       "\n",
       "  function display_loaded() {\n",
       "    var el = document.getElementById(\"79df3d89-1c17-4bd8-9e8c-a84f32bbe97a\");\n",
       "    if (el != null) {\n",
       "      el.textContent = \"BokehJS is loading...\";\n",
       "    }\n",
       "    if (root.Bokeh !== undefined) {\n",
       "      if (el != null) {\n",
       "        el.textContent = \"BokehJS \" + root.Bokeh.version + \" successfully loaded.\";\n",
       "      }\n",
       "    } else if (Date.now() < root._bokeh_timeout) {\n",
       "      setTimeout(display_loaded, 100)\n",
       "    }\n",
       "  }\n",
       "\n",
       "\n",
       "  function run_callbacks() {\n",
       "    try {\n",
       "      root._bokeh_onload_callbacks.forEach(function(callback) { callback() });\n",
       "    }\n",
       "    finally {\n",
       "      delete root._bokeh_onload_callbacks\n",
       "    }\n",
       "    console.info(\"Bokeh: all callbacks have finished\");\n",
       "  }\n",
       "\n",
       "  function load_libs(js_urls, callback) {\n",
       "    root._bokeh_onload_callbacks.push(callback);\n",
       "    if (root._bokeh_is_loading > 0) {\n",
       "      console.log(\"Bokeh: BokehJS is being loaded, scheduling callback at\", now());\n",
       "      return null;\n",
       "    }\n",
       "    if (js_urls == null || js_urls.length === 0) {\n",
       "      run_callbacks();\n",
       "      return null;\n",
       "    }\n",
       "    console.log(\"Bokeh: BokehJS not loaded, scheduling load and callback at\", now());\n",
       "    root._bokeh_is_loading = js_urls.length;\n",
       "    for (var i = 0; i < js_urls.length; i++) {\n",
       "      var url = js_urls[i];\n",
       "      var s = document.createElement('script');\n",
       "      s.src = url;\n",
       "      s.async = false;\n",
       "      s.onreadystatechange = s.onload = function() {\n",
       "        root._bokeh_is_loading--;\n",
       "        if (root._bokeh_is_loading === 0) {\n",
       "          console.log(\"Bokeh: all BokehJS libraries loaded\");\n",
       "          run_callbacks()\n",
       "        }\n",
       "      };\n",
       "      s.onerror = function() {\n",
       "        console.warn(\"failed to load library \" + url);\n",
       "      };\n",
       "      console.log(\"Bokeh: injecting script tag for BokehJS library: \", url);\n",
       "      document.getElementsByTagName(\"head\")[0].appendChild(s);\n",
       "    }\n",
       "  };var element = document.getElementById(\"79df3d89-1c17-4bd8-9e8c-a84f32bbe97a\");\n",
       "  if (element == null) {\n",
       "    console.log(\"Bokeh: ERROR: autoload.js configured with elementid '79df3d89-1c17-4bd8-9e8c-a84f32bbe97a' but no matching script tag was found. \")\n",
       "    return false;\n",
       "  }\n",
       "\n",
       "  var js_urls = [\"https://cdn.pydata.org/bokeh/release/bokeh-0.12.15.min.js\", \"https://cdn.pydata.org/bokeh/release/bokeh-widgets-0.12.15.min.js\", \"https://cdn.pydata.org/bokeh/release/bokeh-tables-0.12.15.min.js\", \"https://cdn.pydata.org/bokeh/release/bokeh-gl-0.12.15.min.js\"];\n",
       "\n",
       "  var inline_js = [\n",
       "    function(Bokeh) {\n",
       "      Bokeh.set_log_level(\"info\");\n",
       "    },\n",
       "    \n",
       "    function(Bokeh) {\n",
       "      \n",
       "    },\n",
       "    function(Bokeh) {\n",
       "      console.log(\"Bokeh: injecting CSS: https://cdn.pydata.org/bokeh/release/bokeh-0.12.15.min.css\");\n",
       "      Bokeh.embed.inject_css(\"https://cdn.pydata.org/bokeh/release/bokeh-0.12.15.min.css\");\n",
       "      console.log(\"Bokeh: injecting CSS: https://cdn.pydata.org/bokeh/release/bokeh-widgets-0.12.15.min.css\");\n",
       "      Bokeh.embed.inject_css(\"https://cdn.pydata.org/bokeh/release/bokeh-widgets-0.12.15.min.css\");\n",
       "      console.log(\"Bokeh: injecting CSS: https://cdn.pydata.org/bokeh/release/bokeh-tables-0.12.15.min.css\");\n",
       "      Bokeh.embed.inject_css(\"https://cdn.pydata.org/bokeh/release/bokeh-tables-0.12.15.min.css\");\n",
       "    }\n",
       "  ];\n",
       "\n",
       "  function run_inline_js() {\n",
       "    \n",
       "    if ((root.Bokeh !== undefined) || (force === true)) {\n",
       "      for (var i = 0; i < inline_js.length; i++) {\n",
       "        inline_js[i].call(root, root.Bokeh);\n",
       "      }if (force === true) {\n",
       "        display_loaded();\n",
       "      }} else if (Date.now() < root._bokeh_timeout) {\n",
       "      setTimeout(run_inline_js, 100);\n",
       "    } else if (!root._bokeh_failed_load) {\n",
       "      console.log(\"Bokeh: BokehJS failed to load within specified timeout.\");\n",
       "      root._bokeh_failed_load = true;\n",
       "    } else if (force !== true) {\n",
       "      var cell = $(document.getElementById(\"79df3d89-1c17-4bd8-9e8c-a84f32bbe97a\")).parents('.cell').data().cell;\n",
       "      cell.output_area.append_execute_result(NB_LOAD_WARNING)\n",
       "    }\n",
       "\n",
       "  }\n",
       "\n",
       "  if (root._bokeh_is_loading === 0) {\n",
       "    console.log(\"Bokeh: BokehJS loaded, going straight to plotting\");\n",
       "    run_inline_js();\n",
       "  } else {\n",
       "    load_libs(js_urls, function() {\n",
       "      console.log(\"Bokeh: BokehJS plotting callback run at\", now());\n",
       "      run_inline_js();\n",
       "    });\n",
       "  }\n",
       "}(window));"
      ],
      "application/vnd.bokehjs_load.v0+json": "\n(function(root) {\n  function now() {\n    return new Date();\n  }\n\n  var force = true;\n\n  if (typeof (root._bokeh_onload_callbacks) === \"undefined\" || force === true) {\n    root._bokeh_onload_callbacks = [];\n    root._bokeh_is_loading = undefined;\n  }\n\n  \n\n  \n  if (typeof (root._bokeh_timeout) === \"undefined\" || force === true) {\n    root._bokeh_timeout = Date.now() + 5000;\n    root._bokeh_failed_load = false;\n  }\n\n  var NB_LOAD_WARNING = {'data': {'text/html':\n     \"<div style='background-color: #fdd'>\\n\"+\n     \"<p>\\n\"+\n     \"BokehJS does not appear to have successfully loaded. If loading BokehJS from CDN, this \\n\"+\n     \"may be due to a slow or bad network connection. Possible fixes:\\n\"+\n     \"</p>\\n\"+\n     \"<ul>\\n\"+\n     \"<li>re-rerun `output_notebook()` to attempt to load from CDN again, or</li>\\n\"+\n     \"<li>use INLINE resources instead, as so:</li>\\n\"+\n     \"</ul>\\n\"+\n     \"<code>\\n\"+\n     \"from bokeh.resources import INLINE\\n\"+\n     \"output_notebook(resources=INLINE)\\n\"+\n     \"</code>\\n\"+\n     \"</div>\"}};\n\n  function display_loaded() {\n    var el = document.getElementById(\"79df3d89-1c17-4bd8-9e8c-a84f32bbe97a\");\n    if (el != null) {\n      el.textContent = \"BokehJS is loading...\";\n    }\n    if (root.Bokeh !== undefined) {\n      if (el != null) {\n        el.textContent = \"BokehJS \" + root.Bokeh.version + \" successfully loaded.\";\n      }\n    } else if (Date.now() < root._bokeh_timeout) {\n      setTimeout(display_loaded, 100)\n    }\n  }\n\n\n  function run_callbacks() {\n    try {\n      root._bokeh_onload_callbacks.forEach(function(callback) { callback() });\n    }\n    finally {\n      delete root._bokeh_onload_callbacks\n    }\n    console.info(\"Bokeh: all callbacks have finished\");\n  }\n\n  function load_libs(js_urls, callback) {\n    root._bokeh_onload_callbacks.push(callback);\n    if (root._bokeh_is_loading > 0) {\n      console.log(\"Bokeh: BokehJS is being loaded, scheduling callback at\", now());\n      return null;\n    }\n    if (js_urls == null || js_urls.length === 0) {\n      run_callbacks();\n      return null;\n    }\n    console.log(\"Bokeh: BokehJS not loaded, scheduling load and callback at\", now());\n    root._bokeh_is_loading = js_urls.length;\n    for (var i = 0; i < js_urls.length; i++) {\n      var url = js_urls[i];\n      var s = document.createElement('script');\n      s.src = url;\n      s.async = false;\n      s.onreadystatechange = s.onload = function() {\n        root._bokeh_is_loading--;\n        if (root._bokeh_is_loading === 0) {\n          console.log(\"Bokeh: all BokehJS libraries loaded\");\n          run_callbacks()\n        }\n      };\n      s.onerror = function() {\n        console.warn(\"failed to load library \" + url);\n      };\n      console.log(\"Bokeh: injecting script tag for BokehJS library: \", url);\n      document.getElementsByTagName(\"head\")[0].appendChild(s);\n    }\n  };var element = document.getElementById(\"79df3d89-1c17-4bd8-9e8c-a84f32bbe97a\");\n  if (element == null) {\n    console.log(\"Bokeh: ERROR: autoload.js configured with elementid '79df3d89-1c17-4bd8-9e8c-a84f32bbe97a' but no matching script tag was found. \")\n    return false;\n  }\n\n  var js_urls = [\"https://cdn.pydata.org/bokeh/release/bokeh-0.12.15.min.js\", \"https://cdn.pydata.org/bokeh/release/bokeh-widgets-0.12.15.min.js\", \"https://cdn.pydata.org/bokeh/release/bokeh-tables-0.12.15.min.js\", \"https://cdn.pydata.org/bokeh/release/bokeh-gl-0.12.15.min.js\"];\n\n  var inline_js = [\n    function(Bokeh) {\n      Bokeh.set_log_level(\"info\");\n    },\n    \n    function(Bokeh) {\n      \n    },\n    function(Bokeh) {\n      console.log(\"Bokeh: injecting CSS: https://cdn.pydata.org/bokeh/release/bokeh-0.12.15.min.css\");\n      Bokeh.embed.inject_css(\"https://cdn.pydata.org/bokeh/release/bokeh-0.12.15.min.css\");\n      console.log(\"Bokeh: injecting CSS: https://cdn.pydata.org/bokeh/release/bokeh-widgets-0.12.15.min.css\");\n      Bokeh.embed.inject_css(\"https://cdn.pydata.org/bokeh/release/bokeh-widgets-0.12.15.min.css\");\n      console.log(\"Bokeh: injecting CSS: https://cdn.pydata.org/bokeh/release/bokeh-tables-0.12.15.min.css\");\n      Bokeh.embed.inject_css(\"https://cdn.pydata.org/bokeh/release/bokeh-tables-0.12.15.min.css\");\n    }\n  ];\n\n  function run_inline_js() {\n    \n    if ((root.Bokeh !== undefined) || (force === true)) {\n      for (var i = 0; i < inline_js.length; i++) {\n        inline_js[i].call(root, root.Bokeh);\n      }if (force === true) {\n        display_loaded();\n      }} else if (Date.now() < root._bokeh_timeout) {\n      setTimeout(run_inline_js, 100);\n    } else if (!root._bokeh_failed_load) {\n      console.log(\"Bokeh: BokehJS failed to load within specified timeout.\");\n      root._bokeh_failed_load = true;\n    } else if (force !== true) {\n      var cell = $(document.getElementById(\"79df3d89-1c17-4bd8-9e8c-a84f32bbe97a\")).parents('.cell').data().cell;\n      cell.output_area.append_execute_result(NB_LOAD_WARNING)\n    }\n\n  }\n\n  if (root._bokeh_is_loading === 0) {\n    console.log(\"Bokeh: BokehJS loaded, going straight to plotting\");\n    run_inline_js();\n  } else {\n    load_libs(js_urls, function() {\n      console.log(\"Bokeh: BokehJS plotting callback run at\", now());\n      run_inline_js();\n    });\n  }\n}(window));"
     },
     "metadata": {},
     "output_type": "display_data"
    }
   ],
   "source": [
    "from bokeh.io import output_notebook\n",
    "output_notebook()"
   ]
  },
  {
   "cell_type": "code",
   "execution_count": 33,
   "metadata": {},
   "outputs": [],
   "source": [
    "import collections\n",
    "import glob\n",
    "import json\n",
    "import pickle\n",
    "\n",
    "from multiprocessing.pool import Pool, ThreadPool\n",
    "\n",
    "import numpy as np\n",
    "import pandas as pd\n",
    "\n",
    "import dask\n",
    "import dask.dataframe as dd\n",
    "import dask.bag as db\n",
    "from dask.diagnostics import ProgressBar, Profiler, ResourceProfiler, CacheProfiler, visualize"
   ]
  },
  {
   "cell_type": "code",
   "execution_count": 4,
   "metadata": {},
   "outputs": [],
   "source": [
    "import random_indexing as ri"
   ]
  },
  {
   "cell_type": "code",
   "execution_count": 57,
   "metadata": {},
   "outputs": [],
   "source": [
    "load_tweets = (\n",
    "    db.read_text('rehydrated_tweets_dump.jsonl', blocksize=200*(1024**1))\n",
    "    .map(json.loads)\n",
    ")"
   ]
  },
  {
   "cell_type": "code",
   "execution_count": 6,
   "metadata": {
    "scrolled": false
   },
   "outputs": [
    {
     "name": "stdout",
     "output_type": "stream",
     "text": [
      "[########################################] | 100% Completed | 25.1s\n",
      "CPU times: user 13.8 s, sys: 856 ms, total: 14.7 s\n",
      "Wall time: 25.9 s\n"
     ]
    }
   ],
   "source": [
    "%%time\n",
    "_ = (\n",
    "    load_tweets\n",
    "    .pluck('text', '')\n",
    "    .flatten()\n",
    "    .frequencies()\n",
    ")\n",
    "\n",
    "with ProgressBar():\n",
    "    _ = _.compute()\n",
    "\n",
    "vocabulary = pd.DataFrame.from_records(\n",
    "    _,\n",
    "    columns=['letter', 'count'],\n",
    "    index='letter',\n",
    ")\n",
    "vocabulary.loc[''] = 0\n",
    "\n",
    "vocabulary = vocabulary['count'].sort_values(ascending=False)"
   ]
  },
  {
   "cell_type": "code",
   "execution_count": 7,
   "metadata": {},
   "outputs": [
    {
     "data": {
      "text/plain": [
       "4680"
      ]
     },
     "execution_count": 7,
     "metadata": {},
     "output_type": "execute_result"
    }
   ],
   "source": [
    "len(vocabulary)"
   ]
  },
  {
   "cell_type": "code",
   "execution_count": 8,
   "metadata": {},
   "outputs": [],
   "source": [
    "D = 10_000"
   ]
  },
  {
   "cell_type": "code",
   "execution_count": 9,
   "metadata": {},
   "outputs": [],
   "source": [
    "features = ri.Features(vocabulary.index, D=D)"
   ]
  },
  {
   "cell_type": "code",
   "execution_count": 60,
   "metadata": {},
   "outputs": [
    {
     "name": "stdout",
     "output_type": "stream",
     "text": [
      "[#############                           ] | 33% Completed | 23.4s"
     ]
    },
    {
     "name": "stderr",
     "output_type": "stream",
     "text": [
      "/Users/dimazest/miniconda3/lib/python3.6/site-packages/dask/bag/core.py:2081: UserWarning: Insufficient elements for `take`. 10000 elements requested, only 1723 elements available. Try passing larger `npartitions` to `take`.\n",
      "  \"larger `npartitions` to `take`.\".format(n, len(r)))\n"
     ]
    },
    {
     "name": "stdout",
     "output_type": "stream",
     "text": [
      "[########################################] | 100% Completed | 34.3s\n",
      "[####################                    ] | 50% Completed | 20.7s"
     ]
    },
    {
     "name": "stderr",
     "output_type": "stream",
     "text": [
      "/Users/dimazest/miniconda3/lib/python3.6/site-packages/dask/bag/core.py:2081: UserWarning: Insufficient elements for `take`. 10000 elements requested, only 1723 elements available. Try passing larger `npartitions` to `take`.\n",
      "  \"larger `npartitions` to `take`.\".format(n, len(r)))\n"
     ]
    },
    {
     "name": "stdout",
     "output_type": "stream",
     "text": [
      "[########################################] | 100% Completed | 38.8s\n",
      "CPU times: user 7.3 s, sys: 6.54 s, total: 13.8 s\n",
      "Wall time: 1min 18s\n"
     ]
    }
   ],
   "source": [
    "%%time\n",
    "\n",
    "def pool_init(features):\n",
    "    import imp, sys\n",
    "    __ctx = imp.new_module('__ctx')\n",
    "    sys.modules['__ctx'] = __ctx\n",
    "    \n",
    "    __ctx.features = features\n",
    "\n",
    "def vectorize(tweet):\n",
    "    import numpy as np\n",
    "    import random_indexing as ri\n",
    "    \n",
    "    from __ctx import features\n",
    "    \n",
    "    text = tweet['text']\n",
    "    tweet_vector = np.stack(ri.vectorize(text, window_length=3, features=features)).prod(axis=0)\n",
    "    \n",
    "    return np.concatenate([[tweet['tweet_id']], tweet_vector])\n",
    "\n",
    "with Pool(processes=2, initializer=pool_init, initargs=[features]) as pool:\n",
    "    with dask.set_options(\n",
    "        pool=pool,\n",
    "        get=dask.multiprocessing.get,\n",
    "    ), ProgressBar():\n",
    "        with Profiler() as prof, ResourceProfiler(dt=0.25) as rprof, CacheProfiler() as cprof:\n",
    "\n",
    "            pool_init(features)    \n",
    "\n",
    "            result = (\n",
    "                load_tweets\n",
    "                .map(vectorize)\n",
    "                .take(10_000, compute=False, npartitions=2)\n",
    "                .to_dataframe(meta=[('tweet_id', 'int64')] + [(str(k), 'int16') for k in range(D)])\n",
    "                .set_index('tweet_id', sorted=True, npartitions='auto')\n",
    "            )\n",
    "\n",
    "            dd.to_parquet(result, 'tweet_vectors.parquet', write_index=True)"
   ]
  },
  {
   "cell_type": "code",
   "execution_count": 61,
   "metadata": {},
   "outputs": [
    {
     "data": {
      "text/html": [
       "\n",
       "<div class=\"bk-root\">\n",
       "    <div class=\"bk-plotdiv\" id=\"2e92b341-75b6-4181-bb5f-ec16bfe98f7d\"></div>\n",
       "</div>"
      ]
     },
     "metadata": {},
     "output_type": "display_data"
    },
    {
     "data": {
      "application/javascript": [
       "(function(root) {\n",
       "  function embed_document(root) {\n",
       "    \n",
       "  var docs_json = {\"8d0f1acb-0cb3-4e72-b859-1ee30521056f\":{\"roots\":{\"references\":[{\"attributes\":{\"active_drag\":\"auto\",\"active_inspect\":\"auto\",\"active_scroll\":\"auto\",\"active_tap\":\"auto\",\"tools\":[{\"id\":\"a107e411-9be9-4ce0-86d8-f2c70f746051\",\"type\":\"HoverTool\"},{\"id\":\"3602f328-c980-488b-8235-a65556a8423f\",\"type\":\"SaveTool\"},{\"id\":\"0ef41cdd-cd7f-440d-b652-18f77587530d\",\"type\":\"ResetTool\"},{\"id\":\"047e6715-bd8e-4579-844b-4ab4ca9a8846\",\"type\":\"WheelZoomTool\"},{\"id\":\"aa0a00b5-5de5-4cc1-bae3-149e0ad9a1d9\",\"type\":\"PanTool\"}]},\"id\":\"76b88503-3c98-452b-b76a-ac15e6bccee7\",\"type\":\"Toolbar\"},{\"attributes\":{\"callback\":null,\"column_names\":[\"x\",\"y\"],\"data\":{\"x\":[0.0,0.2512041899608448,0.5025390069931746,0.7536705599632114,1.004964247928001,1.2557808789424598,1.5063893250189722,1.757480742991902,2.0176319329766557,2.269000230007805,2.519614182994701,2.77018357696943,3.021521177026443,3.273949397029355,3.525309421005659,3.7767543180380017,4.0282960089389235,4.279758680029772,4.53043861896731,4.782166766934097,5.033572013024241,5.284975801943801,5.536366296932101,5.787439162959345,6.03848772495985,6.294284799019806,6.544943018932827,6.796457664924674,7.046969914925285,7.300479058991186,7.551994515932165,7.803514007944614,8.054950378020294,8.305464679957367,8.55682604399044,8.808721701963805,9.059155795024708,9.309737400035374,9.561374271987006,9.819630395038985,10.071981200948358,10.323025038000196,10.574329535942525,10.824899116996676,11.075449025025591,11.326562250964344,11.577958705020137,11.829386029974557,12.080823833006434,12.33236500795465,12.58302508899942,12.834322261973284,13.085001897998154,13.33554823603481,13.586473317001946,13.83741394802928,14.089207076001912,14.339898213976994,14.590460282983258,14.841104713035747,15.092435335973278,15.343290759949014,15.595172113971785,15.846475447993726,16.097803656943142,16.34836229798384,16.598747957963496,16.850098322029226,17.101524353027344,17.351902900030836,17.602579575031996,17.853974085999653,18.104993777931668,18.355901818955317,18.60746463900432,18.8587276119506,19.109120015986264,19.36060442693997,19.612057295977138,19.863526541972533,20.11452952795662,20.366440834011883,20.616851620958187,20.86745521996636,21.11782373301685,21.371768955956213,21.624987615039572,21.87738643202465,22.128312606015243,22.379691948997788,22.631102302926593,22.881773171015084,23.13347119395621,23.38521881599445,23.636215521954,23.887133267940953,24.13844850100577,24.389289511018433,24.639910244033672,24.890593176009133,25.142134906025603,25.393091381993145,25.644293955992907,25.895958774955943,26.147402103990316,26.398745085927658,26.649648878956214,26.90034685295541,27.151925371959805,27.40269801800605,27.654264883021824,27.905660843942314,28.15695695602335,28.40833861893043,28.659108113963157,28.910533371032216,29.16138739499729,29.412769615999423,29.664019776973873,29.91434689098969,30.164845347986557,30.41598280193284,30.667441320954822,30.91789214196615,31.16869779198896,31.41913058294449,31.670265358989127,31.921635673963465,32.17295178899076,32.42435092793312,32.67580258299131,32.9271500390023,33.1785814500181,33.430041574989446,33.680560564040206,33.931354478001595,34.18217361799907,34.433578728931025,34.68418498698156,34.93582715501543,35.18726711394265,35.4386735400185,35.68936581898015,35.94076241203584,36.1920744109666,36.44338896300178,36.69421081303153,36.945523433969356,37.19676341197919,37.44822033797391,37.69951469893567,37.95081443001982,38.20211739093065,38.45472916099243,38.70555052103009,38.956868284964,39.20781979896128,39.45933718897868,39.721718008979224,39.97255938092712,40.22356373700313,40.475062428973615,40.726462704944424,40.977909990004264,41.22849538002629,41.479998472030275,41.73143257095944,41.98340345302131,42.23490723897703,42.48694432899356,42.737508181948215,42.98801251698751,43.238950771978125,43.489559564972296,43.740989638026804,43.99244631000329,44.244005716987886,44.495434873970225,44.7468266650103,44.99823468597606,45.24901203496847,45.49978213396389,45.75148156599607,46.005505351000465,46.25714763998985,46.50855717994273,46.75987395492848,47.01131560502108,47.26275187602732,47.514228275977075,47.765660358942114,48.01621296093799,48.26767261500936,48.51877181301825,48.77080424595624,49.02336486999411,49.274922735989094,49.526344529003836,49.77776890003588,50.029181294026785,50.28024334902875,50.530964880017564,50.78239449195098,51.03380436694715,51.28499875497073,51.536477493005805,51.78777478297707,52.03862695698626,52.290253123035654,52.54156022903044,52.792894967016764,53.04436135699507,53.29579215601552,53.54676730593201,53.79782160802279,54.048255897942,54.29875006794464,54.55019421200268,54.80163461796474,55.0530473459512,55.30444570397958,55.55592744296882,55.80747584195342,56.0587937530363,56.310098679037765,56.56144190498162,56.81291054293979,57.064383883960545,57.31506802502554,57.56649291398935,57.81754079903476,58.068899314966984,58.32024215697311,58.5717257889919,58.82298727799207,59.07447178894654,59.3259283680236,59.57682618801482,59.82812379999086,60.079568368033506,60.330911032971926,60.58189249201678,60.832598023931496,61.0841333050048,61.33551925595384,61.58682043594308,61.83836630603764,62.08958344394341,62.34015704295598,62.591037094942294,62.84227591601666,63.0941184819676,63.34600233100355,63.596784902969375,63.84802551998291,64.09889429295436,64.35031343600713,64.60159396298695,64.85316807893105,65.10466611001175,65.35517023096327,65.60655628296081,65.85785183194093,66.10917377192527,66.35983666498214,66.61123507993761,66.86252995603718,67.11292895092629,67.36367988295387,67.61501529195812,67.86590101302136,68.11711165495217,68.36789604392834,68.61832026496995,68.86982759193052,69.12142470898107,69.37270753295161,69.62338232295588,69.87470471893903,70.12608510395512,70.3774171989644,70.62875820498448,70.88019563199487,71.13150431902613,71.3828981469851,71.63436492299661,71.88543570996262,72.13638739101589,72.3875664229272,72.63922550796997,72.89067787199747,73.14159792801365,73.3926747989608,73.64408639201429,73.89536771294661,74.14667495293543,74.3979887739988,74.64969546196517,74.90167589799967,75.152049388038,75.40349363803398,75.65423039800953,75.90560542594176,76.15653828904033,76.4071149280062,76.65850060794037,76.90979501896072,77.16111045598518,77.41268431802746,77.66400269896258,77.91515546792652,78.1657181190094],\"y\":[0.0,98.3,98.6,98.6,99.39999999999999,99.0,99.7,99.19999999999999,55.8,199.39999999999998,196.8,176.9,181.5,183.1,195.8,199.10000000000002,198.79999999999998,199.4,196.9,193.89999999999998,199.7,198.89999999999998,197.8,196.9,192.0,184.9,179.10000000000002,185.39999999999998,188.1,196.8,188.89999999999998,194.39999999999998,191.2,190.2,63.300000000000004,75.6,170.8,177.5,187.3,171.60000000000002,122.69999999999999,135.8,177.60000000000002,189.39999999999998,189.4,197.5,196.8,201.5,196.2,202.7,198.60000000000002,196.5,185.7,158.4,113.2,122.4,101.4,101.2,101.10000000000001,107.10000000000001,98.9,99.2,102.4,101.0,101.9,101.1,100.5,103.2,98.6,87.9,86.60000000000001,82.60000000000001,100.0,101.6,101.1,102.5,102.2,102.30000000000001,101.69999999999999,99.3,103.9,100.3,102.3,103.30000000000001,103.7,100.2,101.0,104.1,101.3,101.69999999999999,101.9,100.9,103.3,101.2,99.80000000000001,101.0,101.89999999999999,101.4,103.3,103.3,110.3,97.2,100.9,100.2,99.9,81.2,93.89999999999999,86.3,87.0,96.89999999999999,98.3,100.6,100.5,94.7,96.6,101.10000000000001,99.7,99.8,101.0,100.5,98.4,99.5,98.5,100.2,98.6,98.2,100.5,100.5,100.0,100.4,100.0,100.80000000000001,99.4,98.5,102.2,100.5,101.5,99.0,100.9,102.89999999999999,100.8,100.39999999999999,99.6,101.6,67.9,99.69999999999999,99.89999999999999,99.19999999999999,97.69999999999999,99.4,99.69999999999999,98.0,92.3,94.10000000000001,98.89999999999999,95.9,28.8,72.8,15.4,191.2,189.8,192.0,181.5,182.2,197.2,195.1,198.5,199.1,197.0,196.2,199.4,192.3,199.8,196.0,192.4,192.0,189.8,180.4,198.0,200.3,171.8,196.89999999999998,196.4,196.7,190.5,181.4,196.7,198.0,199.8,192.20000000000002,194.2,203.0,197.8,194.60000000000002,195.5,194.10000000000002,197.4,193.0,202.6,148.9,101.8,100.49999999999999,98.10000000000001,100.89999999999999,107.3,102.2,102.19999999999999,102.8,105.7,99.39999999999999,99.89999999999999,94.8,101.7,102.9,101.8,102.1,101.89999999999999,100.2,104.0,101.39999999999999,102.5,100.8,102.0,100.39999999999999,102.10000000000001,101.9,102.10000000000001,102.0,101.39999999999999,102.30000000000001,101.8,101.7,102.3,102.2,102.2,100.89999999999999,103.0,102.30000000000001,102.69999999999999,113.39999999999999,101.9,100.5,98.9,97.7,91.0,86.0,70.0,88.4,98.9,99.7,97.69999999999999,97.8,95.39999999999999,87.19999999999999,100.30000000000001,100.8,100.0,100.80000000000001,100.1,100.6,96.7,99.1,100.5,97.5,100.2,101.2,100.80000000000001,90.3,91.10000000000001,96.9,98.0,97.60000000000001,99.7,99.7,101.3,100.2,99.4,99.3,99.0,100.0,99.8,99.5,99.7,99.7,102.0,95.39999999999999,98.3,101.1,100.9,100.60000000000001,99.5,95.39999999999999,94.0,96.8,100.2,101.4,99.7,100.2,99.0,99.1,97.39999999999999,98.1,98.39999999999999,98.6,98.8,97.6,99.2,99.5,97.8,103.1,99.7,98.89999999999999]},\"selected\":null,\"selection_policy\":null},\"id\":\"7680608a-dee4-4175-b4b5-0d301ac330ec\",\"type\":\"ColumnDataSource\"},{\"attributes\":{\"line_alpha\":0.1,\"line_color\":\"#1f77b4\",\"line_width\":3,\"x\":{\"field\":\"x\"},\"y\":{\"field\":\"y\"}},\"id\":\"8a8d69bc-cec1-46a4-8dc1-3bb2db35e410\",\"type\":\"Line\"},{\"attributes\":{\"callback\":null,\"column_names\":[\"x\",\"y\",\"label\"],\"data\":{\"label\":[\"getattr(apply_and_enforce(...), *)\",\"getattr(apply_and_enforce(...), *)\",\"getattr(apply_and_enforce(...), *)\",\"getattr(apply_and_enforce(...), *)\",\"getattr(apply_and_enforce(...), *)\",\"getattr(apply_and_enforce(...), *)\",\"getattr(apply_and_enforce(...), *)\",\"getattr(apply_and_enforce(...), *)\",\"getattr(apply_and_enforce(...), *)\",\"getattr(apply_and_enforce(...), *)\",\"getattr(apply_and_enforce(...), *)\",\"getattr(apply_and_enforce(...), *)\",\"getattr(apply_and_enforce(...), *)\"],\"x\":[0,13.12079432606697,14.944649457000196,34.16168816504069,34.165387782035396,34.16834243002813,34.170165256015025,34.17033283703495,49.31244312110357,50.492241223109886,76.33871663501486,76.34002582600806,76.3400671830168],\"y\":[0,0,0,1,0,0,0,0,0,0,0,0,0]},\"selected\":null,\"selection_policy\":null},\"id\":\"2732e43b-d7a3-4c8b-9543-5e00a6279b08\",\"type\":\"ColumnDataSource\"},{\"attributes\":{},\"id\":\"3602f328-c980-488b-8235-a65556a8423f\",\"type\":\"SaveTool\"},{\"attributes\":{},\"id\":\"ed4fbfa1-17c4-4c58-b6ea-4e200297047e\",\"type\":\"BasicTicker\"},{\"attributes\":{\"dimensions\":\"width\"},\"id\":\"63c2dcde-1004-47eb-af91-134e5add2313\",\"type\":\"PanTool\"},{\"attributes\":{\"source\":{\"id\":\"7680608a-dee4-4175-b4b5-0d301ac330ec\",\"type\":\"ColumnDataSource\"}},\"id\":\"442db1fe-dbfa-4292-b813-d458bf6df582\",\"type\":\"CDSView\"},{\"attributes\":{\"callback\":null,\"tooltips\":\"\\n    <div>\\n        <span style=\\\"font-size: 14px; font-weight: bold;\\\">Task:</span>&nbsp;\\n        <span style=\\\"font-size: 10px; font-family: Monaco, monospace;\\\">@label</span>\\n    </div>\\n    \"},\"id\":\"a107e411-9be9-4ce0-86d8-f2c70f746051\",\"type\":\"HoverTool\"},{\"attributes\":{},\"id\":\"5f84ae18-9e93-465f-bb4e-57281b668759\",\"type\":\"BasicTickFormatter\"},{\"attributes\":{\"data_source\":{\"id\":\"2732e43b-d7a3-4c8b-9543-5e00a6279b08\",\"type\":\"ColumnDataSource\"},\"glyph\":{\"id\":\"a628e879-cd93-4c40-a4b0-74f0ed0c27cc\",\"type\":\"Line\"},\"hover_glyph\":null,\"muted_glyph\":null,\"nonselection_glyph\":{\"id\":\"4fed2a62-9bfd-4405-a817-2fa165aef97d\",\"type\":\"Line\"},\"selection_glyph\":null,\"view\":{\"id\":\"2e5ab460-30ec-44e9-be05-c92d929e8458\",\"type\":\"CDSView\"}},\"id\":\"32ae9293-30a3-46be-b253-21ca3e1fdf79\",\"type\":\"GlyphRenderer\"},{\"attributes\":{\"below\":[{\"id\":\"decc49dc-aae3-4a20-a774-8541bf3b78e3\",\"type\":\"LinearAxis\"}],\"left\":[{\"id\":\"332ec9d0-c25b-4378-8e85-7bcf4fe0641b\",\"type\":\"CategoricalAxis\"}],\"min_border_bottom\":20,\"min_border_left\":75,\"min_border_right\":75,\"plot_height\":270,\"plot_width\":800,\"renderers\":[{\"id\":\"decc49dc-aae3-4a20-a774-8541bf3b78e3\",\"type\":\"LinearAxis\"},{\"id\":\"a82bdd92-01a5-4a20-bd43-bc98addec683\",\"type\":\"Grid\"},{\"id\":\"332ec9d0-c25b-4378-8e85-7bcf4fe0641b\",\"type\":\"CategoricalAxis\"},{\"id\":\"2cd604b5-f8d6-44fc-9e09-c5a403f3b39b\",\"type\":\"Grid\"},{\"id\":\"9d9a38bb-a79d-4661-8cc1-ed31424301d7\",\"type\":\"GlyphRenderer\"}],\"title\":{\"id\":\"6508d2c0-c705-432f-8ab5-5a0375419efa\",\"type\":\"Title\"},\"toolbar\":{\"id\":\"4a0cd481-56f6-4bb7-8331-95bdd00e19ab\",\"type\":\"Toolbar\"},\"toolbar_location\":null,\"x_range\":{\"id\":\"d9f3b444-e968-4f15-8b13-c746433770bc\",\"type\":\"Range1d\"},\"x_scale\":{\"id\":\"584fe96f-17c9-4fa0-8dc8-e76e9e56cdf8\",\"type\":\"LinearScale\"},\"y_range\":{\"id\":\"22ef5709-13b2-4bf1-8005-e0593a8c8835\",\"type\":\"FactorRange\"},\"y_scale\":{\"id\":\"e3cc8165-6757-4cf6-a7b9-86f288dc64c5\",\"type\":\"CategoricalScale\"}},\"id\":\"3f279de3-d09a-4ea3-812f-9190ffdc8ead\",\"subtype\":\"Figure\",\"type\":\"Plot\"},{\"attributes\":{\"axis_label\":null,\"formatter\":{\"id\":\"20393493-f93e-4da3-b7f3-3d2736cb01ef\",\"type\":\"BasicTickFormatter\"},\"plot\":{\"id\":\"69f125a6-3126-413f-905f-eb1a9b42fe00\",\"subtype\":\"Figure\",\"type\":\"Plot\"},\"ticker\":{\"id\":\"9c4f3622-f6ec-4902-a899-2e1247ab5b7d\",\"type\":\"BasicTicker\"}},\"id\":\"756eeeab-51ab-4917-9cef-22a50a05fde5\",\"type\":\"LinearAxis\"},{\"attributes\":{\"source\":{\"id\":\"cc2cc8a0-b03c-4f00-9b5e-861535360795\",\"type\":\"ColumnDataSource\"}},\"id\":\"c493e59c-8e25-427c-9854-522244c9bb75\",\"type\":\"CDSView\"},{\"attributes\":{},\"id\":\"0ef41cdd-cd7f-440d-b652-18f77587530d\",\"type\":\"ResetTool\"},{\"attributes\":{\"line_alpha\":0.1,\"line_color\":\"#1f77b4\",\"line_width\":4,\"x\":{\"field\":\"x\"},\"y\":{\"field\":\"y\"}},\"id\":\"8a6f5bd7-8e80-4e27-8ed7-46b30806baf7\",\"type\":\"Line\"},{\"attributes\":{\"source\":{\"id\":\"a833a6d5-8912-4e3c-8699-e9ceef9b54b6\",\"type\":\"ColumnDataSource\"}},\"id\":\"bf1d763a-aa51-4385-b8ea-0c9734fd9f4e\",\"type\":\"CDSView\"},{\"attributes\":{\"grid_line_color\":{\"value\":null},\"plot\":{\"id\":\"3f279de3-d09a-4ea3-812f-9190ffdc8ead\",\"subtype\":\"Figure\",\"type\":\"Plot\"},\"ticker\":{\"id\":\"2dc3bc50-792d-48b2-b74f-2e136414da99\",\"type\":\"BasicTicker\"}},\"id\":\"a82bdd92-01a5-4a20-bd43-bc98addec683\",\"type\":\"Grid\"},{\"attributes\":{},\"id\":\"c2f64229-48d2-432d-8a42-c070af7b7ed6\",\"type\":\"BasicTicker\"},{\"attributes\":{},\"id\":\"d33f04b9-c3d0-4f43-8251-daabe64d5e72\",\"type\":\"SaveTool\"},{\"attributes\":{\"axis_label\":\"Memory (MB)\",\"formatter\":{\"id\":\"f16e19a9-67a2-4260-a455-09143e4c0867\",\"type\":\"BasicTickFormatter\"},\"plot\":{\"id\":\"69f125a6-3126-413f-905f-eb1a9b42fe00\",\"subtype\":\"Figure\",\"type\":\"Plot\"},\"ticker\":{\"id\":\"abbd87b0-326c-446f-90e7-1421bab68890\",\"type\":\"BasicTicker\"},\"y_range_name\":\"memory\"},\"id\":\"541280f8-be3a-4d2e-ad52-109b46b0c0e2\",\"type\":\"LinearAxis\"},{\"attributes\":{\"line_alpha\":0.1,\"line_color\":\"#1f77b4\",\"line_width\":4,\"x\":{\"field\":\"x\"},\"y\":{\"field\":\"y\"}},\"id\":\"daca7d4d-0785-49fc-9688-fd80133d8322\",\"type\":\"Line\"},{\"attributes\":{},\"id\":\"20393493-f93e-4da3-b7f3-3d2736cb01ef\",\"type\":\"BasicTickFormatter\"},{\"attributes\":{},\"id\":\"047e6715-bd8e-4579-844b-4ab4ca9a8846\",\"type\":\"WheelZoomTool\"},{\"attributes\":{\"line_color\":\"#440154\",\"line_width\":4,\"x\":{\"field\":\"x\"},\"y\":{\"field\":\"y\"}},\"id\":\"1fcd20d3-659b-4527-b198-ff96ddab76ab\",\"type\":\"Line\"},{\"attributes\":{\"dimension\":1,\"grid_line_color\":{\"value\":null},\"plot\":{\"id\":\"3f279de3-d09a-4ea3-812f-9190ffdc8ead\",\"subtype\":\"Figure\",\"type\":\"Plot\"},\"ticker\":{\"id\":\"f08b53e3-47b4-46a5-82d2-8d67a5ecd3d3\",\"type\":\"CategoricalTicker\"}},\"id\":\"2cd604b5-f8d6-44fc-9e09-c5a403f3b39b\",\"type\":\"Grid\"},{\"attributes\":{\"line_alpha\":0.1,\"line_color\":\"#1f77b4\",\"line_width\":3,\"x\":{\"field\":\"x\"},\"y\":{\"field\":\"y\"}},\"id\":\"58f3f77e-dc2d-4a3f-9f53-faae421a9653\",\"type\":\"Line\"},{\"attributes\":{},\"id\":\"17aad3b9-c140-430c-97bd-aeeabd3a453c\",\"type\":\"CategoricalTickFormatter\"},{\"attributes\":{\"dimensions\":\"width\"},\"id\":\"ee1ac0f0-feeb-466a-9267-a58ac2855d7f\",\"type\":\"WheelZoomTool\"},{\"attributes\":{},\"id\":\"abbd87b0-326c-446f-90e7-1421bab68890\",\"type\":\"BasicTicker\"},{\"attributes\":{\"axis_label\":\"Cache Size (count)\",\"formatter\":{\"id\":\"443d1a16-3b4f-43be-8caf-924e6b3047bc\",\"type\":\"BasicTickFormatter\"},\"plot\":{\"id\":\"7e842a72-a006-4d9f-981c-762bf1e8bf35\",\"subtype\":\"Figure\",\"type\":\"Plot\"},\"ticker\":{\"id\":\"afc95785-6802-4adc-a608-0537225b17f0\",\"type\":\"BasicTicker\"}},\"id\":\"68eab0b3-e85e-4729-af89-9497f2b59e00\",\"type\":\"LinearAxis\"},{\"attributes\":{\"source\":{\"id\":\"5d73e64c-63d6-4232-b23f-5258a4777a64\",\"type\":\"ColumnDataSource\"}},\"id\":\"80b5da27-d3b7-41ef-8e87-b00d0e7d065a\",\"type\":\"CDSView\"},{\"attributes\":{\"callback\":null},\"id\":\"6bbec7dc-7af3-4200-9628-bbdab1538336\",\"type\":\"DataRange1d\"},{\"attributes\":{\"below\":[{\"id\":\"756eeeab-51ab-4917-9cef-22a50a05fde5\",\"type\":\"LinearAxis\"}],\"extra_y_ranges\":{\"memory\":{\"id\":\"ff30a41e-d4a5-4fb1-8645-d8a9cc5c6030\",\"type\":\"Range1d\"}},\"left\":[{\"id\":\"9e36fa75-b4ab-4536-9927-4b1b0a9a3c23\",\"type\":\"LinearAxis\"}],\"min_border_bottom\":20,\"min_border_left\":75,\"min_border_right\":75,\"min_border_top\":20,\"plot_height\":240,\"plot_width\":800,\"renderers\":[{\"id\":\"756eeeab-51ab-4917-9cef-22a50a05fde5\",\"type\":\"LinearAxis\"},{\"id\":\"6e651f3b-be05-454b-8ce8-e4f398a38a12\",\"type\":\"Grid\"},{\"id\":\"9e36fa75-b4ab-4536-9927-4b1b0a9a3c23\",\"type\":\"LinearAxis\"},{\"id\":\"3bdf3ea8-a8cd-4a95-80ea-70565b75e45d\",\"type\":\"Grid\"},{\"id\":\"ae69f727-ff00-41a7-8476-8e50867ead2e\",\"type\":\"Legend\"},{\"id\":\"64258344-77b9-4f4a-8891-73751bee1c0e\",\"type\":\"GlyphRenderer\"},{\"id\":\"32736237-14da-431b-ad41-2d59344c1ff1\",\"type\":\"GlyphRenderer\"},{\"id\":\"541280f8-be3a-4d2e-ad52-109b46b0c0e2\",\"type\":\"LinearAxis\"}],\"right\":[{\"id\":\"541280f8-be3a-4d2e-ad52-109b46b0c0e2\",\"type\":\"LinearAxis\"}],\"title\":null,\"toolbar\":{\"id\":\"a147841e-bc57-41cc-abee-21ba1636f108\",\"type\":\"Toolbar\"},\"toolbar_location\":null,\"x_range\":{\"id\":\"d9f3b444-e968-4f15-8b13-c746433770bc\",\"type\":\"Range1d\"},\"x_scale\":{\"id\":\"84d3d180-7733-42cb-939a-ec50197bb0e5\",\"type\":\"LinearScale\"},\"y_range\":{\"id\":\"49e23e88-f7e9-4e4e-b34f-a17fbfb894a9\",\"type\":\"Range1d\"},\"y_scale\":{\"id\":\"ad100b83-5574-4c9a-b4f6-f4a9e6995db2\",\"type\":\"LinearScale\"}},\"id\":\"69f125a6-3126-413f-905f-eb1a9b42fe00\",\"subtype\":\"Figure\",\"type\":\"Plot\"},{\"attributes\":{\"dimensions\":\"width\"},\"id\":\"8176149d-d37f-41ee-ac09-298a611f614e\",\"type\":\"PanTool\"},{\"attributes\":{\"callback\":null,\"column_names\":[\"x\",\"y\",\"label\"],\"data\":{\"label\":[\"list(take(*, map_chunk(...)))\",\"list(take(*, map_chunk(...)))\",\"list(take(*, map_chunk(...)))\",\"list(take(*, map_chunk(...)))\",\"list(take(*, map_chunk(...)))\",\"list(take(*, map_chunk(...)))\",\"list(take(*, map_chunk(...)))\",\"list(take(*, map_chunk(...)))\",\"list(take(*, map_chunk(...)))\",\"list(take(*, map_chunk(...)))\",\"list(take(*, map_chunk(...)))\",\"list(take(*, map_chunk(...)))\",\"list(take(*, map_chunk(...)))\"],\"x\":[0,13.12079432606697,14.944649457000196,34.16168816504069,34.165387782035396,34.16834243002813,34.170165256015025,34.17033283703495,49.31244312110357,50.492241223109886,76.33871663501486,76.34002582600806,76.3400671830168],\"y\":[0,1,2,0,0,0,0,0,1,2,0,0,0]},\"selected\":null,\"selection_policy\":null},\"id\":\"cc2cc8a0-b03c-4f00-9b5e-861535360795\",\"type\":\"ColumnDataSource\"},{\"attributes\":{\"axis_label\":\"% CPU\",\"formatter\":{\"id\":\"5f84ae18-9e93-465f-bb4e-57281b668759\",\"type\":\"BasicTickFormatter\"},\"plot\":{\"id\":\"69f125a6-3126-413f-905f-eb1a9b42fe00\",\"subtype\":\"Figure\",\"type\":\"Plot\"},\"ticker\":{\"id\":\"c2f64229-48d2-432d-8a42-c070af7b7ed6\",\"type\":\"BasicTicker\"}},\"id\":\"9e36fa75-b4ab-4536-9927-4b1b0a9a3c23\",\"type\":\"LinearAxis\"},{\"attributes\":{\"active_drag\":\"auto\",\"active_inspect\":\"auto\",\"active_scroll\":\"auto\",\"active_tap\":\"auto\",\"tools\":[{\"id\":\"7a6f963b-8985-4c51-ad7d-ade1f9302a72\",\"type\":\"HoverTool\"},{\"id\":\"d33f04b9-c3d0-4f43-8251-daabe64d5e72\",\"type\":\"SaveTool\"},{\"id\":\"7ef1c907-8ed4-4473-98db-e11ef874ea5c\",\"type\":\"ResetTool\"},{\"id\":\"ee1ac0f0-feeb-466a-9267-a58ac2855d7f\",\"type\":\"WheelZoomTool\"},{\"id\":\"63c2dcde-1004-47eb-af91-134e5add2313\",\"type\":\"PanTool\"}]},\"id\":\"4a0cd481-56f6-4bb7-8331-95bdd00e19ab\",\"type\":\"Toolbar\"},{\"attributes\":{\"data_source\":{\"id\":\"a833a6d5-8912-4e3c-8699-e9ceef9b54b6\",\"type\":\"ColumnDataSource\"},\"glyph\":{\"id\":\"54349be1-235f-42c4-9e7b-5fd8aa98d6d8\",\"type\":\"Rect\"},\"hover_glyph\":null,\"muted_glyph\":null,\"nonselection_glyph\":{\"id\":\"0d35b06d-383b-4725-9406-bbcbb7b36a5c\",\"type\":\"Rect\"},\"selection_glyph\":null,\"view\":{\"id\":\"bf1d763a-aa51-4385-b8ea-0c9734fd9f4e\",\"type\":\"CDSView\"}},\"id\":\"9d9a38bb-a79d-4661-8cc1-ed31424301d7\",\"type\":\"GlyphRenderer\"},{\"attributes\":{},\"id\":\"584fe96f-17c9-4fa0-8dc8-e76e9e56cdf8\",\"type\":\"LinearScale\"},{\"attributes\":{\"plot\":null,\"text\":\"Profile Results\"},\"id\":\"6508d2c0-c705-432f-8ab5-5a0375419efa\",\"type\":\"Title\"},{\"attributes\":{\"plot\":{\"id\":\"69f125a6-3126-413f-905f-eb1a9b42fe00\",\"subtype\":\"Figure\",\"type\":\"Plot\"},\"ticker\":{\"id\":\"9c4f3622-f6ec-4902-a899-2e1247ab5b7d\",\"type\":\"BasicTicker\"}},\"id\":\"6e651f3b-be05-454b-8ce8-e4f398a38a12\",\"type\":\"Grid\"},{\"attributes\":{\"source\":{\"id\":\"88eda4cd-a049-4d91-b552-3199b2693d65\",\"type\":\"ColumnDataSource\"}},\"id\":\"6e9c0f3a-5c4d-4f0e-9285-27b9335aed9a\",\"type\":\"CDSView\"},{\"attributes\":{\"data_source\":{\"id\":\"88eda4cd-a049-4d91-b552-3199b2693d65\",\"type\":\"ColumnDataSource\"},\"glyph\":{\"id\":\"4a920e87-2360-4795-ae4a-2af3ce6f8261\",\"type\":\"Line\"},\"hover_glyph\":null,\"muted_glyph\":null,\"nonselection_glyph\":{\"id\":\"8a8d69bc-cec1-46a4-8dc1-3bb2db35e410\",\"type\":\"Line\"},\"selection_glyph\":null,\"view\":{\"id\":\"6e9c0f3a-5c4d-4f0e-9285-27b9335aed9a\",\"type\":\"CDSView\"}},\"id\":\"ef973c10-4c15-4b6a-be05-76ce8e0de3e9\",\"type\":\"GlyphRenderer\"},{\"attributes\":{},\"id\":\"acea9eaa-c63e-4f6d-9a25-591a00f1e342\",\"type\":\"LinearScale\"},{\"attributes\":{\"source\":{\"id\":\"2732e43b-d7a3-4c8b-9543-5e00a6279b08\",\"type\":\"ColumnDataSource\"}},\"id\":\"2e5ab460-30ec-44e9-be05-c92d929e8458\",\"type\":\"CDSView\"},{\"attributes\":{\"callback\":null,\"column_names\":[\"x\",\"y\",\"label\"],\"data\":{\"label\":[\"_\",\"_\",\"_\",\"_\",\"_\",\"_\",\"_\",\"_\",\"_\",\"_\",\"_\",\"_\",\"_\"],\"x\":[0,13.12079432606697,14.944649457000196,34.16168816504069,34.165387782035396,34.16834243002813,34.170165256015025,34.17033283703495,49.31244312110357,50.492241223109886,76.33871663501486,76.34002582600806,76.3400671830168],\"y\":[0,0,0,0,1,1,0,0,0,0,0,1,0]},\"selected\":null,\"selection_policy\":null},\"id\":\"5d73e64c-63d6-4232-b23f-5258a4777a64\",\"type\":\"ColumnDataSource\"},{\"attributes\":{},\"id\":\"9c4f3622-f6ec-4902-a899-2e1247ab5b7d\",\"type\":\"BasicTicker\"},{\"attributes\":{\"children\":[{\"id\":\"7e842a72-a006-4d9f-981c-762bf1e8bf35\",\"subtype\":\"Figure\",\"type\":\"Plot\"}]},\"id\":\"050e5c02-1388-4792-97b2-236f5f43f12f\",\"type\":\"Row\"},{\"attributes\":{\"axis_label\":\"Worker ID\",\"axis_line_color\":{\"value\":null},\"formatter\":{\"id\":\"17aad3b9-c140-430c-97bd-aeeabd3a453c\",\"type\":\"CategoricalTickFormatter\"},\"major_tick_line_color\":{\"value\":null},\"plot\":{\"id\":\"3f279de3-d09a-4ea3-812f-9190ffdc8ead\",\"subtype\":\"Figure\",\"type\":\"Plot\"},\"ticker\":{\"id\":\"f08b53e3-47b4-46a5-82d2-8d67a5ecd3d3\",\"type\":\"CategoricalTicker\"}},\"id\":\"332ec9d0-c25b-4378-8e85-7bcf4fe0641b\",\"type\":\"CategoricalAxis\"},{\"attributes\":{},\"id\":\"84d3d180-7733-42cb-939a-ec50197bb0e5\",\"type\":\"LinearScale\"},{\"attributes\":{\"callback\":null,\"end\":203.0},\"id\":\"49e23e88-f7e9-4e4e-b34f-a17fbfb894a9\",\"type\":\"Range1d\"},{\"attributes\":{\"children\":[{\"id\":\"d260b7e8-8d50-47f7-bbe8-e05f7440b6a0\",\"type\":\"Row\"},{\"id\":\"d61b9d90-d14b-41c8-a1bc-e02cd3060e9d\",\"type\":\"Row\"},{\"id\":\"050e5c02-1388-4792-97b2-236f5f43f12f\",\"type\":\"Row\"}]},\"id\":\"65a533b6-dba6-4b4b-b7b1-4c2de5ef2baf\",\"type\":\"Column\"},{\"attributes\":{\"items\":[{\"id\":\"7a9a8a65-1902-45bd-bb14-a0be68b16c17\",\"type\":\"LegendItem\"},{\"id\":\"16d7df30-e6bf-4c7a-a347-c5fa47885919\",\"type\":\"LegendItem\"}],\"plot\":{\"id\":\"69f125a6-3126-413f-905f-eb1a9b42fe00\",\"subtype\":\"Figure\",\"type\":\"Plot\"}},\"id\":\"ae69f727-ff00-41a7-8476-8e50867ead2e\",\"type\":\"Legend\"},{\"attributes\":{\"data_source\":{\"id\":\"ce0952c3-076a-4b88-96bd-d94d6ed26a8f\",\"type\":\"ColumnDataSource\"},\"glyph\":{\"id\":\"3e8ed162-afed-4481-a1bc-09a3ca040c80\",\"type\":\"Line\"},\"hover_glyph\":null,\"muted_glyph\":null,\"nonselection_glyph\":{\"id\":\"8a6f5bd7-8e80-4e27-8ed7-46b30806baf7\",\"type\":\"Line\"},\"selection_glyph\":null,\"view\":{\"id\":\"532873f1-ec15-4487-9481-2d99bcd7a342\",\"type\":\"CDSView\"},\"y_range_name\":\"memory\"},\"id\":\"32736237-14da-431b-ad41-2d59344c1ff1\",\"type\":\"GlyphRenderer\"},{\"attributes\":{\"dimension\":1,\"plot\":{\"id\":\"7e842a72-a006-4d9f-981c-762bf1e8bf35\",\"subtype\":\"Figure\",\"type\":\"Plot\"},\"ticker\":{\"id\":\"afc95785-6802-4adc-a608-0537225b17f0\",\"type\":\"BasicTicker\"}},\"id\":\"13921e96-67fb-4403-b264-985bfe5e9489\",\"type\":\"Grid\"},{\"attributes\":{\"source\":{\"id\":\"1b98d37d-7978-4a9f-acd8-4bc336ec7b99\",\"type\":\"ColumnDataSource\"}},\"id\":\"1f30de53-de99-4c5c-86cf-099ad4b5d456\",\"type\":\"CDSView\"},{\"attributes\":{\"data_source\":{\"id\":\"7680608a-dee4-4175-b4b5-0d301ac330ec\",\"type\":\"ColumnDataSource\"},\"glyph\":{\"id\":\"1fcd20d3-659b-4527-b198-ff96ddab76ab\",\"type\":\"Line\"},\"hover_glyph\":null,\"muted_glyph\":null,\"nonselection_glyph\":{\"id\":\"daca7d4d-0785-49fc-9688-fd80133d8322\",\"type\":\"Line\"},\"selection_glyph\":null,\"view\":{\"id\":\"442db1fe-dbfa-4292-b813-d458bf6df582\",\"type\":\"CDSView\"}},\"id\":\"64258344-77b9-4f4a-8891-73751bee1c0e\",\"type\":\"GlyphRenderer\"},{\"attributes\":{\"callback\":null,\"column_names\":[\"x\",\"y\",\"label\"],\"data\":{\"label\":[\"_write_metadata([_write_partition_fastparquet(...)], [*], *, *, *, *)\",\"_write_metadata([_write_partition_fastparquet(...)], [*], *, *, *, *)\",\"_write_metadata([_write_partition_fastparquet(...)], [*], *, *, *, *)\",\"_write_metadata([_write_partition_fastparquet(...)], [*], *, *, *, *)\",\"_write_metadata([_write_partition_fastparquet(...)], [*], *, *, *, *)\",\"_write_metadata([_write_partition_fastparquet(...)], [*], *, *, *, *)\",\"_write_metadata([_write_partition_fastparquet(...)], [*], *, *, *, *)\",\"_write_metadata([_write_partition_fastparquet(...)], [*], *, *, *, *)\",\"_write_metadata([_write_partition_fastparquet(...)], [*], *, *, *, *)\",\"_write_metadata([_write_partition_fastparquet(...)], [*], *, *, *, *)\",\"_write_metadata([_write_partition_fastparquet(...)], [*], *, *, *, *)\",\"_write_metadata([_write_partition_fastparquet(...)], [*], *, *, *, *)\",\"_write_metadata([_write_partition_fastparquet(...)], [*], *, *, *, *)\"],\"x\":[0,13.12079432606697,14.944649457000196,34.16168816504069,34.165387782035396,34.16834243002813,34.170165256015025,34.17033283703495,49.31244312110357,50.492241223109886,76.33871663501486,76.34002582600806,76.3400671830168],\"y\":[0,0,0,0,0,0,0,0,0,0,1,0,0]},\"selected\":null,\"selection_policy\":null},\"id\":\"1b98d37d-7978-4a9f-acd8-4bc336ec7b99\",\"type\":\"ColumnDataSource\"},{\"attributes\":{\"dimensions\":\"width\"},\"id\":\"3702f0e7-4e78-4614-802f-988064d0a3fc\",\"type\":\"WheelZoomTool\"},{\"attributes\":{\"line_color\":\"#FDE724\",\"line_width\":3,\"x\":{\"field\":\"x\"},\"y\":{\"field\":\"y\"}},\"id\":\"fc40a2a5-cf8e-40e6-8007-d96d978566c0\",\"type\":\"Line\"},{\"attributes\":{\"data_source\":{\"id\":\"5d73e64c-63d6-4232-b23f-5258a4777a64\",\"type\":\"ColumnDataSource\"},\"glyph\":{\"id\":\"5c156e4a-f95d-40c4-808a-4e4ecf7c9037\",\"type\":\"Line\"},\"hover_glyph\":null,\"muted_glyph\":null,\"nonselection_glyph\":{\"id\":\"a2265026-85e0-4a3c-9449-8f12b154b7a1\",\"type\":\"Line\"},\"selection_glyph\":null,\"view\":{\"id\":\"80b5da27-d3b7-41ef-8e87-b00d0e7d065a\",\"type\":\"CDSView\"}},\"id\":\"5b67854f-c923-4d08-962b-b1030414c715\",\"type\":\"GlyphRenderer\"},{\"attributes\":{\"fill_alpha\":{\"value\":0.1},\"fill_color\":{\"value\":\"#1f77b4\"},\"height\":{\"units\":\"data\",\"value\":1},\"line_alpha\":{\"value\":0.1},\"line_color\":{\"value\":\"#1f77b4\"},\"width\":{\"field\":\"width\",\"units\":\"data\"},\"x\":{\"field\":\"x\"},\"y\":{\"field\":\"y\"}},\"id\":\"0d35b06d-383b-4725-9406-bbcbb7b36a5c\",\"type\":\"Rect\"},{\"attributes\":{\"callback\":null,\"point_policy\":\"follow_mouse\",\"tooltips\":\"\\n    <div>\\n        <span style=\\\"font-size: 14px; font-weight: bold;\\\">Key:</span>&nbsp;\\n        <span style=\\\"font-size: 10px; font-family: Monaco, monospace;\\\">@key</span>\\n    </div>\\n    <div>\\n        <span style=\\\"font-size: 14px; font-weight: bold;\\\">Task:</span>&nbsp;\\n        <span style=\\\"font-size: 10px; font-family: Monaco, monospace;\\\">@function</span>\\n    </div>\\n    \"},\"id\":\"7a6f963b-8985-4c51-ad7d-ade1f9302a72\",\"type\":\"HoverTool\"},{\"attributes\":{},\"id\":\"87fa44c7-15dd-4238-9796-6b1448d92036\",\"type\":\"ResetTool\"},{\"attributes\":{\"callback\":null,\"end\":1962.360832,\"start\":235.25376},\"id\":\"ff30a41e-d4a5-4fb1-8645-d8a9cc5c6030\",\"type\":\"Range1d\"},{\"attributes\":{\"line_color\":\"#3B518A\",\"line_width\":3,\"x\":{\"field\":\"x\"},\"y\":{\"field\":\"y\"}},\"id\":\"171396b2-a0bd-4557-ba7a-c39cc743d0fb\",\"type\":\"Line\"},{\"attributes\":{\"fill_color\":{\"field\":\"color\"},\"height\":{\"units\":\"data\",\"value\":1},\"line_color\":{\"value\":\"gray\"},\"width\":{\"field\":\"width\",\"units\":\"data\"},\"x\":{\"field\":\"x\"},\"y\":{\"field\":\"y\"}},\"id\":\"54349be1-235f-42c4-9e7b-5fd8aa98d6d8\",\"type\":\"Rect\"},{\"attributes\":{\"data_source\":{\"id\":\"1b98d37d-7978-4a9f-acd8-4bc336ec7b99\",\"type\":\"ColumnDataSource\"},\"glyph\":{\"id\":\"171396b2-a0bd-4557-ba7a-c39cc743d0fb\",\"type\":\"Line\"},\"hover_glyph\":null,\"muted_glyph\":null,\"nonselection_glyph\":{\"id\":\"2225e852-05f9-4147-b07b-e2aee48178ba\",\"type\":\"Line\"},\"selection_glyph\":null,\"view\":{\"id\":\"1f30de53-de99-4c5c-86cf-099ad4b5d456\",\"type\":\"CDSView\"}},\"id\":\"e7a3790f-77aa-4cc5-ba73-d4070a421431\",\"type\":\"GlyphRenderer\"},{\"attributes\":{\"line_color\":\"#5BC862\",\"line_width\":3,\"x\":{\"field\":\"x\"},\"y\":{\"field\":\"y\"}},\"id\":\"a628e879-cd93-4c40-a4b0-74f0ed0c27cc\",\"type\":\"Line\"},{\"attributes\":{},\"id\":\"2dc3bc50-792d-48b2-b74f-2e136414da99\",\"type\":\"BasicTicker\"},{\"attributes\":{\"line_alpha\":0.1,\"line_color\":\"#1f77b4\",\"line_width\":3,\"x\":{\"field\":\"x\"},\"y\":{\"field\":\"y\"}},\"id\":\"a2265026-85e0-4a3c-9449-8f12b154b7a1\",\"type\":\"Line\"},{\"attributes\":{},\"id\":\"28e38e72-8693-4db7-b4dd-f12d3c145811\",\"type\":\"BasicTickFormatter\"},{\"attributes\":{\"label\":{\"value\":\"Memory\"},\"renderers\":[{\"id\":\"32736237-14da-431b-ad41-2d59344c1ff1\",\"type\":\"GlyphRenderer\"}]},\"id\":\"16d7df30-e6bf-4c7a-a347-c5fa47885919\",\"type\":\"LegendItem\"},{\"attributes\":{\"dimension\":1,\"plot\":{\"id\":\"69f125a6-3126-413f-905f-eb1a9b42fe00\",\"subtype\":\"Figure\",\"type\":\"Plot\"},\"ticker\":{\"id\":\"c2f64229-48d2-432d-8a42-c070af7b7ed6\",\"type\":\"BasicTicker\"}},\"id\":\"3bdf3ea8-a8cd-4a95-80ea-70565b75e45d\",\"type\":\"Grid\"},{\"attributes\":{},\"id\":\"afc95785-6802-4adc-a608-0537225b17f0\",\"type\":\"BasicTicker\"},{\"attributes\":{},\"id\":\"f16e19a9-67a2-4260-a455-09143e4c0867\",\"type\":\"BasicTickFormatter\"},{\"attributes\":{\"callback\":null,\"column_names\":[\"x\",\"y\"],\"data\":{\"x\":[0.0,0.2512041899608448,0.5025390069931746,0.7536705599632114,1.004964247928001,1.2557808789424598,1.5063893250189722,1.757480742991902,2.0176319329766557,2.269000230007805,2.519614182994701,2.77018357696943,3.021521177026443,3.273949397029355,3.525309421005659,3.7767543180380017,4.0282960089389235,4.279758680029772,4.53043861896731,4.782166766934097,5.033572013024241,5.284975801943801,5.536366296932101,5.787439162959345,6.03848772495985,6.294284799019806,6.544943018932827,6.796457664924674,7.046969914925285,7.300479058991186,7.551994515932165,7.803514007944614,8.054950378020294,8.305464679957367,8.55682604399044,8.808721701963805,9.059155795024708,9.309737400035374,9.561374271987006,9.819630395038985,10.071981200948358,10.323025038000196,10.574329535942525,10.824899116996676,11.075449025025591,11.326562250964344,11.577958705020137,11.829386029974557,12.080823833006434,12.33236500795465,12.58302508899942,12.834322261973284,13.085001897998154,13.33554823603481,13.586473317001946,13.83741394802928,14.089207076001912,14.339898213976994,14.590460282983258,14.841104713035747,15.092435335973278,15.343290759949014,15.595172113971785,15.846475447993726,16.097803656943142,16.34836229798384,16.598747957963496,16.850098322029226,17.101524353027344,17.351902900030836,17.602579575031996,17.853974085999653,18.104993777931668,18.355901818955317,18.60746463900432,18.8587276119506,19.109120015986264,19.36060442693997,19.612057295977138,19.863526541972533,20.11452952795662,20.366440834011883,20.616851620958187,20.86745521996636,21.11782373301685,21.371768955956213,21.624987615039572,21.87738643202465,22.128312606015243,22.379691948997788,22.631102302926593,22.881773171015084,23.13347119395621,23.38521881599445,23.636215521954,23.887133267940953,24.13844850100577,24.389289511018433,24.639910244033672,24.890593176009133,25.142134906025603,25.393091381993145,25.644293955992907,25.895958774955943,26.147402103990316,26.398745085927658,26.649648878956214,26.90034685295541,27.151925371959805,27.40269801800605,27.654264883021824,27.905660843942314,28.15695695602335,28.40833861893043,28.659108113963157,28.910533371032216,29.16138739499729,29.412769615999423,29.664019776973873,29.91434689098969,30.164845347986557,30.41598280193284,30.667441320954822,30.91789214196615,31.16869779198896,31.41913058294449,31.670265358989127,31.921635673963465,32.17295178899076,32.42435092793312,32.67580258299131,32.9271500390023,33.1785814500181,33.430041574989446,33.680560564040206,33.931354478001595,34.18217361799907,34.433578728931025,34.68418498698156,34.93582715501543,35.18726711394265,35.4386735400185,35.68936581898015,35.94076241203584,36.1920744109666,36.44338896300178,36.69421081303153,36.945523433969356,37.19676341197919,37.44822033797391,37.69951469893567,37.95081443001982,38.20211739093065,38.45472916099243,38.70555052103009,38.956868284964,39.20781979896128,39.45933718897868,39.721718008979224,39.97255938092712,40.22356373700313,40.475062428973615,40.726462704944424,40.977909990004264,41.22849538002629,41.479998472030275,41.73143257095944,41.98340345302131,42.23490723897703,42.48694432899356,42.737508181948215,42.98801251698751,43.238950771978125,43.489559564972296,43.740989638026804,43.99244631000329,44.244005716987886,44.495434873970225,44.7468266650103,44.99823468597606,45.24901203496847,45.49978213396389,45.75148156599607,46.005505351000465,46.25714763998985,46.50855717994273,46.75987395492848,47.01131560502108,47.26275187602732,47.514228275977075,47.765660358942114,48.01621296093799,48.26767261500936,48.51877181301825,48.77080424595624,49.02336486999411,49.274922735989094,49.526344529003836,49.77776890003588,50.029181294026785,50.28024334902875,50.530964880017564,50.78239449195098,51.03380436694715,51.28499875497073,51.536477493005805,51.78777478297707,52.03862695698626,52.290253123035654,52.54156022903044,52.792894967016764,53.04436135699507,53.29579215601552,53.54676730593201,53.79782160802279,54.048255897942,54.29875006794464,54.55019421200268,54.80163461796474,55.0530473459512,55.30444570397958,55.55592744296882,55.80747584195342,56.0587937530363,56.310098679037765,56.56144190498162,56.81291054293979,57.064383883960545,57.31506802502554,57.56649291398935,57.81754079903476,58.068899314966984,58.32024215697311,58.5717257889919,58.82298727799207,59.07447178894654,59.3259283680236,59.57682618801482,59.82812379999086,60.079568368033506,60.330911032971926,60.58189249201678,60.832598023931496,61.0841333050048,61.33551925595384,61.58682043594308,61.83836630603764,62.08958344394341,62.34015704295598,62.591037094942294,62.84227591601666,63.0941184819676,63.34600233100355,63.596784902969375,63.84802551998291,64.09889429295436,64.35031343600713,64.60159396298695,64.85316807893105,65.10466611001175,65.35517023096327,65.60655628296081,65.85785183194093,66.10917377192527,66.35983666498214,66.61123507993761,66.86252995603718,67.11292895092629,67.36367988295387,67.61501529195812,67.86590101302136,68.11711165495217,68.36789604392834,68.61832026496995,68.86982759193052,69.12142470898107,69.37270753295161,69.62338232295588,69.87470471893903,70.12608510395512,70.3774171989644,70.62875820498448,70.88019563199487,71.13150431902613,71.3828981469851,71.63436492299661,71.88543570996262,72.13638739101589,72.3875664229272,72.63922550796997,72.89067787199747,73.14159792801365,73.3926747989608,73.64408639201429,73.89536771294661,74.14667495293543,74.3979887739988,74.64969546196517,74.90167589799967,75.152049388038,75.40349363803398,75.65423039800953,75.90560542594176,76.15653828904033,76.4071149280062,76.65850060794037,76.90979501896072,77.16111045598518,77.41268431802746,77.66400269896258,77.91515546792652,78.1657181190094],\"y\":[235.25376,235.667456,235.7248,235.778048,235.839488,236.146688,236.376064,235.64288,274.280448,284.270592,296.169472,302.649344,306.19648,310.878208,315.559936,320.753664,324.579328,329.89184,333.758464,338.702336,342.786048,347.652096,352.874496,356.216832,359.305216,360.230912,363.655168,367.443968,371.347456,376.520704,383.410176,385.892352,387.805184,390.92224,391.200768,391.647232,395.55072,399.212544,404.312064,407.769088,405.528576,406.032384,409.096192,412.962816,415.625216,420.069376,424.067072,432.365568,436.760576,440.85248,442.400768,445.21472,515.055616,609.685504,795.828224,857.309184,858.472448,874.51648,859.574272,881.016832,930.840576,933.257216,935.243776,943.857664,952.356864,963.919872,943.017984,995.078144,1059.98336,1075.519488,1175.875584,1407.83616,1287.897088,1290.641408,1297.26464,1303.887872,1308.274688,1309.958144,1311.768576,1313.234944,1314.906112,1245.016064,1245.12256,1245.233152,1245.310976,1245.380608,1245.47072,1245.560832,1245.671424,1245.786112,1245.892608,1245.999104,1246.097408,1246.191616,1246.277632,1246.363648,1246.47424,1155.91168,1178.488832,1205.088256,1006.473216,1043.808256,1132.310528,1246.539776,1359.81056,1422.344192,1419.177984,1476.05504,1511.796736,1508.1472,1494.274048,1500.504064,1506.893824,1511.604224,1516.25728,1523.113984,1529.634816,1535.81568,1541.5296,1546.17856,1552.904192,1559.003136,1565.392896,1571.557376,1577.209856,1582.36672,1589.12512,1591.554048,1595.203584,1596.329984,1600.233472,1606.844416,1606.49216,1612.02176,1132.662784,1133.305856,1207.042048,1089.282048,1099.952128,1212.86656,1218.060288,1220.583424,1221.59104,1256.206336,999.538688,1005.89568,1011.0976,1016.1152,1020.432384,1025.425408,1031.409664,1035.993088,1038.364672,1090.678784,1092.337664,1094.447104,1095.68,1100.86144,1116.622848,1120.022528,1123.897344,1125.888,1127.673856,1130.123264,1130.123264,1130.14784,1130.323968,1131.565056,1131.880448,1131.921408,1132.457984,1132.457984,1132.466176,1132.48256,1132.48256,1132.48256,1132.494848,1132.498944,1132.806144,1137.455104,1137.455104,1137.4592,1137.4592,1137.471488,1137.471488,1137.475584,1137.84832,1137.84832,1137.876992,1137.876992,1137.876992,1137.881088,1137.881088,1137.905664,1137.90976,1137.917952,1137.917952,1137.922048,1329.78688,1549.606912,1551.814656,1562.697728,1574.58432,1561.817088,1567.535104,1574.948864,1588.08064,1601.798144,1495.2448,1525.059584,1528.479744,1710.08,1596.203008,1598.058496,1609.216,1616.601088,1618.272256,1619.943424,1621.48352,1592.512512,1594.04032,1595.650048,1597.321216,1598.85312,1600.458752,1602.195456,1603.801088,1605.541888,1607.143424,1608.810496,1610.48576,1612.02176,1613.836288,1615.507456,1617.383424,1618.993152,1537.499136,1551.392768,1573.019648,1497.878528,1433.014272,1542.905856,1643.454464,1700.507648,1693.585408,1769.803776,1924.530176,1931.18208,1936.306176,1941.766144,1938.726912,1893.679104,1880.41216,1867.628544,1874.067456,1880.993792,1887.424512,1894.817792,1894.326272,1897.709568,1902.739456,1908.924416,1914.810368,1919.266816,1921.96608,1923.956736,1927.569408,1931.001856,1934.831616,1940.115456,1945.776128,1951.1296,1956.388864,1962.360832,1763.328,1484.066816,1485.172736,1421.889536,1431.42912,1447.69024,1553.69472,1554.092032,1556.893696,1557.835776,1562.7264,1497.23136,1499.05408,1502.416896,1502.94528,1502.94528,1502.94528,1502.94528,1505.026048,1505.026048,1505.026048,1505.026048,1505.026048,1505.026048,1505.026048,1505.026048,1505.026048,1505.026048,1505.026048,1505.026048,1505.026048,1505.026048,1505.026048,1505.026048,1505.026048,1505.026048,1505.026048,1474.203648]},\"selected\":null,\"selection_policy\":null},\"id\":\"ce0952c3-076a-4b88-96bd-d94d6ed26a8f\",\"type\":\"ColumnDataSource\"},{\"attributes\":{\"callback\":null,\"factors\":[\"0\",\"1\"]},\"id\":\"22ef5709-13b2-4bf1-8005-e0593a8c8835\",\"type\":\"FactorRange\"},{\"attributes\":{},\"id\":\"ad100b83-5574-4c9a-b4f6-f4a9e6995db2\",\"type\":\"LinearScale\"},{\"attributes\":{\"data_source\":{\"id\":\"cc2cc8a0-b03c-4f00-9b5e-861535360795\",\"type\":\"ColumnDataSource\"},\"glyph\":{\"id\":\"fc40a2a5-cf8e-40e6-8007-d96d978566c0\",\"type\":\"Line\"},\"hover_glyph\":null,\"muted_glyph\":null,\"nonselection_glyph\":{\"id\":\"58f3f77e-dc2d-4a3f-9f53-faae421a9653\",\"type\":\"Line\"},\"selection_glyph\":null,\"view\":{\"id\":\"c493e59c-8e25-427c-9854-522244c9bb75\",\"type\":\"CDSView\"}},\"id\":\"61cfba87-31db-481b-99ab-80a148b39cd7\",\"type\":\"GlyphRenderer\"},{\"attributes\":{\"callback\":null,\"column_names\":[\"x\",\"y\",\"label\"],\"data\":{\"label\":[\"apply_and_enforce(*, [_], dict(...), *)\",\"apply_and_enforce(*, [_], dict(...), *)\",\"apply_and_enforce(*, [_], dict(...), *)\",\"apply_and_enforce(*, [_], dict(...), *)\",\"apply_and_enforce(*, [_], dict(...), *)\",\"apply_and_enforce(*, [_], dict(...), *)\",\"apply_and_enforce(*, [_], dict(...), *)\",\"apply_and_enforce(*, [_], dict(...), *)\",\"apply_and_enforce(*, [_], dict(...), *)\",\"apply_and_enforce(*, [_], dict(...), *)\",\"apply_and_enforce(*, [_], dict(...), *)\",\"apply_and_enforce(*, [_], dict(...), *)\",\"apply_and_enforce(*, [_], dict(...), *)\"],\"x\":[0,13.12079432606697,14.944649457000196,34.16168816504069,34.165387782035396,34.16834243002813,34.170165256015025,34.17033283703495,49.31244312110357,50.492241223109886,76.33871663501486,76.34002582600806,76.3400671830168],\"y\":[0,0,0,0,0,1,2,0,0,0,0,0,0]},\"selected\":null,\"selection_policy\":null},\"id\":\"88eda4cd-a049-4d91-b552-3199b2693d65\",\"type\":\"ColumnDataSource\"},{\"attributes\":{\"line_alpha\":0.1,\"line_color\":\"#1f77b4\",\"line_width\":3,\"x\":{\"field\":\"x\"},\"y\":{\"field\":\"y\"}},\"id\":\"2225e852-05f9-4147-b07b-e2aee48178ba\",\"type\":\"Line\"},{\"attributes\":{},\"id\":\"7ef1c907-8ed4-4473-98db-e11ef874ea5c\",\"type\":\"ResetTool\"},{\"attributes\":{\"label\":{\"value\":\"% CPU\"},\"renderers\":[{\"id\":\"64258344-77b9-4f4a-8891-73751bee1c0e\",\"type\":\"GlyphRenderer\"}]},\"id\":\"7a9a8a65-1902-45bd-bb14-a0be68b16c17\",\"type\":\"LegendItem\"},{\"attributes\":{},\"id\":\"7d7b31f4-8d81-454e-826a-a653ccec2e37\",\"type\":\"SaveTool\"},{\"attributes\":{},\"id\":\"a2bd5219-1f74-4747-9af5-0f59b52e28d3\",\"type\":\"LinearScale\"},{\"attributes\":{},\"id\":\"65732b28-34ea-48d4-a8c8-d9448ac418f7\",\"type\":\"BasicTickFormatter\"},{\"attributes\":{\"dimensions\":\"width\"},\"id\":\"aa0a00b5-5de5-4cc1-bae3-149e0ad9a1d9\",\"type\":\"PanTool\"},{\"attributes\":{\"axis_label\":null,\"axis_line_color\":{\"value\":null},\"formatter\":{\"id\":\"28e38e72-8693-4db7-b4dd-f12d3c145811\",\"type\":\"BasicTickFormatter\"},\"major_tick_line_color\":{\"value\":null},\"plot\":{\"id\":\"3f279de3-d09a-4ea3-812f-9190ffdc8ead\",\"subtype\":\"Figure\",\"type\":\"Plot\"},\"ticker\":{\"id\":\"2dc3bc50-792d-48b2-b74f-2e136414da99\",\"type\":\"BasicTicker\"}},\"id\":\"decc49dc-aae3-4a20-a774-8541bf3b78e3\",\"type\":\"LinearAxis\"},{\"attributes\":{\"source\":{\"id\":\"ce0952c3-076a-4b88-96bd-d94d6ed26a8f\",\"type\":\"ColumnDataSource\"}},\"id\":\"532873f1-ec15-4487-9481-2d99bcd7a342\",\"type\":\"CDSView\"},{\"attributes\":{},\"id\":\"443d1a16-3b4f-43be-8caf-924e6b3047bc\",\"type\":\"BasicTickFormatter\"},{\"attributes\":{\"children\":[{\"id\":\"69f125a6-3126-413f-905f-eb1a9b42fe00\",\"subtype\":\"Figure\",\"type\":\"Plot\"}]},\"id\":\"d61b9d90-d14b-41c8-a1bc-e02cd3060e9d\",\"type\":\"Row\"},{\"attributes\":{},\"id\":\"f08b53e3-47b4-46a5-82d2-8d67a5ecd3d3\",\"type\":\"CategoricalTicker\"},{\"attributes\":{\"children\":[{\"id\":\"63a8c199-a94e-400d-9a9e-33332b8d4809\",\"type\":\"ToolbarBox\"},{\"id\":\"65a533b6-dba6-4b4b-b7b1-4c2de5ef2baf\",\"type\":\"Column\"}]},\"id\":\"7e9ca83b-bd09-4b09-961e-9700baf0ac00\",\"type\":\"Column\"},{\"attributes\":{\"line_alpha\":0.1,\"line_color\":\"#1f77b4\",\"line_width\":3,\"x\":{\"field\":\"x\"},\"y\":{\"field\":\"y\"}},\"id\":\"4fed2a62-9bfd-4405-a817-2fa165aef97d\",\"type\":\"Line\"},{\"attributes\":{\"tools\":[{\"id\":\"7a6f963b-8985-4c51-ad7d-ade1f9302a72\",\"type\":\"HoverTool\"},{\"id\":\"d33f04b9-c3d0-4f43-8251-daabe64d5e72\",\"type\":\"SaveTool\"},{\"id\":\"7ef1c907-8ed4-4473-98db-e11ef874ea5c\",\"type\":\"ResetTool\"},{\"id\":\"ee1ac0f0-feeb-466a-9267-a58ac2855d7f\",\"type\":\"WheelZoomTool\"},{\"id\":\"63c2dcde-1004-47eb-af91-134e5add2313\",\"type\":\"PanTool\"},{\"id\":\"7d7b31f4-8d81-454e-826a-a653ccec2e37\",\"type\":\"SaveTool\"},{\"id\":\"87fa44c7-15dd-4238-9796-6b1448d92036\",\"type\":\"ResetTool\"},{\"id\":\"3702f0e7-4e78-4614-802f-988064d0a3fc\",\"type\":\"WheelZoomTool\"},{\"id\":\"8176149d-d37f-41ee-ac09-298a611f614e\",\"type\":\"PanTool\"},{\"id\":\"a107e411-9be9-4ce0-86d8-f2c70f746051\",\"type\":\"HoverTool\"},{\"id\":\"3602f328-c980-488b-8235-a65556a8423f\",\"type\":\"SaveTool\"},{\"id\":\"0ef41cdd-cd7f-440d-b652-18f77587530d\",\"type\":\"ResetTool\"},{\"id\":\"047e6715-bd8e-4579-844b-4ab4ca9a8846\",\"type\":\"WheelZoomTool\"},{\"id\":\"aa0a00b5-5de5-4cc1-bae3-149e0ad9a1d9\",\"type\":\"PanTool\"}]},\"id\":\"704a042d-2154-43bc-bd83-cf60271dabf4\",\"type\":\"ProxyToolbar\"},{\"attributes\":{\"callback\":null,\"column_names\":[\"width\",\"x\",\"y\",\"function\",\"color\",\"key\"],\"data\":{\"color\":[\"#FDE724\",\"#FDE724\",\"#5BC862\",\"#440154\",\"#208F8C\",\"#208F8C\",\"#FDE724\",\"#FDE724\",\"#3B518A\",\"#440154\"],\"function\":[\"list(take(*, map_chunk(...)))\",\"list(take(*, map_chunk(...)))\",\"getattr(apply_and_enforce(...), *)\",\"_\",\"apply_and_enforce(*, [_], dict(...), *)\",\"apply_and_enforce(*, [_], dict(...), *)\",\"list(take(*, map_chunk(...)))\",\"list(take(*, map_chunk(...)))\",\"_write_metadata([_write_partition_fastparquet(...)], [*], *, *, *, *)\",\"_\"],\"key\":[\"('take-partial-1857ba8698463289ce253841892de163', 0)\",\"('take-partial-1857ba8698463289ce253841892de163', 1)\",\"('take-to_dataframe-set_index-198b9bb28ee3d9d9e5c71e7447448c3e-index', 0)\",\"('set_index-198b9bb28ee3d9d9e5c71e7447448c3e-index', 0)\",\"('max-f826e4554c90c98a95b3092a10091ba8', 0)\",\"('min-960b0bbe953ab7824bf0d8712b3d1e27', 0)\",\"('take-partial-1857ba8698463289ce253841892de163', 0)\",\"('take-partial-1857ba8698463289ce253841892de163', 1)\",\"_write_partition_fastparquet-reset_index-set_index-take-to_dataframe-_write_metadata-8bb3dd7e-8d92-4342-abaa-2bb8d57e2d6d\",\"_write_metadata-8bb3dd7e-8d92-4342-abaa-2bb8d57e2d6d\"],\"width\":[13.103100262000225,14.925611048005521,19.21697698405478,0.0036398289958015084,0.002935940050520003,0.003394259954802692,12.878098438959569,11.696228517917916,25.84645976999309,0.001280577969737351],\"x\":[6.55155013105832,7.464201077003963,24.53556024003774,34.14592970744707,34.149235165910795,34.15082973893732,44.035553150461055,43.44668966997415,63.39784643705934,76.3217488299124],\"y\":[2,1,2,1,2,1,2,1,1,2]},\"selected\":null,\"selection_policy\":null},\"id\":\"a833a6d5-8912-4e3c-8699-e9ceef9b54b6\",\"type\":\"ColumnDataSource\"},{\"attributes\":{\"callback\":null,\"end\":76.32238911895547},\"id\":\"d9f3b444-e968-4f15-8b13-c746433770bc\",\"type\":\"Range1d\"},{\"attributes\":{\"toolbar\":{\"id\":\"704a042d-2154-43bc-bd83-cf60271dabf4\",\"type\":\"ProxyToolbar\"},\"toolbar_location\":\"above\"},\"id\":\"63a8c199-a94e-400d-9a9e-33332b8d4809\",\"type\":\"ToolbarBox\"},{\"attributes\":{\"line_color\":\"#29788E\",\"line_width\":4,\"x\":{\"field\":\"x\"},\"y\":{\"field\":\"y\"}},\"id\":\"3e8ed162-afed-4481-a1bc-09a3ca040c80\",\"type\":\"Line\"},{\"attributes\":{\"line_color\":\"#208F8C\",\"line_width\":3,\"x\":{\"field\":\"x\"},\"y\":{\"field\":\"y\"}},\"id\":\"4a920e87-2360-4795-ae4a-2af3ce6f8261\",\"type\":\"Line\"},{\"attributes\":{\"children\":[{\"id\":\"3f279de3-d09a-4ea3-812f-9190ffdc8ead\",\"subtype\":\"Figure\",\"type\":\"Plot\"}]},\"id\":\"d260b7e8-8d50-47f7-bbe8-e05f7440b6a0\",\"type\":\"Row\"},{\"attributes\":{\"active_drag\":\"auto\",\"active_inspect\":\"auto\",\"active_scroll\":\"auto\",\"active_tap\":\"auto\",\"tools\":[{\"id\":\"7d7b31f4-8d81-454e-826a-a653ccec2e37\",\"type\":\"SaveTool\"},{\"id\":\"87fa44c7-15dd-4238-9796-6b1448d92036\",\"type\":\"ResetTool\"},{\"id\":\"3702f0e7-4e78-4614-802f-988064d0a3fc\",\"type\":\"WheelZoomTool\"},{\"id\":\"8176149d-d37f-41ee-ac09-298a611f614e\",\"type\":\"PanTool\"}]},\"id\":\"a147841e-bc57-41cc-abee-21ba1636f108\",\"type\":\"Toolbar\"},{\"attributes\":{\"plot\":{\"id\":\"7e842a72-a006-4d9f-981c-762bf1e8bf35\",\"subtype\":\"Figure\",\"type\":\"Plot\"},\"ticker\":{\"id\":\"ed4fbfa1-17c4-4c58-b6ea-4e200297047e\",\"type\":\"BasicTicker\"}},\"id\":\"3d856c91-d050-4e38-9fce-51a17302635a\",\"type\":\"Grid\"},{\"attributes\":{\"below\":[{\"id\":\"eabca1da-bae4-4b7d-9c8b-aac2e93f36b3\",\"type\":\"LinearAxis\"}],\"left\":[{\"id\":\"68eab0b3-e85e-4729-af89-9497f2b59e00\",\"type\":\"LinearAxis\"}],\"min_border_left\":75,\"min_border_right\":75,\"min_border_top\":20,\"plot_height\":270,\"plot_width\":800,\"renderers\":[{\"id\":\"eabca1da-bae4-4b7d-9c8b-aac2e93f36b3\",\"type\":\"LinearAxis\"},{\"id\":\"3d856c91-d050-4e38-9fce-51a17302635a\",\"type\":\"Grid\"},{\"id\":\"68eab0b3-e85e-4729-af89-9497f2b59e00\",\"type\":\"LinearAxis\"},{\"id\":\"13921e96-67fb-4403-b264-985bfe5e9489\",\"type\":\"Grid\"},{\"id\":\"61cfba87-31db-481b-99ab-80a148b39cd7\",\"type\":\"GlyphRenderer\"},{\"id\":\"32ae9293-30a3-46be-b253-21ca3e1fdf79\",\"type\":\"GlyphRenderer\"},{\"id\":\"5b67854f-c923-4d08-962b-b1030414c715\",\"type\":\"GlyphRenderer\"},{\"id\":\"ef973c10-4c15-4b6a-be05-76ce8e0de3e9\",\"type\":\"GlyphRenderer\"},{\"id\":\"e7a3790f-77aa-4cc5-ba73-d4070a421431\",\"type\":\"GlyphRenderer\"}],\"title\":null,\"toolbar\":{\"id\":\"76b88503-3c98-452b-b76a-ac15e6bccee7\",\"type\":\"Toolbar\"},\"toolbar_location\":null,\"x_range\":{\"id\":\"d9f3b444-e968-4f15-8b13-c746433770bc\",\"type\":\"Range1d\"},\"x_scale\":{\"id\":\"acea9eaa-c63e-4f6d-9a25-591a00f1e342\",\"type\":\"LinearScale\"},\"y_range\":{\"id\":\"6bbec7dc-7af3-4200-9628-bbdab1538336\",\"type\":\"DataRange1d\"},\"y_scale\":{\"id\":\"a2bd5219-1f74-4747-9af5-0f59b52e28d3\",\"type\":\"LinearScale\"}},\"id\":\"7e842a72-a006-4d9f-981c-762bf1e8bf35\",\"subtype\":\"Figure\",\"type\":\"Plot\"},{\"attributes\":{},\"id\":\"e3cc8165-6757-4cf6-a7b9-86f288dc64c5\",\"type\":\"CategoricalScale\"},{\"attributes\":{\"axis_label\":\"Time (s)\",\"formatter\":{\"id\":\"65732b28-34ea-48d4-a8c8-d9448ac418f7\",\"type\":\"BasicTickFormatter\"},\"plot\":{\"id\":\"7e842a72-a006-4d9f-981c-762bf1e8bf35\",\"subtype\":\"Figure\",\"type\":\"Plot\"},\"ticker\":{\"id\":\"ed4fbfa1-17c4-4c58-b6ea-4e200297047e\",\"type\":\"BasicTicker\"}},\"id\":\"eabca1da-bae4-4b7d-9c8b-aac2e93f36b3\",\"type\":\"LinearAxis\"},{\"attributes\":{\"line_color\":\"#440154\",\"line_width\":3,\"x\":{\"field\":\"x\"},\"y\":{\"field\":\"y\"}},\"id\":\"5c156e4a-f95d-40c4-808a-4e4ecf7c9037\",\"type\":\"Line\"}],\"root_ids\":[\"7e9ca83b-bd09-4b09-961e-9700baf0ac00\"]},\"title\":\"Bokeh Application\",\"version\":\"0.12.15\"}};\n",
       "  var render_items = [{\"docid\":\"8d0f1acb-0cb3-4e72-b859-1ee30521056f\",\"elementid\":\"2e92b341-75b6-4181-bb5f-ec16bfe98f7d\",\"modelid\":\"7e9ca83b-bd09-4b09-961e-9700baf0ac00\"}];\n",
       "  root.Bokeh.embed.embed_items_notebook(docs_json, render_items);\n",
       "\n",
       "  }\n",
       "  if (root.Bokeh !== undefined) {\n",
       "    embed_document(root);\n",
       "  } else {\n",
       "    var attempts = 0;\n",
       "    var timer = setInterval(function(root) {\n",
       "      if (root.Bokeh !== undefined) {\n",
       "        embed_document(root);\n",
       "        clearInterval(timer);\n",
       "      }\n",
       "      attempts++;\n",
       "      if (attempts > 100) {\n",
       "        console.log(\"Bokeh: ERROR: Unable to run BokehJS code because BokehJS library is missing\")\n",
       "        clearInterval(timer);\n",
       "      }\n",
       "    }, 10, root)\n",
       "  }\n",
       "})(window);"
      ],
      "application/vnd.bokehjs_exec.v0+json": ""
     },
     "metadata": {
      "application/vnd.bokehjs_exec.v0+json": {
       "id": "7e9ca83b-bd09-4b09-961e-9700baf0ac00"
      }
     },
     "output_type": "display_data"
    },
    {
     "data": {
      "text/html": [
       "<div style=\"display: table;\"><div style=\"display: table-row;\"><div style=\"display: table-cell;\"><b title=\"bokeh.models.layouts.Column\">Column</b>(</div><div style=\"display: table-cell;\">id&nbsp;=&nbsp;'7e9ca83b-bd09-4b09-961e-9700baf0ac00', <span id=\"987179c9-ba35-4676-af80-6a4d6bdc6477\" style=\"cursor: pointer;\">&hellip;)</span></div></div><div class=\"6784f8ec-d688-4e62-96f8-d7a7f7620a6a\" style=\"display: none;\"><div style=\"display: table-cell;\"></div><div style=\"display: table-cell;\">children&nbsp;=&nbsp;[ToolbarBox(id='63a8c199-a94e-400d-9a9e-33332b8d4809', ...), Column(id='65a533b6-dba6-4b4b-b7b1-4c2de5ef2baf', ...)],</div></div><div class=\"6784f8ec-d688-4e62-96f8-d7a7f7620a6a\" style=\"display: none;\"><div style=\"display: table-cell;\"></div><div style=\"display: table-cell;\">css_classes&nbsp;=&nbsp;[],</div></div><div class=\"6784f8ec-d688-4e62-96f8-d7a7f7620a6a\" style=\"display: none;\"><div style=\"display: table-cell;\"></div><div style=\"display: table-cell;\">disabled&nbsp;=&nbsp;False,</div></div><div class=\"6784f8ec-d688-4e62-96f8-d7a7f7620a6a\" style=\"display: none;\"><div style=\"display: table-cell;\"></div><div style=\"display: table-cell;\">height&nbsp;=&nbsp;None,</div></div><div class=\"6784f8ec-d688-4e62-96f8-d7a7f7620a6a\" style=\"display: none;\"><div style=\"display: table-cell;\"></div><div style=\"display: table-cell;\">js_event_callbacks&nbsp;=&nbsp;{},</div></div><div class=\"6784f8ec-d688-4e62-96f8-d7a7f7620a6a\" style=\"display: none;\"><div style=\"display: table-cell;\"></div><div style=\"display: table-cell;\">js_property_callbacks&nbsp;=&nbsp;{},</div></div><div class=\"6784f8ec-d688-4e62-96f8-d7a7f7620a6a\" style=\"display: none;\"><div style=\"display: table-cell;\"></div><div style=\"display: table-cell;\">name&nbsp;=&nbsp;None,</div></div><div class=\"6784f8ec-d688-4e62-96f8-d7a7f7620a6a\" style=\"display: none;\"><div style=\"display: table-cell;\"></div><div style=\"display: table-cell;\">sizing_mode&nbsp;=&nbsp;'fixed',</div></div><div class=\"6784f8ec-d688-4e62-96f8-d7a7f7620a6a\" style=\"display: none;\"><div style=\"display: table-cell;\"></div><div style=\"display: table-cell;\">subscribed_events&nbsp;=&nbsp;[],</div></div><div class=\"6784f8ec-d688-4e62-96f8-d7a7f7620a6a\" style=\"display: none;\"><div style=\"display: table-cell;\"></div><div style=\"display: table-cell;\">tags&nbsp;=&nbsp;[],</div></div><div class=\"6784f8ec-d688-4e62-96f8-d7a7f7620a6a\" style=\"display: none;\"><div style=\"display: table-cell;\"></div><div style=\"display: table-cell;\">width&nbsp;=&nbsp;None)</div></div></div>\n",
       "<script>\n",
       "(function() {\n",
       "  var expanded = false;\n",
       "  var ellipsis = document.getElementById(\"987179c9-ba35-4676-af80-6a4d6bdc6477\");\n",
       "  ellipsis.addEventListener(\"click\", function() {\n",
       "    var rows = document.getElementsByClassName(\"6784f8ec-d688-4e62-96f8-d7a7f7620a6a\");\n",
       "    for (var i = 0; i < rows.length; i++) {\n",
       "      var el = rows[i];\n",
       "      el.style.display = expanded ? \"none\" : \"table-row\";\n",
       "    }\n",
       "    ellipsis.innerHTML = expanded ? \"&hellip;)\" : \"&lsaquo;&lsaquo;&lsaquo;\";\n",
       "    expanded = !expanded;\n",
       "  });\n",
       "})();\n",
       "</script>\n"
      ],
      "text/plain": [
       "Column(id='7e9ca83b-bd09-4b09-961e-9700baf0ac00', ...)"
      ]
     },
     "execution_count": 61,
     "metadata": {},
     "output_type": "execute_result"
    }
   ],
   "source": [
    "visualize([prof, rprof, cprof])"
   ]
  },
  {
   "cell_type": "code",
   "execution_count": 48,
   "metadata": {},
   "outputs": [
    {
     "data": {
      "text/html": [
       "\n",
       "<div class=\"bk-root\">\n",
       "    <div class=\"bk-plotdiv\" id=\"e3ec15c6-e7f9-438e-9d32-136408dc514d\"></div>\n",
       "</div>"
      ]
     },
     "metadata": {},
     "output_type": "display_data"
    },
    {
     "data": {
      "application/javascript": [
       "(function(root) {\n",
       "  function embed_document(root) {\n",
       "    \n",
       "  var docs_json = {\"353a8678-4ce7-4b93-af2c-1ef06bf0e9aa\":{\"roots\":{\"references\":[{\"attributes\":{},\"id\":\"fd2f583f-63b5-430d-a2f3-e9cd6c38bfed\",\"type\":\"BasicTicker\"},{\"attributes\":{\"callback\":null,\"end\":2512.543744,\"start\":110.227456},\"id\":\"2a46d0e2-7549-4214-bc1a-130cba9d020e\",\"type\":\"Range1d\"},{\"attributes\":{\"line_alpha\":0.1,\"line_color\":\"#1f77b4\",\"line_width\":4,\"x\":{\"field\":\"x\"},\"y\":{\"field\":\"y\"}},\"id\":\"1f9ab954-349e-4f69-b1eb-78b36ab274af\",\"type\":\"Line\"},{\"attributes\":{\"callback\":null,\"column_names\":[\"width\",\"x\",\"y\",\"function\",\"color\",\"key\"],\"data\":{\"color\":[\"#FDE724\",\"#FDE724\",\"#FDE724\",\"#FDE724\",\"#5BC862\",\"#440154\",\"#208F8C\",\"#208F8C\",\"#FDE724\",\"#FDE724\",\"#FDE724\",\"#FDE724\",\"#3B518A\",\"#440154\"],\"function\":[\"list(take(*, map_chunk(...)))\",\"list(take(*, map_chunk(...)))\",\"list(take(*, map_chunk(...)))\",\"list(take(*, map_chunk(...)))\",\"getattr(apply_and_enforce(...), *)\",\"_\",\"apply_and_enforce(*, [_], dict(...), *)\",\"apply_and_enforce(*, [_], dict(...), *)\",\"list(take(*, map_chunk(...)))\",\"list(take(*, map_chunk(...)))\",\"list(take(*, map_chunk(...)))\",\"list(take(*, map_chunk(...)))\",\"_write_metadata([_write_partition_fastparquet(...)], [*], *, *, *, *)\",\"_\"],\"key\":[\"('take-partial-b756148bb12631af91e0093b43788b00', 0)\",\"('take-partial-b756148bb12631af91e0093b43788b00', 1)\",\"('take-partial-b756148bb12631af91e0093b43788b00', 2)\",\"('take-partial-b756148bb12631af91e0093b43788b00', 3)\",\"('take-to_dataframe-set_index-488303fc0eb1154103a82ef26f89296a-index', 0)\",\"('set_index-488303fc0eb1154103a82ef26f89296a-index', 0)\",\"('max-11058b3afb4ee89a979cc6fbfe537250', 0)\",\"('min-f1f45995de892f59e361822bfd437c9d', 0)\",\"('take-partial-b756148bb12631af91e0093b43788b00', 0)\",\"('take-partial-b756148bb12631af91e0093b43788b00', 1)\",\"('take-partial-b756148bb12631af91e0093b43788b00', 2)\",\"('take-partial-b756148bb12631af91e0093b43788b00', 3)\",\"_write_partition_fastparquet-reset_index-set_index-take-to_dataframe-_write_metadata-05d4b75e-86d3-41f3-a7f9-6f3355a486f3\",\"_write_metadata-05d4b75e-86d3-41f3-a7f9-6f3355a486f3\"],\"width\":[20.13645736698527,21.054304254008457,19.294017570093274,26.157322323066182,29.37878696701955,0.012815542053431273,0.01122997491620481,0.010415190015919507,20.340233021997847,25.34868951397948,19.57457632396836,29.402413286967203,42.50784477905836,0.007103621028363705],\"x\":[10.068228683434427,10.529785547056235,9.65167495701462,13.085298787569627,40.85339200356975,55.54945183801465,55.5614929695148,55.56265579210594,68.8530416849535,71.35906558402348,68.47502819006331,73.3918585604988,109.34700283757411,130.6048257985385],\"y\":[3,2,4,1,4,3,2,1,4,3,2,1,2,4]},\"selected\":null,\"selection_policy\":null},\"id\":\"ee5b5356-1c9f-42aa-9238-942b3d16d29c\",\"type\":\"ColumnDataSource\"},{\"attributes\":{\"line_alpha\":0.1,\"line_color\":\"#1f77b4\",\"line_width\":3,\"x\":{\"field\":\"x\"},\"y\":{\"field\":\"y\"}},\"id\":\"ba06d336-0ae0-40de-9ebb-bcaf994198ad\",\"type\":\"Line\"},{\"attributes\":{\"data_source\":{\"id\":\"e6911de4-7336-46da-a94a-78341eb53f0f\",\"type\":\"ColumnDataSource\"},\"glyph\":{\"id\":\"aa5b09c3-6bd3-4369-a01b-704888adb3e2\",\"type\":\"Line\"},\"hover_glyph\":null,\"muted_glyph\":null,\"nonselection_glyph\":{\"id\":\"1f9ab954-349e-4f69-b1eb-78b36ab274af\",\"type\":\"Line\"},\"selection_glyph\":null,\"view\":{\"id\":\"6a5ef35e-7c15-4b45-8163-1095a74bd2f0\",\"type\":\"CDSView\"},\"y_range_name\":\"memory\"},\"id\":\"9f206cce-83cf-4cad-b108-d8618a0bd0de\",\"type\":\"GlyphRenderer\"},{\"attributes\":{\"children\":[{\"id\":\"fda628bd-bdd5-456f-9b6a-d4899cf13339\",\"subtype\":\"Figure\",\"type\":\"Plot\"}]},\"id\":\"5d5f6e86-1aec-4dbd-9faa-3f6e5c3d8ff6\",\"type\":\"Row\"},{\"attributes\":{\"label\":{\"value\":\"Memory\"},\"renderers\":[{\"id\":\"9f206cce-83cf-4cad-b108-d8618a0bd0de\",\"type\":\"GlyphRenderer\"}]},\"id\":\"f159e5b6-54b6-4135-aaaa-72db1781247f\",\"type\":\"LegendItem\"},{\"attributes\":{\"children\":[{\"id\":\"cb2bef8a-c09e-4b89-8e17-3f58cdc6c2f1\",\"type\":\"ToolbarBox\"},{\"id\":\"6e145627-7b88-4867-b3bd-fdd029d88d8c\",\"type\":\"Column\"}]},\"id\":\"17883198-6890-4dbf-a373-ccdb7708bdcc\",\"type\":\"Column\"},{\"attributes\":{\"dimensions\":\"width\"},\"id\":\"2d15bf2e-fa6b-4b21-bfb8-d09488f579eb\",\"type\":\"PanTool\"},{\"attributes\":{\"dimensions\":\"width\"},\"id\":\"79110713-f066-420a-8fa2-8f5fcb74c44c\",\"type\":\"WheelZoomTool\"},{\"attributes\":{\"label\":{\"value\":\"% CPU\"},\"renderers\":[{\"id\":\"48ef801b-604f-4f23-9b20-3314cce7188b\",\"type\":\"GlyphRenderer\"}]},\"id\":\"23d37ea3-53c0-4a11-9b65-4b88dbefe834\",\"type\":\"LegendItem\"},{\"attributes\":{\"axis_label\":\"Time (s)\",\"formatter\":{\"id\":\"2f180602-7f56-4c2d-93ff-4452e3150580\",\"type\":\"BasicTickFormatter\"},\"plot\":{\"id\":\"fda628bd-bdd5-456f-9b6a-d4899cf13339\",\"subtype\":\"Figure\",\"type\":\"Plot\"},\"ticker\":{\"id\":\"fd2f583f-63b5-430d-a2f3-e9cd6c38bfed\",\"type\":\"BasicTicker\"}},\"id\":\"eab193e8-7a9a-4f01-86f3-ae83fd52e920\",\"type\":\"LinearAxis\"},{\"attributes\":{\"dimensions\":\"width\"},\"id\":\"cabdf021-075c-469b-a6bd-30fc5ae418d1\",\"type\":\"PanTool\"},{\"attributes\":{\"dimension\":1,\"grid_line_color\":{\"value\":null},\"plot\":{\"id\":\"34b342d6-9c72-4857-a04c-08c8ea29f70e\",\"subtype\":\"Figure\",\"type\":\"Plot\"},\"ticker\":{\"id\":\"9ded3f55-86d5-43c3-bd61-e20347911539\",\"type\":\"CategoricalTicker\"}},\"id\":\"fa878a3b-af90-4df2-8d07-86028406d76e\",\"type\":\"Grid\"},{\"attributes\":{\"data_source\":{\"id\":\"a217335e-5596-482c-948f-963f03e63ec8\",\"type\":\"ColumnDataSource\"},\"glyph\":{\"id\":\"94af4d54-5c93-4cf7-b732-28220ddc1440\",\"type\":\"Line\"},\"hover_glyph\":null,\"muted_glyph\":null,\"nonselection_glyph\":{\"id\":\"0575aa09-900d-4c73-9116-386591419140\",\"type\":\"Line\"},\"selection_glyph\":null,\"view\":{\"id\":\"f20a4650-31dd-40ea-8f99-54b14fd9c0b5\",\"type\":\"CDSView\"}},\"id\":\"c4cfcaa7-f0e1-44e5-a77e-90ee12b91389\",\"type\":\"GlyphRenderer\"},{\"attributes\":{\"callback\":null,\"column_names\":[\"x\",\"y\",\"label\"],\"data\":{\"label\":[\"list(take(*, map_chunk(...)))\",\"list(take(*, map_chunk(...)))\",\"list(take(*, map_chunk(...)))\",\"list(take(*, map_chunk(...)))\",\"list(take(*, map_chunk(...)))\",\"list(take(*, map_chunk(...)))\",\"list(take(*, map_chunk(...)))\",\"list(take(*, map_chunk(...)))\",\"list(take(*, map_chunk(...)))\",\"list(take(*, map_chunk(...)))\",\"list(take(*, map_chunk(...)))\",\"list(take(*, map_chunk(...)))\",\"list(take(*, map_chunk(...)))\",\"list(take(*, map_chunk(...)))\",\"list(take(*, map_chunk(...)))\",\"list(take(*, map_chunk(...)))\",\"list(take(*, map_chunk(...)))\"],\"x\":[0,19.314806537004188,20.152581515954807,21.073060911963694,26.18008303793613,55.55899647192564,55.5719821829116,55.58323222293984,55.58398545195814,55.58421069593169,78.27843998197932,79.03928343998268,84.04953396692872,88.10918868298177,130.61718055792153,130.62450119492132,130.6246636370197],\"y\":[0,1,2,3,4,0,0,0,0,0,1,2,3,4,0,0,0]},\"selected\":null,\"selection_policy\":null},\"id\":\"0e1e0d5f-b9e4-4363-adda-182d67b660fd\",\"type\":\"ColumnDataSource\"},{\"attributes\":{\"callback\":null},\"id\":\"d1f0f429-35a9-4fbe-89bd-ed434c071e9e\",\"type\":\"DataRange1d\"},{\"attributes\":{},\"id\":\"4a0878fb-3b5d-409a-9210-75e8b5e0024b\",\"type\":\"BasicTicker\"},{\"attributes\":{\"below\":[{\"id\":\"192f4faf-5832-4298-b591-35eadc99ca25\",\"type\":\"LinearAxis\"}],\"extra_y_ranges\":{\"memory\":{\"id\":\"2a46d0e2-7549-4214-bc1a-130cba9d020e\",\"type\":\"Range1d\"}},\"left\":[{\"id\":\"084fc66d-7882-41e0-8017-6590ade73f49\",\"type\":\"LinearAxis\"}],\"min_border_bottom\":20,\"min_border_left\":75,\"min_border_right\":75,\"min_border_top\":20,\"plot_height\":240,\"plot_width\":800,\"renderers\":[{\"id\":\"192f4faf-5832-4298-b591-35eadc99ca25\",\"type\":\"LinearAxis\"},{\"id\":\"0b60d701-d2c0-4ffc-aa91-ff2b8572008a\",\"type\":\"Grid\"},{\"id\":\"084fc66d-7882-41e0-8017-6590ade73f49\",\"type\":\"LinearAxis\"},{\"id\":\"35539198-6b4e-45c6-8b33-9abefa72255e\",\"type\":\"Grid\"},{\"id\":\"e04ebf9b-d09b-456d-a25c-c4681750b898\",\"type\":\"Legend\"},{\"id\":\"48ef801b-604f-4f23-9b20-3314cce7188b\",\"type\":\"GlyphRenderer\"},{\"id\":\"9f206cce-83cf-4cad-b108-d8618a0bd0de\",\"type\":\"GlyphRenderer\"},{\"id\":\"c531958a-54d8-4b54-94a8-239bff5be9c1\",\"type\":\"LinearAxis\"}],\"right\":[{\"id\":\"c531958a-54d8-4b54-94a8-239bff5be9c1\",\"type\":\"LinearAxis\"}],\"title\":null,\"toolbar\":{\"id\":\"fa8d3a70-4d20-498e-b66a-0c31085f097a\",\"type\":\"Toolbar\"},\"toolbar_location\":null,\"x_range\":{\"id\":\"14edf3a2-9812-451f-ada2-0076afef112f\",\"type\":\"Range1d\"},\"x_scale\":{\"id\":\"547d16b8-0a67-43b1-8250-65891ded11e7\",\"type\":\"LinearScale\"},\"y_range\":{\"id\":\"67014286-d294-4292-a6ae-44bcccf52914\",\"type\":\"Range1d\"},\"y_scale\":{\"id\":\"2f17014f-2696-48ca-8cde-5ef77f2bccba\",\"type\":\"LinearScale\"}},\"id\":\"6da2a341-ea97-4669-88fb-c140256bce76\",\"subtype\":\"Figure\",\"type\":\"Plot\"},{\"attributes\":{\"callback\":null,\"tooltips\":\"\\n    <div>\\n        <span style=\\\"font-size: 14px; font-weight: bold;\\\">Task:</span>&nbsp;\\n        <span style=\\\"font-size: 10px; font-family: Monaco, monospace;\\\">@label</span>\\n    </div>\\n    \"},\"id\":\"8a688bd8-4088-4017-9cc5-11a67d50f825\",\"type\":\"HoverTool\"},{\"attributes\":{\"plot\":null,\"text\":\"Profile Results\"},\"id\":\"63cae098-f103-412c-8ee2-20cccab791d4\",\"type\":\"Title\"},{\"attributes\":{\"axis_label\":\"Cache Size (count)\",\"formatter\":{\"id\":\"acac6263-798b-4461-bbf4-5b33432e519e\",\"type\":\"BasicTickFormatter\"},\"plot\":{\"id\":\"fda628bd-bdd5-456f-9b6a-d4899cf13339\",\"subtype\":\"Figure\",\"type\":\"Plot\"},\"ticker\":{\"id\":\"4a0878fb-3b5d-409a-9210-75e8b5e0024b\",\"type\":\"BasicTicker\"}},\"id\":\"fc280806-fc71-479d-85b7-86530062daac\",\"type\":\"LinearAxis\"},{\"attributes\":{\"toolbar\":{\"id\":\"560e5f79-dcc0-42cd-9373-cae67a60b626\",\"type\":\"ProxyToolbar\"},\"toolbar_location\":\"above\"},\"id\":\"cb2bef8a-c09e-4b89-8e17-3f58cdc6c2f1\",\"type\":\"ToolbarBox\"},{\"attributes\":{\"children\":[{\"id\":\"6da2a341-ea97-4669-88fb-c140256bce76\",\"subtype\":\"Figure\",\"type\":\"Plot\"}]},\"id\":\"45d78e5f-cae1-435a-bb4c-7d11ac08f863\",\"type\":\"Row\"},{\"attributes\":{\"fill_color\":{\"field\":\"color\"},\"height\":{\"units\":\"data\",\"value\":1},\"line_color\":{\"value\":\"gray\"},\"width\":{\"field\":\"width\",\"units\":\"data\"},\"x\":{\"field\":\"x\"},\"y\":{\"field\":\"y\"}},\"id\":\"0d2a97bf-ccad-42a2-b744-7472b47efe1e\",\"type\":\"Rect\"},{\"attributes\":{\"line_color\":\"#208F8C\",\"line_width\":3,\"x\":{\"field\":\"x\"},\"y\":{\"field\":\"y\"}},\"id\":\"daffeba9-028a-4970-90a1-98a7a85ce23f\",\"type\":\"Line\"},{\"attributes\":{\"line_color\":\"#3B518A\",\"line_width\":3,\"x\":{\"field\":\"x\"},\"y\":{\"field\":\"y\"}},\"id\":\"039c561f-c94b-494a-95e9-55581090b5c9\",\"type\":\"Line\"},{\"attributes\":{\"source\":{\"id\":\"0e1e0d5f-b9e4-4363-adda-182d67b660fd\",\"type\":\"ColumnDataSource\"}},\"id\":\"39fb92fa-d2c6-43ed-8ee7-4b73ddec22e9\",\"type\":\"CDSView\"},{\"attributes\":{},\"id\":\"a91b2029-b00d-4b7f-b272-756927856af8\",\"type\":\"BasicTickFormatter\"},{\"attributes\":{\"below\":[{\"id\":\"eab193e8-7a9a-4f01-86f3-ae83fd52e920\",\"type\":\"LinearAxis\"}],\"left\":[{\"id\":\"fc280806-fc71-479d-85b7-86530062daac\",\"type\":\"LinearAxis\"}],\"min_border_left\":75,\"min_border_right\":75,\"min_border_top\":20,\"plot_height\":270,\"plot_width\":800,\"renderers\":[{\"id\":\"eab193e8-7a9a-4f01-86f3-ae83fd52e920\",\"type\":\"LinearAxis\"},{\"id\":\"761fb8b4-3b7b-4e2c-9bf6-e4b3a36a3125\",\"type\":\"Grid\"},{\"id\":\"fc280806-fc71-479d-85b7-86530062daac\",\"type\":\"LinearAxis\"},{\"id\":\"61fa7515-cf13-42f3-bcb4-aff332a709dc\",\"type\":\"Grid\"},{\"id\":\"c7e5cec7-e550-4360-bbf7-2e7c353c1d56\",\"type\":\"GlyphRenderer\"},{\"id\":\"c4cfcaa7-f0e1-44e5-a77e-90ee12b91389\",\"type\":\"GlyphRenderer\"},{\"id\":\"ceec10a1-6b3c-473f-8cd8-6e2092dddf3e\",\"type\":\"GlyphRenderer\"},{\"id\":\"011d43aa-4960-4457-87d9-f32d039f15ba\",\"type\":\"GlyphRenderer\"},{\"id\":\"42b3cde6-822f-4962-9394-cc9b42b13790\",\"type\":\"GlyphRenderer\"}],\"title\":null,\"toolbar\":{\"id\":\"079a120f-047e-4ca1-bfc0-1fadc0c8f7d5\",\"type\":\"Toolbar\"},\"toolbar_location\":null,\"x_range\":{\"id\":\"14edf3a2-9812-451f-ada2-0076afef112f\",\"type\":\"Range1d\"},\"x_scale\":{\"id\":\"781708c4-740f-4ae4-a322-970a7b22e109\",\"type\":\"LinearScale\"},\"y_range\":{\"id\":\"d1f0f429-35a9-4fbe-89bd-ed434c071e9e\",\"type\":\"DataRange1d\"},\"y_scale\":{\"id\":\"7edaffea-181a-4058-be06-d005b8fb20c7\",\"type\":\"LinearScale\"}},\"id\":\"fda628bd-bdd5-456f-9b6a-d4899cf13339\",\"subtype\":\"Figure\",\"type\":\"Plot\"},{\"attributes\":{},\"id\":\"b39ed300-744d-4aab-8f38-35023807f9bf\",\"type\":\"ResetTool\"},{\"attributes\":{},\"id\":\"26218063-b6d4-44e6-83ff-d03eaa62372b\",\"type\":\"SaveTool\"},{\"attributes\":{\"below\":[{\"id\":\"97d97182-66d1-4be6-bd2b-2d27b978b31b\",\"type\":\"LinearAxis\"}],\"left\":[{\"id\":\"0a1eba37-81c5-4487-9008-c3b4f191f5e1\",\"type\":\"CategoricalAxis\"}],\"min_border_bottom\":20,\"min_border_left\":75,\"min_border_right\":75,\"plot_height\":270,\"plot_width\":800,\"renderers\":[{\"id\":\"97d97182-66d1-4be6-bd2b-2d27b978b31b\",\"type\":\"LinearAxis\"},{\"id\":\"8ff0532e-5c56-4cc1-8917-02f53745d643\",\"type\":\"Grid\"},{\"id\":\"0a1eba37-81c5-4487-9008-c3b4f191f5e1\",\"type\":\"CategoricalAxis\"},{\"id\":\"fa878a3b-af90-4df2-8d07-86028406d76e\",\"type\":\"Grid\"},{\"id\":\"8e9f9c72-607d-44b9-8081-e5391f0f0c40\",\"type\":\"GlyphRenderer\"}],\"title\":{\"id\":\"63cae098-f103-412c-8ee2-20cccab791d4\",\"type\":\"Title\"},\"toolbar\":{\"id\":\"63af4c71-77de-442a-ac03-0cac1f59b576\",\"type\":\"Toolbar\"},\"toolbar_location\":null,\"x_range\":{\"id\":\"14edf3a2-9812-451f-ada2-0076afef112f\",\"type\":\"Range1d\"},\"x_scale\":{\"id\":\"50f5c063-bc84-4b23-a08d-1587931174e5\",\"type\":\"LinearScale\"},\"y_range\":{\"id\":\"793d87ba-adab-4552-a0f7-972ae33db825\",\"type\":\"FactorRange\"},\"y_scale\":{\"id\":\"63080c1d-3d1c-4ee5-920c-9cedf6d15045\",\"type\":\"CategoricalScale\"}},\"id\":\"34b342d6-9c72-4857-a04c-08c8ea29f70e\",\"subtype\":\"Figure\",\"type\":\"Plot\"},{\"attributes\":{},\"id\":\"50f5c063-bc84-4b23-a08d-1587931174e5\",\"type\":\"LinearScale\"},{\"attributes\":{\"data_source\":{\"id\":\"ee5b5356-1c9f-42aa-9238-942b3d16d29c\",\"type\":\"ColumnDataSource\"},\"glyph\":{\"id\":\"0d2a97bf-ccad-42a2-b744-7472b47efe1e\",\"type\":\"Rect\"},\"hover_glyph\":null,\"muted_glyph\":null,\"nonselection_glyph\":{\"id\":\"0f3c3e13-7024-4886-b477-6e9d07b85363\",\"type\":\"Rect\"},\"selection_glyph\":null,\"view\":{\"id\":\"c18b278a-cff5-4b5f-a72f-071edea1ff73\",\"type\":\"CDSView\"}},\"id\":\"8e9f9c72-607d-44b9-8081-e5391f0f0c40\",\"type\":\"GlyphRenderer\"},{\"attributes\":{\"line_color\":\"#5BC862\",\"line_width\":3,\"x\":{\"field\":\"x\"},\"y\":{\"field\":\"y\"}},\"id\":\"94af4d54-5c93-4cf7-b732-28220ddc1440\",\"type\":\"Line\"},{\"attributes\":{\"source\":{\"id\":\"a15c07c8-6bba-40c1-ae8d-b6e1222701d2\",\"type\":\"ColumnDataSource\"}},\"id\":\"1f2f275c-0f1a-4c2a-b4c5-c7fd572b24bf\",\"type\":\"CDSView\"},{\"attributes\":{\"axis_label\":\"% CPU\",\"formatter\":{\"id\":\"a91b2029-b00d-4b7f-b272-756927856af8\",\"type\":\"BasicTickFormatter\"},\"plot\":{\"id\":\"6da2a341-ea97-4669-88fb-c140256bce76\",\"subtype\":\"Figure\",\"type\":\"Plot\"},\"ticker\":{\"id\":\"1e814632-27c0-4a85-bd8d-3ce764b2188e\",\"type\":\"BasicTicker\"}},\"id\":\"084fc66d-7882-41e0-8017-6590ade73f49\",\"type\":\"LinearAxis\"},{\"attributes\":{\"callback\":null,\"end\":130.6083776090527},\"id\":\"14edf3a2-9812-451f-ada2-0076afef112f\",\"type\":\"Range1d\"},{\"attributes\":{},\"id\":\"0615134d-2a58-47dc-8ca1-0f3802598475\",\"type\":\"BasicTicker\"},{\"attributes\":{\"data_source\":{\"id\":\"1c1becbf-cda5-4c4a-b86c-10f80e75e264\",\"type\":\"ColumnDataSource\"},\"glyph\":{\"id\":\"daffeba9-028a-4970-90a1-98a7a85ce23f\",\"type\":\"Line\"},\"hover_glyph\":null,\"muted_glyph\":null,\"nonselection_glyph\":{\"id\":\"ba06d336-0ae0-40de-9ebb-bcaf994198ad\",\"type\":\"Line\"},\"selection_glyph\":null,\"view\":{\"id\":\"e0648dc0-dde5-4b1f-a1f3-f283c7168065\",\"type\":\"CDSView\"}},\"id\":\"011d43aa-4960-4457-87d9-f32d039f15ba\",\"type\":\"GlyphRenderer\"},{\"attributes\":{\"tools\":[{\"id\":\"8b4de9e6-59a3-4d48-bc61-41b04b362c09\",\"type\":\"HoverTool\"},{\"id\":\"26218063-b6d4-44e6-83ff-d03eaa62372b\",\"type\":\"SaveTool\"},{\"id\":\"b4d564d4-99dc-49e3-b4a3-594a3bbc3d48\",\"type\":\"ResetTool\"},{\"id\":\"d2b53027-9a8c-4e26-b92c-ba53288a9e70\",\"type\":\"WheelZoomTool\"},{\"id\":\"2b728123-e30e-40d8-9488-6c03d99d569c\",\"type\":\"PanTool\"},{\"id\":\"499db9db-915c-4abf-b84f-bce4ecd78562\",\"type\":\"SaveTool\"},{\"id\":\"4dddf82d-b78e-4d21-8836-d259aa2885cf\",\"type\":\"ResetTool\"},{\"id\":\"79110713-f066-420a-8fa2-8f5fcb74c44c\",\"type\":\"WheelZoomTool\"},{\"id\":\"2d15bf2e-fa6b-4b21-bfb8-d09488f579eb\",\"type\":\"PanTool\"},{\"id\":\"8a688bd8-4088-4017-9cc5-11a67d50f825\",\"type\":\"HoverTool\"},{\"id\":\"2acd93b4-bca5-437d-87cb-3ec4c59f6cb0\",\"type\":\"SaveTool\"},{\"id\":\"b39ed300-744d-4aab-8f38-35023807f9bf\",\"type\":\"ResetTool\"},{\"id\":\"7d2a1706-c116-49da-9e3f-d003409141d8\",\"type\":\"WheelZoomTool\"},{\"id\":\"cabdf021-075c-469b-a6bd-30fc5ae418d1\",\"type\":\"PanTool\"}]},\"id\":\"560e5f79-dcc0-42cd-9373-cae67a60b626\",\"type\":\"ProxyToolbar\"},{\"attributes\":{},\"id\":\"781708c4-740f-4ae4-a322-970a7b22e109\",\"type\":\"LinearScale\"},{\"attributes\":{\"callback\":null,\"column_names\":[\"x\",\"y\",\"label\"],\"data\":{\"label\":[\"_\",\"_\",\"_\",\"_\",\"_\",\"_\",\"_\",\"_\",\"_\",\"_\",\"_\",\"_\",\"_\",\"_\",\"_\",\"_\",\"_\"],\"x\":[0,19.314806537004188,20.152581515954807,21.073060911963694,26.18008303793613,55.55899647192564,55.5719821829116,55.58323222293984,55.58398545195814,55.58421069593169,78.27843998197932,79.03928343998268,84.04953396692872,88.10918868298177,130.61718055792153,130.62450119492132,130.6246636370197],\"y\":[0,0,0,0,0,0,1,1,0,0,0,0,0,0,0,1,0]},\"selected\":null,\"selection_policy\":null},\"id\":\"a15c07c8-6bba-40c1-ae8d-b6e1222701d2\",\"type\":\"ColumnDataSource\"},{\"attributes\":{},\"id\":\"547d16b8-0a67-43b1-8250-65891ded11e7\",\"type\":\"LinearScale\"},{\"attributes\":{\"active_drag\":\"auto\",\"active_inspect\":\"auto\",\"active_scroll\":\"auto\",\"active_tap\":\"auto\",\"tools\":[{\"id\":\"8a688bd8-4088-4017-9cc5-11a67d50f825\",\"type\":\"HoverTool\"},{\"id\":\"2acd93b4-bca5-437d-87cb-3ec4c59f6cb0\",\"type\":\"SaveTool\"},{\"id\":\"b39ed300-744d-4aab-8f38-35023807f9bf\",\"type\":\"ResetTool\"},{\"id\":\"7d2a1706-c116-49da-9e3f-d003409141d8\",\"type\":\"WheelZoomTool\"},{\"id\":\"cabdf021-075c-469b-a6bd-30fc5ae418d1\",\"type\":\"PanTool\"}]},\"id\":\"079a120f-047e-4ca1-bfc0-1fadc0c8f7d5\",\"type\":\"Toolbar\"},{\"attributes\":{\"axis_label\":null,\"formatter\":{\"id\":\"3694aaca-c5db-422a-a945-17ad9db22dcc\",\"type\":\"BasicTickFormatter\"},\"plot\":{\"id\":\"6da2a341-ea97-4669-88fb-c140256bce76\",\"subtype\":\"Figure\",\"type\":\"Plot\"},\"ticker\":{\"id\":\"aa28a084-e2f8-49db-bbc7-df921c523630\",\"type\":\"BasicTicker\"}},\"id\":\"192f4faf-5832-4298-b591-35eadc99ca25\",\"type\":\"LinearAxis\"},{\"attributes\":{\"plot\":{\"id\":\"fda628bd-bdd5-456f-9b6a-d4899cf13339\",\"subtype\":\"Figure\",\"type\":\"Plot\"},\"ticker\":{\"id\":\"fd2f583f-63b5-430d-a2f3-e9cd6c38bfed\",\"type\":\"BasicTicker\"}},\"id\":\"761fb8b4-3b7b-4e2c-9bf6-e4b3a36a3125\",\"type\":\"Grid\"},{\"attributes\":{\"callback\":null,\"point_policy\":\"follow_mouse\",\"tooltips\":\"\\n    <div>\\n        <span style=\\\"font-size: 14px; font-weight: bold;\\\">Key:</span>&nbsp;\\n        <span style=\\\"font-size: 10px; font-family: Monaco, monospace;\\\">@key</span>\\n    </div>\\n    <div>\\n        <span style=\\\"font-size: 14px; font-weight: bold;\\\">Task:</span>&nbsp;\\n        <span style=\\\"font-size: 10px; font-family: Monaco, monospace;\\\">@function</span>\\n    </div>\\n    \"},\"id\":\"8b4de9e6-59a3-4d48-bc61-41b04b362c09\",\"type\":\"HoverTool\"},{\"attributes\":{},\"id\":\"2acd93b4-bca5-437d-87cb-3ec4c59f6cb0\",\"type\":\"SaveTool\"},{\"attributes\":{\"active_drag\":\"auto\",\"active_inspect\":\"auto\",\"active_scroll\":\"auto\",\"active_tap\":\"auto\",\"tools\":[{\"id\":\"8b4de9e6-59a3-4d48-bc61-41b04b362c09\",\"type\":\"HoverTool\"},{\"id\":\"26218063-b6d4-44e6-83ff-d03eaa62372b\",\"type\":\"SaveTool\"},{\"id\":\"b4d564d4-99dc-49e3-b4a3-594a3bbc3d48\",\"type\":\"ResetTool\"},{\"id\":\"d2b53027-9a8c-4e26-b92c-ba53288a9e70\",\"type\":\"WheelZoomTool\"},{\"id\":\"2b728123-e30e-40d8-9488-6c03d99d569c\",\"type\":\"PanTool\"}]},\"id\":\"63af4c71-77de-442a-ac03-0cac1f59b576\",\"type\":\"Toolbar\"},{\"attributes\":{\"line_color\":\"#440154\",\"line_width\":3,\"x\":{\"field\":\"x\"},\"y\":{\"field\":\"y\"}},\"id\":\"a7e25759-8e22-4105-bae2-b23428dd7351\",\"type\":\"Line\"},{\"attributes\":{\"data_source\":{\"id\":\"0e1e0d5f-b9e4-4363-adda-182d67b660fd\",\"type\":\"ColumnDataSource\"},\"glyph\":{\"id\":\"cf790c18-ccc6-4b3c-995c-6f112d6cf994\",\"type\":\"Line\"},\"hover_glyph\":null,\"muted_glyph\":null,\"nonselection_glyph\":{\"id\":\"a205eed6-c326-43a6-ad3c-1e16f47d6f5d\",\"type\":\"Line\"},\"selection_glyph\":null,\"view\":{\"id\":\"39fb92fa-d2c6-43ed-8ee7-4b73ddec22e9\",\"type\":\"CDSView\"}},\"id\":\"c7e5cec7-e550-4360-bbf7-2e7c353c1d56\",\"type\":\"GlyphRenderer\"},{\"attributes\":{},\"id\":\"7edaffea-181a-4058-be06-d005b8fb20c7\",\"type\":\"LinearScale\"},{\"attributes\":{},\"id\":\"499db9db-915c-4abf-b84f-bce4ecd78562\",\"type\":\"SaveTool\"},{\"attributes\":{},\"id\":\"3694aaca-c5db-422a-a945-17ad9db22dcc\",\"type\":\"BasicTickFormatter\"},{\"attributes\":{},\"id\":\"63080c1d-3d1c-4ee5-920c-9cedf6d15045\",\"type\":\"CategoricalScale\"},{\"attributes\":{\"dimension\":1,\"plot\":{\"id\":\"6da2a341-ea97-4669-88fb-c140256bce76\",\"subtype\":\"Figure\",\"type\":\"Plot\"},\"ticker\":{\"id\":\"1e814632-27c0-4a85-bd8d-3ce764b2188e\",\"type\":\"BasicTicker\"}},\"id\":\"35539198-6b4e-45c6-8b33-9abefa72255e\",\"type\":\"Grid\"},{\"attributes\":{\"data_source\":{\"id\":\"a15c07c8-6bba-40c1-ae8d-b6e1222701d2\",\"type\":\"ColumnDataSource\"},\"glyph\":{\"id\":\"a7e25759-8e22-4105-bae2-b23428dd7351\",\"type\":\"Line\"},\"hover_glyph\":null,\"muted_glyph\":null,\"nonselection_glyph\":{\"id\":\"73ec8bc7-c9e8-4429-b9ae-795173da160f\",\"type\":\"Line\"},\"selection_glyph\":null,\"view\":{\"id\":\"1f2f275c-0f1a-4c2a-b4c5-c7fd572b24bf\",\"type\":\"CDSView\"}},\"id\":\"ceec10a1-6b3c-473f-8cd8-6e2092dddf3e\",\"type\":\"GlyphRenderer\"},{\"attributes\":{},\"id\":\"8683b135-7805-4bc9-8bab-7d336f696b7e\",\"type\":\"BasicTickFormatter\"},{\"attributes\":{},\"id\":\"7d2a1706-c116-49da-9e3f-d003409141d8\",\"type\":\"WheelZoomTool\"},{\"attributes\":{},\"id\":\"3dcc37ef-8b51-4f31-810b-7aa70d839550\",\"type\":\"CategoricalTickFormatter\"},{\"attributes\":{},\"id\":\"1e814632-27c0-4a85-bd8d-3ce764b2188e\",\"type\":\"BasicTicker\"},{\"attributes\":{},\"id\":\"8da2e36a-1106-429a-b59b-cc81fefb752b\",\"type\":\"BasicTickFormatter\"},{\"attributes\":{\"line_alpha\":0.1,\"line_color\":\"#1f77b4\",\"line_width\":3,\"x\":{\"field\":\"x\"},\"y\":{\"field\":\"y\"}},\"id\":\"73ec8bc7-c9e8-4429-b9ae-795173da160f\",\"type\":\"Line\"},{\"attributes\":{\"line_alpha\":0.1,\"line_color\":\"#1f77b4\",\"line_width\":3,\"x\":{\"field\":\"x\"},\"y\":{\"field\":\"y\"}},\"id\":\"8d22c6d5-eeb6-4611-a8bc-a757b5f420ab\",\"type\":\"Line\"},{\"attributes\":{\"callback\":null,\"column_names\":[\"x\",\"y\",\"label\"],\"data\":{\"label\":[\"_write_metadata([_write_partition_fastparquet(...)], [*], *, *, *, *)\",\"_write_metadata([_write_partition_fastparquet(...)], [*], *, *, *, *)\",\"_write_metadata([_write_partition_fastparquet(...)], [*], *, *, *, *)\",\"_write_metadata([_write_partition_fastparquet(...)], [*], *, *, *, *)\",\"_write_metadata([_write_partition_fastparquet(...)], [*], *, *, *, *)\",\"_write_metadata([_write_partition_fastparquet(...)], [*], *, *, *, *)\",\"_write_metadata([_write_partition_fastparquet(...)], [*], *, *, *, *)\",\"_write_metadata([_write_partition_fastparquet(...)], [*], *, *, *, *)\",\"_write_metadata([_write_partition_fastparquet(...)], [*], *, *, *, *)\",\"_write_metadata([_write_partition_fastparquet(...)], [*], *, *, *, *)\",\"_write_metadata([_write_partition_fastparquet(...)], [*], *, *, *, *)\",\"_write_metadata([_write_partition_fastparquet(...)], [*], *, *, *, *)\",\"_write_metadata([_write_partition_fastparquet(...)], [*], *, *, *, *)\",\"_write_metadata([_write_partition_fastparquet(...)], [*], *, *, *, *)\",\"_write_metadata([_write_partition_fastparquet(...)], [*], *, *, *, *)\",\"_write_metadata([_write_partition_fastparquet(...)], [*], *, *, *, *)\",\"_write_metadata([_write_partition_fastparquet(...)], [*], *, *, *, *)\"],\"x\":[0,19.314806537004188,20.152581515954807,21.073060911963694,26.18008303793613,55.55899647192564,55.5719821829116,55.58323222293984,55.58398545195814,55.58421069593169,78.27843998197932,79.03928343998268,84.04953396692872,88.10918868298177,130.61718055792153,130.62450119492132,130.6246636370197],\"y\":[0,0,0,0,0,0,0,0,0,0,0,0,0,0,1,0,0]},\"selected\":null,\"selection_policy\":null},\"id\":\"23008e1a-242a-477c-bb5d-0da3deff108a\",\"type\":\"ColumnDataSource\"},{\"attributes\":{},\"id\":\"4dddf82d-b78e-4d21-8836-d259aa2885cf\",\"type\":\"ResetTool\"},{\"attributes\":{\"dimensions\":\"width\"},\"id\":\"d2b53027-9a8c-4e26-b92c-ba53288a9e70\",\"type\":\"WheelZoomTool\"},{\"attributes\":{\"callback\":null,\"factors\":[\"0\",\"1\",\"2\",\"3\"]},\"id\":\"793d87ba-adab-4552-a0f7-972ae33db825\",\"type\":\"FactorRange\"},{\"attributes\":{\"line_alpha\":0.1,\"line_color\":\"#1f77b4\",\"line_width\":3,\"x\":{\"field\":\"x\"},\"y\":{\"field\":\"y\"}},\"id\":\"0575aa09-900d-4c73-9116-386591419140\",\"type\":\"Line\"},{\"attributes\":{\"source\":{\"id\":\"23008e1a-242a-477c-bb5d-0da3deff108a\",\"type\":\"ColumnDataSource\"}},\"id\":\"653c510d-3d59-4d2b-bd1c-b4641a26e761\",\"type\":\"CDSView\"},{\"attributes\":{\"line_color\":\"#FDE724\",\"line_width\":3,\"x\":{\"field\":\"x\"},\"y\":{\"field\":\"y\"}},\"id\":\"cf790c18-ccc6-4b3c-995c-6f112d6cf994\",\"type\":\"Line\"},{\"attributes\":{\"source\":{\"id\":\"e6911de4-7336-46da-a94a-78341eb53f0f\",\"type\":\"ColumnDataSource\"}},\"id\":\"6a5ef35e-7c15-4b45-8163-1095a74bd2f0\",\"type\":\"CDSView\"},{\"attributes\":{\"callback\":null,\"column_names\":[\"x\",\"y\",\"label\"],\"data\":{\"label\":[\"getattr(apply_and_enforce(...), *)\",\"getattr(apply_and_enforce(...), *)\",\"getattr(apply_and_enforce(...), *)\",\"getattr(apply_and_enforce(...), *)\",\"getattr(apply_and_enforce(...), *)\",\"getattr(apply_and_enforce(...), *)\",\"getattr(apply_and_enforce(...), *)\",\"getattr(apply_and_enforce(...), *)\",\"getattr(apply_and_enforce(...), *)\",\"getattr(apply_and_enforce(...), *)\",\"getattr(apply_and_enforce(...), *)\",\"getattr(apply_and_enforce(...), *)\",\"getattr(apply_and_enforce(...), *)\",\"getattr(apply_and_enforce(...), *)\",\"getattr(apply_and_enforce(...), *)\",\"getattr(apply_and_enforce(...), *)\",\"getattr(apply_and_enforce(...), *)\"],\"x\":[0,19.314806537004188,20.152581515954807,21.073060911963694,26.18008303793613,55.55899647192564,55.5719821829116,55.58323222293984,55.58398545195814,55.58421069593169,78.27843998197932,79.03928343998268,84.04953396692872,88.10918868298177,130.61718055792153,130.62450119492132,130.6246636370197],\"y\":[0,0,0,0,0,1,0,0,0,0,0,0,0,0,0,0,0]},\"selected\":null,\"selection_policy\":null},\"id\":\"a217335e-5596-482c-948f-963f03e63ec8\",\"type\":\"ColumnDataSource\"},{\"attributes\":{\"callback\":null,\"end\":357.20000000000005},\"id\":\"67014286-d294-4292-a6ae-44bcccf52914\",\"type\":\"Range1d\"},{\"attributes\":{\"line_color\":\"#440154\",\"line_width\":4,\"x\":{\"field\":\"x\"},\"y\":{\"field\":\"y\"}},\"id\":\"556e6aac-0281-4d57-934c-aa2ce63aa4a8\",\"type\":\"Line\"},{\"attributes\":{},\"id\":\"9ded3f55-86d5-43c3-bd61-e20347911539\",\"type\":\"CategoricalTicker\"},{\"attributes\":{\"source\":{\"id\":\"1c1becbf-cda5-4c4a-b86c-10f80e75e264\",\"type\":\"ColumnDataSource\"}},\"id\":\"e0648dc0-dde5-4b1f-a1f3-f283c7168065\",\"type\":\"CDSView\"},{\"attributes\":{},\"id\":\"acac6263-798b-4461-bbf4-5b33432e519e\",\"type\":\"BasicTickFormatter\"},{\"attributes\":{\"dimensions\":\"width\"},\"id\":\"2b728123-e30e-40d8-9488-6c03d99d569c\",\"type\":\"PanTool\"},{\"attributes\":{},\"id\":\"b4d564d4-99dc-49e3-b4a3-594a3bbc3d48\",\"type\":\"ResetTool\"},{\"attributes\":{\"axis_label\":\"Worker ID\",\"axis_line_color\":{\"value\":null},\"formatter\":{\"id\":\"3dcc37ef-8b51-4f31-810b-7aa70d839550\",\"type\":\"CategoricalTickFormatter\"},\"major_tick_line_color\":{\"value\":null},\"plot\":{\"id\":\"34b342d6-9c72-4857-a04c-08c8ea29f70e\",\"subtype\":\"Figure\",\"type\":\"Plot\"},\"ticker\":{\"id\":\"9ded3f55-86d5-43c3-bd61-e20347911539\",\"type\":\"CategoricalTicker\"}},\"id\":\"0a1eba37-81c5-4487-9008-c3b4f191f5e1\",\"type\":\"CategoricalAxis\"},{\"attributes\":{\"data_source\":{\"id\":\"23008e1a-242a-477c-bb5d-0da3deff108a\",\"type\":\"ColumnDataSource\"},\"glyph\":{\"id\":\"039c561f-c94b-494a-95e9-55581090b5c9\",\"type\":\"Line\"},\"hover_glyph\":null,\"muted_glyph\":null,\"nonselection_glyph\":{\"id\":\"8d22c6d5-eeb6-4611-a8bc-a757b5f420ab\",\"type\":\"Line\"},\"selection_glyph\":null,\"view\":{\"id\":\"653c510d-3d59-4d2b-bd1c-b4641a26e761\",\"type\":\"CDSView\"}},\"id\":\"42b3cde6-822f-4962-9394-cc9b42b13790\",\"type\":\"GlyphRenderer\"},{\"attributes\":{\"source\":{\"id\":\"ee5b5356-1c9f-42aa-9238-942b3d16d29c\",\"type\":\"ColumnDataSource\"}},\"id\":\"c18b278a-cff5-4b5f-a72f-071edea1ff73\",\"type\":\"CDSView\"},{\"attributes\":{},\"id\":\"aa28a084-e2f8-49db-bbc7-df921c523630\",\"type\":\"BasicTicker\"},{\"attributes\":{\"callback\":null,\"column_names\":[\"x\",\"y\",\"label\"],\"data\":{\"label\":[\"apply_and_enforce(*, [_], dict(...), *)\",\"apply_and_enforce(*, [_], dict(...), *)\",\"apply_and_enforce(*, [_], dict(...), *)\",\"apply_and_enforce(*, [_], dict(...), *)\",\"apply_and_enforce(*, [_], dict(...), *)\",\"apply_and_enforce(*, [_], dict(...), *)\",\"apply_and_enforce(*, [_], dict(...), *)\",\"apply_and_enforce(*, [_], dict(...), *)\",\"apply_and_enforce(*, [_], dict(...), *)\",\"apply_and_enforce(*, [_], dict(...), *)\",\"apply_and_enforce(*, [_], dict(...), *)\",\"apply_and_enforce(*, [_], dict(...), *)\",\"apply_and_enforce(*, [_], dict(...), *)\",\"apply_and_enforce(*, [_], dict(...), *)\",\"apply_and_enforce(*, [_], dict(...), *)\",\"apply_and_enforce(*, [_], dict(...), *)\",\"apply_and_enforce(*, [_], dict(...), *)\"],\"x\":[0,19.314806537004188,20.152581515954807,21.073060911963694,26.18008303793613,55.55899647192564,55.5719821829116,55.58323222293984,55.58398545195814,55.58421069593169,78.27843998197932,79.03928343998268,84.04953396692872,88.10918868298177,130.61718055792153,130.62450119492132,130.6246636370197],\"y\":[0,0,0,0,0,0,0,1,2,0,0,0,0,0,0,0,0]},\"selected\":null,\"selection_policy\":null},\"id\":\"1c1becbf-cda5-4c4a-b86c-10f80e75e264\",\"type\":\"ColumnDataSource\"},{\"attributes\":{},\"id\":\"2f180602-7f56-4c2d-93ff-4452e3150580\",\"type\":\"BasicTickFormatter\"},{\"attributes\":{\"data_source\":{\"id\":\"b801459f-8093-4cd1-b48f-dbf9df0737f8\",\"type\":\"ColumnDataSource\"},\"glyph\":{\"id\":\"556e6aac-0281-4d57-934c-aa2ce63aa4a8\",\"type\":\"Line\"},\"hover_glyph\":null,\"muted_glyph\":null,\"nonselection_glyph\":{\"id\":\"a66691f5-7248-4323-af10-b417201eca2b\",\"type\":\"Line\"},\"selection_glyph\":null,\"view\":{\"id\":\"b438fae0-bbee-4b0d-ac91-2b265432cfbe\",\"type\":\"CDSView\"}},\"id\":\"48ef801b-604f-4f23-9b20-3314cce7188b\",\"type\":\"GlyphRenderer\"},{\"attributes\":{},\"id\":\"2f17014f-2696-48ca-8cde-5ef77f2bccba\",\"type\":\"LinearScale\"},{\"attributes\":{\"line_alpha\":0.1,\"line_color\":\"#1f77b4\",\"line_width\":4,\"x\":{\"field\":\"x\"},\"y\":{\"field\":\"y\"}},\"id\":\"a66691f5-7248-4323-af10-b417201eca2b\",\"type\":\"Line\"},{\"attributes\":{\"plot\":{\"id\":\"6da2a341-ea97-4669-88fb-c140256bce76\",\"subtype\":\"Figure\",\"type\":\"Plot\"},\"ticker\":{\"id\":\"aa28a084-e2f8-49db-bbc7-df921c523630\",\"type\":\"BasicTicker\"}},\"id\":\"0b60d701-d2c0-4ffc-aa91-ff2b8572008a\",\"type\":\"Grid\"},{\"attributes\":{\"axis_label\":null,\"axis_line_color\":{\"value\":null},\"formatter\":{\"id\":\"8683b135-7805-4bc9-8bab-7d336f696b7e\",\"type\":\"BasicTickFormatter\"},\"major_tick_line_color\":{\"value\":null},\"plot\":{\"id\":\"34b342d6-9c72-4857-a04c-08c8ea29f70e\",\"subtype\":\"Figure\",\"type\":\"Plot\"},\"ticker\":{\"id\":\"9999242a-ec74-462c-97a6-07776b13b288\",\"type\":\"BasicTicker\"}},\"id\":\"97d97182-66d1-4be6-bd2b-2d27b978b31b\",\"type\":\"LinearAxis\"},{\"attributes\":{\"axis_label\":\"Memory (MB)\",\"formatter\":{\"id\":\"8da2e36a-1106-429a-b59b-cc81fefb752b\",\"type\":\"BasicTickFormatter\"},\"plot\":{\"id\":\"6da2a341-ea97-4669-88fb-c140256bce76\",\"subtype\":\"Figure\",\"type\":\"Plot\"},\"ticker\":{\"id\":\"0615134d-2a58-47dc-8ca1-0f3802598475\",\"type\":\"BasicTicker\"},\"y_range_name\":\"memory\"},\"id\":\"c531958a-54d8-4b54-94a8-239bff5be9c1\",\"type\":\"LinearAxis\"},{\"attributes\":{\"dimension\":1,\"plot\":{\"id\":\"fda628bd-bdd5-456f-9b6a-d4899cf13339\",\"subtype\":\"Figure\",\"type\":\"Plot\"},\"ticker\":{\"id\":\"4a0878fb-3b5d-409a-9210-75e8b5e0024b\",\"type\":\"BasicTicker\"}},\"id\":\"61fa7515-cf13-42f3-bcb4-aff332a709dc\",\"type\":\"Grid\"},{\"attributes\":{\"callback\":null,\"column_names\":[\"x\",\"y\"],\"data\":{\"x\":[0.0,0.2516440519830212,0.5027111970121041,0.7541272029047832,1.0055506569333375,1.2570858679246157,1.5076285739196464,1.7584250220097601,2.0096880790079013,2.2711388419847935,2.522183251916431,2.7749576319474727,3.026159395929426,3.277678843936883,3.529248973936774,3.7803330249153078,4.031849988969043,4.28336409793701,4.5348536769161,4.786838011932559,5.0382939639966935,5.289119004970416,5.540632537915371,5.795576381962746,6.047168960911222,6.297876947908662,6.549428851925768,6.800963292946108,7.052387545933016,7.3058019479503855,7.557340762927197,7.8088880139403045,8.060200530919246,8.311134635936469,8.562119465903379,8.813714743009768,9.064861424965784,9.31639433791861,9.567927155992948,9.819489047979005,10.071036405977793,10.322520106914453,10.574049353948794,10.825092151993886,11.076689373934641,11.32767306594178,11.578652026946656,11.83026102592703,12.081031000008807,12.332855704938993,12.58407352399081,12.834633561898954,13.086304130963981,13.337770896963775,13.589324667002074,13.840830979985185,14.0923585499404,14.344188379007392,14.595707022002898,14.847073350916617,15.098530715913512,15.3500937189674,15.60184684197884,15.852705553988926,16.104222939931788,16.35573392594233,16.60729898198042,16.859250198001973,17.109901960007846,17.36042743793223,17.611953108920716,17.86293423990719,18.113511911942624,18.364589050994255,18.61527568497695,18.86606267897878,19.117582248989493,19.371746604912914,19.623358050943352,19.87491884897463,20.131375776953064,20.38258751097601,20.633993663010187,20.88458966696635,21.135730460984632,21.387246542959474,21.63874715100974,21.88914218894206,22.140620530000888,22.391393217956647,22.641955798957497,22.892834470956586,23.144225569907576,23.394890579977073,23.645654461928643,23.89725926995743,24.148790130973794,24.40019365295302,24.652276235981844,24.9032476489665,25.153879320947453,25.40542960294988,25.656270280946046,25.90749243996106,26.15910458297003,26.4098983759759,26.661421766970307,26.912976722000167,27.1635253719287,27.414207660011016,27.665657182922587,27.917130006011575,28.16787285695318,28.418701630900614,28.66975502599962,28.921874066931196,29.172712637926452,29.423285878961906,29.674347061896697,29.9257937889779,30.17765928094741,30.428645259933546,30.68014248891268,30.930816144915298,31.181391223915853,31.432526462944224,31.6837332759751,31.934750534943305,32.18626852100715,32.43722658790648,32.687858474906534,32.93935492692981,33.18991895590443,33.44140216091182,33.692916119936854,33.94352133991197,34.194068146985956,34.444644225994125,34.69551489292644,34.947041467996314,35.19756267697085,35.44817871495616,35.7000321400119,35.95142373791896,36.20278490893543,36.4544990749564,36.7063704879256,36.95786205492914,37.20963509497233,37.46028156299144,37.71151303697843,37.96335595299024,38.22022516292054,38.47119325690437,38.7222566989949,38.97286791098304,39.223951040999964,39.475677057984285,39.72851868800353,39.980096012935974,40.23087178496644,40.482265484984964,40.732735740952194,40.9843930589268,41.236040954012424,41.48657628695946,41.73794210294727,41.98901830194518,42.24105490499642,42.492275183903985,42.743947960902005,42.996280618943274,43.24973830394447,43.50049094599672,43.75191384390928,44.00401989498641,44.25613609596621,44.50695312698372,44.75839243398514,45.009335206006654,45.26093449094333,45.5123186459532,45.76323334197514,46.0146419769153,46.266049064928666,46.51719731395133,46.76861453894526,47.019990199944004,47.27309955994133,47.524477433995344,47.77600147295743,48.027504919911735,48.27865461097099,48.530085998936556,48.781496578943916,49.03248078597244,49.28405172401108,49.53530000289902,49.78669581597205,50.03821906191297,50.28963627491612,50.54099371901248,50.79278242192231,51.04338981199544,51.29507941799238,51.546544081997126,51.798142243991606,52.04879151796922,52.3002024339512,52.55179118993692,52.80327792093158,53.054673444945365,53.30617448792327,53.55756839399692,53.812184320995584,54.06311491399538,54.31467224890366,54.56550441891886,54.81620786199346,55.06688250298612,55.31838212895673,55.56886791891884,55.81972548994236,56.07126445195172,56.3219565449981,56.57267227896955,56.82409375498537,57.07478953897953,57.32639525295235,57.57781274197623,57.82866568991449,58.07929452101234,58.330761808902025,58.58137552894186,58.832929402939044,59.08434040192515,59.335762100992724,59.58730574697256,59.8380297429394,60.08953929890413,60.34070871793665,60.592041824012995,60.85675692290533,61.10751040989999,61.35900539997965,61.61026867793407,61.86090999795124,62.111945709912106,62.364235507906415,62.615744247916155,62.86738681991119,63.12501232291106,63.37566101492848,63.626882096985355,63.8788116798969,64.13070927991066,64.38127506000455,64.63276297098491,64.88437534892,65.13491000200156,65.38663968699984,65.63769817899447,65.88979207596276,66.14135427901056,66.39295471599326,66.64452113700099,66.89517251192592,67.14671765698586,67.39858209190425,67.65072868694551,67.90130155195948,68.15391399094369,68.40545708790887,68.65697477792855,68.90802067599725,69.1595844499534,69.41130081797019,69.66290289291646,69.91456755099352,70.16630321193952,70.41822499991395,70.67083441989962,70.92209852091037,71.1736321519129,71.42475260794163,71.67628827190492,71.92768619698472,72.17863248696085,72.43014077993575,72.68101308494806,72.9321525079431,73.18379450892098,73.43529937695712,73.68619916890748,73.93728587194346,74.18822695896961,74.44000391790178,74.69174369098619,74.9426064719446,75.19417713093571,75.44495521392673,75.69640504394192,75.9478374569444,76.19939979899209,76.45002789190039,76.7019425969338,76.95421624591108,77.20567642792594,77.45725501095876,77.70883771497756,77.96036573895253,78.21220180997625,78.46376517298631,78.71540451794863,78.96616416494362,79.21727601392195,79.46929630695377,79.72043254191522,79.97194419696461,80.22336526191793,80.47442778700497,80.72539680497721,80.97734308091458,81.2286274099024,81.4791777409846,81.72979256592225,81.98104222293478,82.23239190597087,82.48306876700372,82.7344811320072,82.98590808198787,83.23687918891665,83.48845266597345,83.7394521170063,83.9914559989702,84.24300523393322,84.49472354899626,84.74637871794403,84.99837947892956,85.24984885100275,85.50183885893784,85.75250181392767,86.00299641198944,86.25454020197503,86.50591076991986,86.75735750200693,87.00875212892424,87.26017015392426,87.51066524500493,87.76215820899233,88.0137410958996,88.26428547489922,88.51501054991968,88.76642938598525,89.01780472195242,89.26916745398194,89.52055997098796,89.7711625410011,90.02194333996158,90.2730965539813,90.52536206890363,90.77688114193734,91.02841081295628,91.27947817498352,91.53139561391436,91.78277268796228,92.03411686897743,92.28483309096191,92.5360330499243,92.78748460696079,93.03837082290556,93.2891955509549,93.53977862989996,93.79132881294936,94.0421782489866,94.29360769793857,94.54509019991383,94.7960966170067,95.0476190809859,95.29937225196045,95.55081565096043,95.80222390394192,96.05371634999756,96.30457611591555,96.55591548490338,96.80741279292852,97.05847881594673,97.3102297069272,97.56168247794267,97.81317249196582,98.06363842694554,98.31468680198304,98.56608182692435,98.81731125793885,99.0695521190064,99.32067612290848,99.57213390199468,99.82271592295729,100.07618328498211,100.33016119000968,100.58126034995075,100.83265824790578,101.0844556299271,101.33769021893386,101.58972321695182,101.84043234190904,102.09116643993184,102.34262466197833,102.59662555600516,102.85230546200182,103.10381564195268,103.3544116159901,103.6050230449764,103.85613335191738,104.10817690391559,104.35999131097924,104.61142512992956,104.86280648596585,105.11554633092601,105.36767811700702,105.61964081600308,105.87114574096631,106.12233173695859,106.37710612092633,106.62816189590376,106.88010195991956,107.13199768390041,107.38601070991717,107.63803182798438,107.88957863789983,108.14113144599833,108.39249085600022,108.6433308069827,108.89471320598386,109.14623514492996,109.3970716559561,109.65054187993519,109.90150824689772,110.15300618798938,110.4034008049639,110.65488111798186,110.90629879490007,111.15702240692917,111.40972899494227,111.66116466198582,111.9130628349958,112.16451685596257,112.41511258599348,112.66635096492246,112.91803362290375,113.16882897191681,113.42035903595388,113.67181586590596,113.92220299190376,114.17372060590424,114.42465948895551,114.67630040692165,114.9279936979292,115.17879350390285,115.43160906794947,115.6829959989991,115.93449115590192,116.18584061495494,116.43728471396025,116.68896726996172,116.9398357279133,117.19053153297864,117.44197441299912,117.69236731401179,117.94375073490664,118.19519995700102,118.4466964469757,118.69814431096893,118.94857712194789,119.1998451820109,119.45141473598778,119.70289076596964,119.9544011169346,120.20641277893446,120.45720252289902,120.70870992494747,120.95948050892912,121.21067548997235,121.46207341994159,121.71345661999658,121.96506974590011,122.21578977094032,122.46757209394127,122.71895318292081,122.97026516892947,123.22179948096164,123.47221787995659,123.72375456697773,123.9752419119468,124.22652865794953,124.47809038800187,124.7286325849127,124.97942277800757,125.23080781800672,125.48131342895795,125.7326657049125,125.98333797499072,126.23490366397891,126.48624240292702,126.7370208009379,126.9878356049303,127.24008067697287,127.49211976490915,127.74264183093328,127.99351574492175,128.24485376290977,128.49619759398047,128.74683453293983,128.99791956995614,129.24847911600955,129.50000994000584,129.7507444069488,130.00123854901176,130.25226514798123,130.50415206491016,130.7548178009456,131.0063289689133,131.25706565193832,131.50864074390847,131.75940937094856,132.01096141990274,132.26216368400492,132.51354412792716,132.7649975368986],\"y\":[110.227456,125.321216,129.622016,149.159936,237.13792,235.687936,236.724224,238.391296,239.939584,301.17888,333.955072,344.764416,358.752256,370.802688,378.466304,386.17088,392.163328,399.417344,403.451904,407.515136,412.491776,416.62464,418.607104,427.401216,433.21344,440.5248,443.82208,450.502656,454.47168,458.141696,461.508608,468.45952,474.722304,481.95584,487.07584,490.930176,495.890432,500.10112,507.580416,512.446464,516.657152,523.255808,524.541952,535.67488,539.140096,544.95232,553.418752,560.2304,562.36032,566.792192,569.905152,576.339968,580.120576,583.200768,589.12768,594.45248,599.179264,604.2624,606.49472,612.216832,615.890944,618.795008,622.784512,627.482624,630.050816,635.256832,648.916992,652.746752,656.396288,662.286336,669.794304,674.336768,678.731776,705.552384,790.695936,899.6864,1054.564352,1150.201856,1205.215232,1299.001344,1373.564928,1468.915712,1474.154496,1490.776064,1500.041216,1565.687808,1604.661248,1625.501696,1648.185344,1701.84704,1702.21568,1685.262336,1603.260416,1673.531392,1675.382784,1677.283328,1673.465856,1675.124736,1676.849152,1677.770752,1679.245312,1680.904192,1682.75968,1683.423232,1685.454848,1673.613312,1607.581696,1609.351168,1611.44832,1612.263424,1614.163968,1616.26112,1552.101376,1602.695168,1594.007552,1579.552768,1658.998784,1687.53152,1702.060032,1858.195456,1990.20544,1676.8,1652.61312,1659.71968,1665.220608,1672.286208,1677.410304,1683.398656,1695.514624,1707.700224,1717.305344,1729.007616,1748.160512,1787.203584,1668.931584,1610.944512,1635.577856,1665.306624,1714.991104,1786.146816,1848.246272,1960.218624,2022.629376,2083.340288,2166.165504,2231.648256,2313.015296,2393.399296,2397.683712,2366.066688,2331.89376,2280.8576,2287.312896,2360.344576,2453.01248,2481.164288,2487.394304,2492.628992,2498.121728,2498.650112,2492.665856,2483.01568,2481.893376,2486.86592,2492.04736,2497.486848,2502.684672,2508.685312,2512.543744,2480.959488,2444.505088,2421.248,2408.337408,2412.568576,2411.577344,2412.642304,2412.802048,2413.441024,2411.04896,2411.60192,2408.226816,2406.457344,2405.072896,2408.955904,2410.545152,2413.314048,2419.24096,2421.1456,2424.786944,2427.056128,2426.855424,2416.136192,2404.687872,2390.913024,2380.795904,2385.698816,2391.302144,2396.336128,2402.177024,2407.821312,2413.637632,2419.101696,2425.110528,2422.382592,2417.733632,2406.453248,2404.245504,2409.967616,2415.403008,2421.141504,2426.65472,2432.094208,2403.729408,1849.602048,1446.95296,1448.046592,1624.129536,1487.958016,1283.416064,1304.096768,1376.739328,1416.68352,1417.506816,1417.5232,1419.259904,1423.224832,1433.358336,1434.021888,1434.099712,1294.573568,969.506816,973.312,980.824064,987.037696,994.148352,1023.483904,1119.432704,1112.326144,1113.370624,1115.324416,1115.602944,1118.068736,1145.212928,1183.125504,1191.047168,1202.008064,1211.768832,1217.253376,1219.698688,1224.871936,1231.618048,1238.294528,1239.994368,1244.512256,1247.551488,1248.219136,1250.205696,1252.814848,1254.842368,1254.965248,1257.406464,1260.003328,1263.132672,1264.70144,1267.69152,1270.120448,1273.647104,1277.575168,1281.024,1286.651904,1290.190848,1291.616256,1298.075648,1299.443712,1303.30624,1307.648,1311.576064,1315.336192,1322.053632,1328.70144,1333.379072,1337.389056,1341.100032,1344.638976,1349.890048,1354.768384,1360.326656,1363.685376,1368.420352,1371.774976,1373.843456,1374.74048,1376.047104,1380.585472,1382.785024,1389.207552,1390.215168,1393.250304,1395.130368,1398.423552,1399.5008,1401.434112,1403.949056,1411.702784,1414.77888,1418.293248,1420.914688,1423.978496,1425.12128,1426.558976,1429.1968,1454.239744,1625.714688,1775.689728,1885.650944,2001.63328,2055.835648,2068.455424,2087.796736,2087.940096,2130.546688,2080.280576,2068.135936,2143.903744,2142.580736,2129.59232,2085.220352,2082.6112,2084.118528,2080.333824,2081.931264,2073.255936,2074.857472,2076.516352,2073.837568,2062.135296,2063.970304,2066.00192,2068.099072,2070.392832,2072.752128,2072.948736,2007.994368,2075.521024,2077.442048,2079.5392,2076.44672,2078.396416,2068.64384,2068.140032,2067.628032,2067.308544,2065.072128,2057.330688,2059.870208,2062.491648,2064.351232,2066.743296,2003.08736,2058.371072,2098.814976,2054.066176,2110.742528,2203.500544,2300.751872,2415.628288,2204.196864,2185.29792,2194.702336,2206.539776,2216.153088,2218.102784,2220.05248,2221.932544,2223.742976,2225.410048,2227.36384,2229.174272,2231.054336,2232.864768,2234.601472,2234.232832,2228.854784,2224.459776,2218.594304,2216.054784,2201.051136,2196.467712,2198.351872,2194.280448,2188.865536,2136.178688,2138.058752,2123.579392,2125.459456,2127.200256,2128.945152,2122.36288,2123.75552,2054.84032,1982.656512,1845.895168,1758.24896,1746.194432,1775.448064,1765.998592,1481.531392,1701.085184,1577.447424,1744.113664,1805.471744,1867.522048,1906.270208,1944.416256,2000.351232,2080.780288,2149.076992,2124.935168,2085.2736,2105.335808,2160.799744,2192.728064,2203.549696,2209.247232,2259.075072,2240.114688,2264.55552,2289.414144,2325.856256,2354.368512,2341.056512,2316.804096,2292.629504,2298.138624,2299.854848,2301.046784,2306.977792,2310.926336,2315.636736,2319.343616,2324.721664,2326.24128,2328.04352,2319.855616,2320.084992,2319.68768,2318.675968,2314.350592,2316.087296,2321.89952,2327.937024,2333.073408,2337.714176,2344.189952,2350.342144,2355.99872,2361.024512,2348.904448,2344.579072,2346.614784,2351.476736,2356.781056,2362.847232,2367.852544,2374.070272,2379.231232,2373.513216,2368.208896,2366.644224,2371.530752,2373.431296,2378.100736,2381.668352,2380.341248,2383.269888,2386.026496,2391.79776,2394.394624,2393.862144,2392.911872,2389.843968,2389.143552,2388.533248,2362.08128,2360.864768,2360.377344,2355.07712,1682.026496,1397.82144,1399.72608,1640.890368,1231.745024,1292.611584,1359.220736,1360.490496,1361.076224,1363.247104,1364.926464,1365.286912,1404.043264,1227.505664,1235.582976,1240.121344,1240.162304,1240.199168,1240.199168,1240.199168,1240.199168,1242.566656,1242.566656,1242.574848,1242.578944,1242.578944,1242.578944,1242.578944,1242.58304,1242.58304,1242.58304,1242.58304,1242.58304,1242.320896,1242.320896,1242.320896,1242.320896,1242.320896,1242.320896,1246.158848,1176.686592,866.770944]},\"selected\":null,\"selection_policy\":null},\"id\":\"e6911de4-7336-46da-a94a-78341eb53f0f\",\"type\":\"ColumnDataSource\"},{\"attributes\":{\"callback\":null,\"column_names\":[\"x\",\"y\"],\"data\":{\"x\":[0.0,0.2516440519830212,0.5027111970121041,0.7541272029047832,1.0055506569333375,1.2570858679246157,1.5076285739196464,1.7584250220097601,2.0096880790079013,2.2711388419847935,2.522183251916431,2.7749576319474727,3.026159395929426,3.277678843936883,3.529248973936774,3.7803330249153078,4.031849988969043,4.28336409793701,4.5348536769161,4.786838011932559,5.0382939639966935,5.289119004970416,5.540632537915371,5.795576381962746,6.047168960911222,6.297876947908662,6.549428851925768,6.800963292946108,7.052387545933016,7.3058019479503855,7.557340762927197,7.8088880139403045,8.060200530919246,8.311134635936469,8.562119465903379,8.813714743009768,9.064861424965784,9.31639433791861,9.567927155992948,9.819489047979005,10.071036405977793,10.322520106914453,10.574049353948794,10.825092151993886,11.076689373934641,11.32767306594178,11.578652026946656,11.83026102592703,12.081031000008807,12.332855704938993,12.58407352399081,12.834633561898954,13.086304130963981,13.337770896963775,13.589324667002074,13.840830979985185,14.0923585499404,14.344188379007392,14.595707022002898,14.847073350916617,15.098530715913512,15.3500937189674,15.60184684197884,15.852705553988926,16.104222939931788,16.35573392594233,16.60729898198042,16.859250198001973,17.109901960007846,17.36042743793223,17.611953108920716,17.86293423990719,18.113511911942624,18.364589050994255,18.61527568497695,18.86606267897878,19.117582248989493,19.371746604912914,19.623358050943352,19.87491884897463,20.131375776953064,20.38258751097601,20.633993663010187,20.88458966696635,21.135730460984632,21.387246542959474,21.63874715100974,21.88914218894206,22.140620530000888,22.391393217956647,22.641955798957497,22.892834470956586,23.144225569907576,23.394890579977073,23.645654461928643,23.89725926995743,24.148790130973794,24.40019365295302,24.652276235981844,24.9032476489665,25.153879320947453,25.40542960294988,25.656270280946046,25.90749243996106,26.15910458297003,26.4098983759759,26.661421766970307,26.912976722000167,27.1635253719287,27.414207660011016,27.665657182922587,27.917130006011575,28.16787285695318,28.418701630900614,28.66975502599962,28.921874066931196,29.172712637926452,29.423285878961906,29.674347061896697,29.9257937889779,30.17765928094741,30.428645259933546,30.68014248891268,30.930816144915298,31.181391223915853,31.432526462944224,31.6837332759751,31.934750534943305,32.18626852100715,32.43722658790648,32.687858474906534,32.93935492692981,33.18991895590443,33.44140216091182,33.692916119936854,33.94352133991197,34.194068146985956,34.444644225994125,34.69551489292644,34.947041467996314,35.19756267697085,35.44817871495616,35.7000321400119,35.95142373791896,36.20278490893543,36.4544990749564,36.7063704879256,36.95786205492914,37.20963509497233,37.46028156299144,37.71151303697843,37.96335595299024,38.22022516292054,38.47119325690437,38.7222566989949,38.97286791098304,39.223951040999964,39.475677057984285,39.72851868800353,39.980096012935974,40.23087178496644,40.482265484984964,40.732735740952194,40.9843930589268,41.236040954012424,41.48657628695946,41.73794210294727,41.98901830194518,42.24105490499642,42.492275183903985,42.743947960902005,42.996280618943274,43.24973830394447,43.50049094599672,43.75191384390928,44.00401989498641,44.25613609596621,44.50695312698372,44.75839243398514,45.009335206006654,45.26093449094333,45.5123186459532,45.76323334197514,46.0146419769153,46.266049064928666,46.51719731395133,46.76861453894526,47.019990199944004,47.27309955994133,47.524477433995344,47.77600147295743,48.027504919911735,48.27865461097099,48.530085998936556,48.781496578943916,49.03248078597244,49.28405172401108,49.53530000289902,49.78669581597205,50.03821906191297,50.28963627491612,50.54099371901248,50.79278242192231,51.04338981199544,51.29507941799238,51.546544081997126,51.798142243991606,52.04879151796922,52.3002024339512,52.55179118993692,52.80327792093158,53.054673444945365,53.30617448792327,53.55756839399692,53.812184320995584,54.06311491399538,54.31467224890366,54.56550441891886,54.81620786199346,55.06688250298612,55.31838212895673,55.56886791891884,55.81972548994236,56.07126445195172,56.3219565449981,56.57267227896955,56.82409375498537,57.07478953897953,57.32639525295235,57.57781274197623,57.82866568991449,58.07929452101234,58.330761808902025,58.58137552894186,58.832929402939044,59.08434040192515,59.335762100992724,59.58730574697256,59.8380297429394,60.08953929890413,60.34070871793665,60.592041824012995,60.85675692290533,61.10751040989999,61.35900539997965,61.61026867793407,61.86090999795124,62.111945709912106,62.364235507906415,62.615744247916155,62.86738681991119,63.12501232291106,63.37566101492848,63.626882096985355,63.8788116798969,64.13070927991066,64.38127506000455,64.63276297098491,64.88437534892,65.13491000200156,65.38663968699984,65.63769817899447,65.88979207596276,66.14135427901056,66.39295471599326,66.64452113700099,66.89517251192592,67.14671765698586,67.39858209190425,67.65072868694551,67.90130155195948,68.15391399094369,68.40545708790887,68.65697477792855,68.90802067599725,69.1595844499534,69.41130081797019,69.66290289291646,69.91456755099352,70.16630321193952,70.41822499991395,70.67083441989962,70.92209852091037,71.1736321519129,71.42475260794163,71.67628827190492,71.92768619698472,72.17863248696085,72.43014077993575,72.68101308494806,72.9321525079431,73.18379450892098,73.43529937695712,73.68619916890748,73.93728587194346,74.18822695896961,74.44000391790178,74.69174369098619,74.9426064719446,75.19417713093571,75.44495521392673,75.69640504394192,75.9478374569444,76.19939979899209,76.45002789190039,76.7019425969338,76.95421624591108,77.20567642792594,77.45725501095876,77.70883771497756,77.96036573895253,78.21220180997625,78.46376517298631,78.71540451794863,78.96616416494362,79.21727601392195,79.46929630695377,79.72043254191522,79.97194419696461,80.22336526191793,80.47442778700497,80.72539680497721,80.97734308091458,81.2286274099024,81.4791777409846,81.72979256592225,81.98104222293478,82.23239190597087,82.48306876700372,82.7344811320072,82.98590808198787,83.23687918891665,83.48845266597345,83.7394521170063,83.9914559989702,84.24300523393322,84.49472354899626,84.74637871794403,84.99837947892956,85.24984885100275,85.50183885893784,85.75250181392767,86.00299641198944,86.25454020197503,86.50591076991986,86.75735750200693,87.00875212892424,87.26017015392426,87.51066524500493,87.76215820899233,88.0137410958996,88.26428547489922,88.51501054991968,88.76642938598525,89.01780472195242,89.26916745398194,89.52055997098796,89.7711625410011,90.02194333996158,90.2730965539813,90.52536206890363,90.77688114193734,91.02841081295628,91.27947817498352,91.53139561391436,91.78277268796228,92.03411686897743,92.28483309096191,92.5360330499243,92.78748460696079,93.03837082290556,93.2891955509549,93.53977862989996,93.79132881294936,94.0421782489866,94.29360769793857,94.54509019991383,94.7960966170067,95.0476190809859,95.29937225196045,95.55081565096043,95.80222390394192,96.05371634999756,96.30457611591555,96.55591548490338,96.80741279292852,97.05847881594673,97.3102297069272,97.56168247794267,97.81317249196582,98.06363842694554,98.31468680198304,98.56608182692435,98.81731125793885,99.0695521190064,99.32067612290848,99.57213390199468,99.82271592295729,100.07618328498211,100.33016119000968,100.58126034995075,100.83265824790578,101.0844556299271,101.33769021893386,101.58972321695182,101.84043234190904,102.09116643993184,102.34262466197833,102.59662555600516,102.85230546200182,103.10381564195268,103.3544116159901,103.6050230449764,103.85613335191738,104.10817690391559,104.35999131097924,104.61142512992956,104.86280648596585,105.11554633092601,105.36767811700702,105.61964081600308,105.87114574096631,106.12233173695859,106.37710612092633,106.62816189590376,106.88010195991956,107.13199768390041,107.38601070991717,107.63803182798438,107.88957863789983,108.14113144599833,108.39249085600022,108.6433308069827,108.89471320598386,109.14623514492996,109.3970716559561,109.65054187993519,109.90150824689772,110.15300618798938,110.4034008049639,110.65488111798186,110.90629879490007,111.15702240692917,111.40972899494227,111.66116466198582,111.9130628349958,112.16451685596257,112.41511258599348,112.66635096492246,112.91803362290375,113.16882897191681,113.42035903595388,113.67181586590596,113.92220299190376,114.17372060590424,114.42465948895551,114.67630040692165,114.9279936979292,115.17879350390285,115.43160906794947,115.6829959989991,115.93449115590192,116.18584061495494,116.43728471396025,116.68896726996172,116.9398357279133,117.19053153297864,117.44197441299912,117.69236731401179,117.94375073490664,118.19519995700102,118.4466964469757,118.69814431096893,118.94857712194789,119.1998451820109,119.45141473598778,119.70289076596964,119.9544011169346,120.20641277893446,120.45720252289902,120.70870992494747,120.95948050892912,121.21067548997235,121.46207341994159,121.71345661999658,121.96506974590011,122.21578977094032,122.46757209394127,122.71895318292081,122.97026516892947,123.22179948096164,123.47221787995659,123.72375456697773,123.9752419119468,124.22652865794953,124.47809038800187,124.7286325849127,124.97942277800757,125.23080781800672,125.48131342895795,125.7326657049125,125.98333797499072,126.23490366397891,126.48624240292702,126.7370208009379,126.9878356049303,127.24008067697287,127.49211976490915,127.74264183093328,127.99351574492175,128.24485376290977,128.49619759398047,128.74683453293983,128.99791956995614,129.24847911600955,129.50000994000584,129.7507444069488,130.00123854901176,130.25226514798123,130.50415206491016,130.7548178009456,131.0063289689133,131.25706565193832,131.50864074390847,131.75940937094856,132.01096141990274,132.26216368400492,132.51354412792716,132.7649975368986],\"y\":[0.0,96.4,70.60000000000001,98.4,93.2,97.0,98.8,99.4,99.0,58.5,289.79999999999995,271.9,290.7,339.5,332.3,346.5,344.0,341.6,314.6,300.4,347.5,296.9,251.7,245.70000000000002,268.5,336.4,257.5,333.0,289.8,315.7,311.4,312.29999999999995,348.2,345.5,320.29999999999995,330.0,334.0,339.4,335.1,349.9,339.3,335.4,291.9,357.20000000000005,344.1,344.0,339.1,354.0,318.4,340.2,313.6,343.79999999999995,337.7,280.1,340.0,320.0,304.9,314.5,304.8,338.3,328.4,209.6,291.8,244.4,264.4,307.5,296.7,323.4,345.30000000000007,329.9,329.3,326.1,331.4,325.29999999999995,265.4,202.8,148.09999999999997,161.8,151.70000000000002,143.3,146.8,113.50000000000001,103.6,97.9,98.8,98.2,101.9,102.50000000000001,108.4,95.2,98.2,98.4,107.8,101.2,101.2,101.10000000000001,100.5,100.8,100.80000000000001,78.9,95.7,100.60000000000001,101.0,100.4,101.0,99.7,90.5,101.2,101.3,100.5,100.2,101.1,103.5,104.39999999999999,97.5,73.2,87.2,90.8,96.9,74.0,81.60000000000001,97.5,107.0,102.39999999999999,101.5,102.0,102.0,101.80000000000001,102.8,101.4,102.3,101.6,103.0,103.9,118.7,101.6,62.5,60.1,84.10000000000001,100.7,100.9,92.3,100.8,98.39999999999999,96.7,85.0,78.5,87.8,95.5,95.0,90.89999999999999,69.5,43.1,81.60000000000001,89.6,90.0,94.19999999999999,98.39999999999999,100.4,99.8,97.30000000000001,96.8,96.7,100.0,101.0,101.89999999999999,99.19999999999999,100.9,96.8,90.4,93.9,92.5,90.39999999999999,99.39999999999999,99.1,100.8,100.7,101.1,100.3,101.4,100.3,100.7,101.3,98.5,100.69999999999999,98.89999999999999,100.7,97.89999999999999,99.2,100.6,100.7,101.39999999999999,100.10000000000001,100.0,99.2,99.8,100.0,99.7,101.60000000000001,100.4,100.7,101.39999999999999,100.7,101.4,99.19999999999999,96.60000000000001,98.8,99.9,101.2,98.89999999999999,100.89999999999999,99.5,99.1,101.4,101.2,99.9,99.5,93.5,76.89999999999999,87.3,91.7,98.3,96.19999999999999,96.3,90.7,94.80000000000001,100.6,97.60000000000001,98.9,99.4,83.1,94.2,99.8,99.89999999999999,100.0,100.0,100.2,99.0,99.7,99.9,99.5,100.19999999999999,93.5,293.7,328.0,285.4,337.90000000000003,251.3,281.80000000000007,334.0,335.4,334.1,257.19999999999993,344.8,310.7,281.3,237.8,217.2,232.8,194.4,241.2,246.20000000000002,338.09999999999997,281.1,293.6,337.9,337.79999999999995,345.20000000000005,306.29999999999995,351.7,328.4,160.7,344.9,330.4,353.49999999999994,330.6,340.2,276.6,334.70000000000005,272.8,333.3,337.4,332.8,325.70000000000005,336.79999999999995,329.4,336.9,336.09999999999997,319.59999999999997,305.2,295.3,172.3,220.7,272.7,337.80000000000007,346.8,318.9,348.9,327.29999999999995,320.0,300.5,310.7,309.20000000000005,305.29999999999995,326.20000000000005,337.29999999999995,350.00000000000006,345.4,324.0,350.6,345.79999999999995,324.9,325.6,163.0,192.29999999999998,139.4,153.0,127.9,113.6,111.5,97.2,99.7,101.3,105.89999999999999,98.60000000000001,98.9,97.4,98.39999999999999,100.0,101.0,100.60000000000001,97.60000000000001,99.2,101.0,99.80000000000001,100.0,100.4,100.4,101.8,100.9,100.69999999999999,100.8,104.60000000000001,108.10000000000001,100.6,100.30000000000001,101.69999999999999,99.3,102.0,100.8,101.7,101.0,99.0,100.8,100.49999999999999,100.39999999999999,101.6,100.9,101.6,107.8,100.3,99.10000000000001,95.9,97.3,98.3,91.89999999999999,103.3,108.9,102.0,102.0,102.80000000000001,101.6,102.3,101.60000000000001,101.6,101.5,101.5,101.4,101.89999999999999,102.10000000000001,101.2,97.5,101.60000000000001,101.39999999999999,101.10000000000001,101.6,100.5,101.8,102.7,101.3,100.7,89.39999999999999,101.6,101.0,101.5,101.5,101.8,98.3,98.10000000000001,84.6,88.3,76.60000000000001,79.2,95.5,101.89999999999999,103.89999999999999,125.2,99.0,91.39999999999999,91.3,96.60000000000001,94.5,78.7,89.2,68.5,85.5,93.4,77.8,87.8,91.8,69.3,87.0,70.2,70.9,61.400000000000006,39.0,53.5,67.1,95.5,67.69999999999999,91.1,54.0,71.3,98.60000000000001,98.7,100.1,99.3,100.9,98.9,101.0,98.5,100.39999999999999,100.39999999999999,100.0,100.8,100.39999999999999,100.3,99.6,99.5,101.5,101.0,101.2,99.89999999999999,101.0,100.7,100.0,101.30000000000001,93.5,96.9,94.69999999999999,97.6,98.4,99.8,101.5,100.3,98.5,96.80000000000001,98.7,98.8,99.9,97.4,99.69999999999999,99.89999999999999,100.60000000000001,100.9,100.3,100.80000000000001,100.2,97.6,101.1,100.30000000000001,99.39999999999999,101.5,100.39999999999999,101.39999999999999,100.6,100.3,103.80000000000001,100.10000000000001,101.0,100.1,93.4,97.69999999999999,98.39999999999999,98.5,99.5,99.2,103.3,100.7,100.69999999999999,94.5,92.8,100.4,101.3,97.3,98.8,98.2,99.3,95.3,96.3,94.6,95.89999999999999,98.7,98.3,93.39999999999999,97.7,96.0,99.0,98.8,96.0,101.3,97.6,97.7,97.6,96.10000000000001,99.1,92.0,82.0,97.0]},\"selected\":null,\"selection_policy\":null},\"id\":\"b801459f-8093-4cd1-b48f-dbf9df0737f8\",\"type\":\"ColumnDataSource\"},{\"attributes\":{\"items\":[{\"id\":\"23d37ea3-53c0-4a11-9b65-4b88dbefe834\",\"type\":\"LegendItem\"},{\"id\":\"f159e5b6-54b6-4135-aaaa-72db1781247f\",\"type\":\"LegendItem\"}],\"plot\":{\"id\":\"6da2a341-ea97-4669-88fb-c140256bce76\",\"subtype\":\"Figure\",\"type\":\"Plot\"}},\"id\":\"e04ebf9b-d09b-456d-a25c-c4681750b898\",\"type\":\"Legend\"},{\"attributes\":{\"children\":[{\"id\":\"34b342d6-9c72-4857-a04c-08c8ea29f70e\",\"subtype\":\"Figure\",\"type\":\"Plot\"}]},\"id\":\"e7993ef5-9692-4321-ad46-02854e95de77\",\"type\":\"Row\"},{\"attributes\":{\"active_drag\":\"auto\",\"active_inspect\":\"auto\",\"active_scroll\":\"auto\",\"active_tap\":\"auto\",\"tools\":[{\"id\":\"499db9db-915c-4abf-b84f-bce4ecd78562\",\"type\":\"SaveTool\"},{\"id\":\"4dddf82d-b78e-4d21-8836-d259aa2885cf\",\"type\":\"ResetTool\"},{\"id\":\"79110713-f066-420a-8fa2-8f5fcb74c44c\",\"type\":\"WheelZoomTool\"},{\"id\":\"2d15bf2e-fa6b-4b21-bfb8-d09488f579eb\",\"type\":\"PanTool\"}]},\"id\":\"fa8d3a70-4d20-498e-b66a-0c31085f097a\",\"type\":\"Toolbar\"},{\"attributes\":{\"source\":{\"id\":\"a217335e-5596-482c-948f-963f03e63ec8\",\"type\":\"ColumnDataSource\"}},\"id\":\"f20a4650-31dd-40ea-8f99-54b14fd9c0b5\",\"type\":\"CDSView\"},{\"attributes\":{},\"id\":\"9999242a-ec74-462c-97a6-07776b13b288\",\"type\":\"BasicTicker\"},{\"attributes\":{\"fill_alpha\":{\"value\":0.1},\"fill_color\":{\"value\":\"#1f77b4\"},\"height\":{\"units\":\"data\",\"value\":1},\"line_alpha\":{\"value\":0.1},\"line_color\":{\"value\":\"#1f77b4\"},\"width\":{\"field\":\"width\",\"units\":\"data\"},\"x\":{\"field\":\"x\"},\"y\":{\"field\":\"y\"}},\"id\":\"0f3c3e13-7024-4886-b477-6e9d07b85363\",\"type\":\"Rect\"},{\"attributes\":{\"source\":{\"id\":\"b801459f-8093-4cd1-b48f-dbf9df0737f8\",\"type\":\"ColumnDataSource\"}},\"id\":\"b438fae0-bbee-4b0d-ac91-2b265432cfbe\",\"type\":\"CDSView\"},{\"attributes\":{\"line_color\":\"#29788E\",\"line_width\":4,\"x\":{\"field\":\"x\"},\"y\":{\"field\":\"y\"}},\"id\":\"aa5b09c3-6bd3-4369-a01b-704888adb3e2\",\"type\":\"Line\"},{\"attributes\":{\"line_alpha\":0.1,\"line_color\":\"#1f77b4\",\"line_width\":3,\"x\":{\"field\":\"x\"},\"y\":{\"field\":\"y\"}},\"id\":\"a205eed6-c326-43a6-ad3c-1e16f47d6f5d\",\"type\":\"Line\"},{\"attributes\":{\"children\":[{\"id\":\"e7993ef5-9692-4321-ad46-02854e95de77\",\"type\":\"Row\"},{\"id\":\"45d78e5f-cae1-435a-bb4c-7d11ac08f863\",\"type\":\"Row\"},{\"id\":\"5d5f6e86-1aec-4dbd-9faa-3f6e5c3d8ff6\",\"type\":\"Row\"}]},\"id\":\"6e145627-7b88-4867-b3bd-fdd029d88d8c\",\"type\":\"Column\"},{\"attributes\":{\"grid_line_color\":{\"value\":null},\"plot\":{\"id\":\"34b342d6-9c72-4857-a04c-08c8ea29f70e\",\"subtype\":\"Figure\",\"type\":\"Plot\"},\"ticker\":{\"id\":\"9999242a-ec74-462c-97a6-07776b13b288\",\"type\":\"BasicTicker\"}},\"id\":\"8ff0532e-5c56-4cc1-8917-02f53745d643\",\"type\":\"Grid\"}],\"root_ids\":[\"17883198-6890-4dbf-a373-ccdb7708bdcc\"]},\"title\":\"Bokeh Application\",\"version\":\"0.12.15\"}};\n",
       "  var render_items = [{\"docid\":\"353a8678-4ce7-4b93-af2c-1ef06bf0e9aa\",\"elementid\":\"e3ec15c6-e7f9-438e-9d32-136408dc514d\",\"modelid\":\"17883198-6890-4dbf-a373-ccdb7708bdcc\"}];\n",
       "  root.Bokeh.embed.embed_items_notebook(docs_json, render_items);\n",
       "\n",
       "  }\n",
       "  if (root.Bokeh !== undefined) {\n",
       "    embed_document(root);\n",
       "  } else {\n",
       "    var attempts = 0;\n",
       "    var timer = setInterval(function(root) {\n",
       "      if (root.Bokeh !== undefined) {\n",
       "        embed_document(root);\n",
       "        clearInterval(timer);\n",
       "      }\n",
       "      attempts++;\n",
       "      if (attempts > 100) {\n",
       "        console.log(\"Bokeh: ERROR: Unable to run BokehJS code because BokehJS library is missing\")\n",
       "        clearInterval(timer);\n",
       "      }\n",
       "    }, 10, root)\n",
       "  }\n",
       "})(window);"
      ],
      "application/vnd.bokehjs_exec.v0+json": ""
     },
     "metadata": {
      "application/vnd.bokehjs_exec.v0+json": {
       "id": "17883198-6890-4dbf-a373-ccdb7708bdcc"
      }
     },
     "output_type": "display_data"
    },
    {
     "data": {
      "text/html": [
       "<div style=\"display: table;\"><div style=\"display: table-row;\"><div style=\"display: table-cell;\"><b title=\"bokeh.models.layouts.Column\">Column</b>(</div><div style=\"display: table-cell;\">id&nbsp;=&nbsp;'17883198-6890-4dbf-a373-ccdb7708bdcc', <span id=\"9f7a0e3e-4aba-4e78-8f81-29b3942b33b3\" style=\"cursor: pointer;\">&hellip;)</span></div></div><div class=\"54808ba5-642c-4f36-b506-d67fa1f2385d\" style=\"display: none;\"><div style=\"display: table-cell;\"></div><div style=\"display: table-cell;\">children&nbsp;=&nbsp;[ToolbarBox(id='cb2bef8a-c09e-4b89-8e17-3f58cdc6c2f1', ...), Column(id='6e145627-7b88-4867-b3bd-fdd029d88d8c', ...)],</div></div><div class=\"54808ba5-642c-4f36-b506-d67fa1f2385d\" style=\"display: none;\"><div style=\"display: table-cell;\"></div><div style=\"display: table-cell;\">css_classes&nbsp;=&nbsp;[],</div></div><div class=\"54808ba5-642c-4f36-b506-d67fa1f2385d\" style=\"display: none;\"><div style=\"display: table-cell;\"></div><div style=\"display: table-cell;\">disabled&nbsp;=&nbsp;False,</div></div><div class=\"54808ba5-642c-4f36-b506-d67fa1f2385d\" style=\"display: none;\"><div style=\"display: table-cell;\"></div><div style=\"display: table-cell;\">height&nbsp;=&nbsp;None,</div></div><div class=\"54808ba5-642c-4f36-b506-d67fa1f2385d\" style=\"display: none;\"><div style=\"display: table-cell;\"></div><div style=\"display: table-cell;\">js_event_callbacks&nbsp;=&nbsp;{},</div></div><div class=\"54808ba5-642c-4f36-b506-d67fa1f2385d\" style=\"display: none;\"><div style=\"display: table-cell;\"></div><div style=\"display: table-cell;\">js_property_callbacks&nbsp;=&nbsp;{},</div></div><div class=\"54808ba5-642c-4f36-b506-d67fa1f2385d\" style=\"display: none;\"><div style=\"display: table-cell;\"></div><div style=\"display: table-cell;\">name&nbsp;=&nbsp;None,</div></div><div class=\"54808ba5-642c-4f36-b506-d67fa1f2385d\" style=\"display: none;\"><div style=\"display: table-cell;\"></div><div style=\"display: table-cell;\">sizing_mode&nbsp;=&nbsp;'fixed',</div></div><div class=\"54808ba5-642c-4f36-b506-d67fa1f2385d\" style=\"display: none;\"><div style=\"display: table-cell;\"></div><div style=\"display: table-cell;\">subscribed_events&nbsp;=&nbsp;[],</div></div><div class=\"54808ba5-642c-4f36-b506-d67fa1f2385d\" style=\"display: none;\"><div style=\"display: table-cell;\"></div><div style=\"display: table-cell;\">tags&nbsp;=&nbsp;[],</div></div><div class=\"54808ba5-642c-4f36-b506-d67fa1f2385d\" style=\"display: none;\"><div style=\"display: table-cell;\"></div><div style=\"display: table-cell;\">width&nbsp;=&nbsp;None)</div></div></div>\n",
       "<script>\n",
       "(function() {\n",
       "  var expanded = false;\n",
       "  var ellipsis = document.getElementById(\"9f7a0e3e-4aba-4e78-8f81-29b3942b33b3\");\n",
       "  ellipsis.addEventListener(\"click\", function() {\n",
       "    var rows = document.getElementsByClassName(\"54808ba5-642c-4f36-b506-d67fa1f2385d\");\n",
       "    for (var i = 0; i < rows.length; i++) {\n",
       "      var el = rows[i];\n",
       "      el.style.display = expanded ? \"none\" : \"table-row\";\n",
       "    }\n",
       "    ellipsis.innerHTML = expanded ? \"&hellip;)\" : \"&lsaquo;&lsaquo;&lsaquo;\";\n",
       "    expanded = !expanded;\n",
       "  });\n",
       "})();\n",
       "</script>\n"
      ],
      "text/plain": [
       "Column(id='17883198-6890-4dbf-a373-ccdb7708bdcc', ...)"
      ]
     },
     "execution_count": 48,
     "metadata": {},
     "output_type": "execute_result"
    }
   ],
   "source": [
    "visualize([prof, rprof, cprof])"
   ]
  },
  {
   "cell_type": "code",
   "execution_count": null,
   "metadata": {},
   "outputs": [],
   "source": []
  },
  {
   "cell_type": "code",
   "execution_count": null,
   "metadata": {},
   "outputs": [],
   "source": []
  },
  {
   "cell_type": "code",
   "execution_count": null,
   "metadata": {},
   "outputs": [],
   "source": []
  },
  {
   "cell_type": "code",
   "execution_count": null,
   "metadata": {},
   "outputs": [],
   "source": []
  },
  {
   "cell_type": "code",
   "execution_count": 67,
   "metadata": {},
   "outputs": [
    {
     "data": {
      "text/plain": [
       "Dask Series Structure:\n",
       "npartitions=1\n",
       "0       int64\n",
       "9999      ...\n",
       "dtype: int64\n",
       "Dask Name: dataframe-count-agg, 3 tasks"
      ]
     },
     "execution_count": 67,
     "metadata": {},
     "output_type": "execute_result"
    }
   ],
   "source": [
    "dd.read_parquet('tweet_vectors.parquet').count()"
   ]
  },
  {
   "cell_type": "code",
   "execution_count": null,
   "metadata": {},
   "outputs": [],
   "source": []
  },
  {
   "cell_type": "code",
   "execution_count": null,
   "metadata": {},
   "outputs": [],
   "source": []
  },
  {
   "cell_type": "code",
   "execution_count": null,
   "metadata": {},
   "outputs": [],
   "source": []
  },
  {
   "cell_type": "code",
   "execution_count": null,
   "metadata": {},
   "outputs": [],
   "source": []
  },
  {
   "cell_type": "code",
   "execution_count": null,
   "metadata": {},
   "outputs": [],
   "source": []
  },
  {
   "cell_type": "code",
   "execution_count": null,
   "metadata": {},
   "outputs": [],
   "source": []
  },
  {
   "cell_type": "code",
   "execution_count": null,
   "metadata": {},
   "outputs": [],
   "source": []
  },
  {
   "cell_type": "code",
   "execution_count": null,
   "metadata": {},
   "outputs": [],
   "source": []
  },
  {
   "cell_type": "code",
   "execution_count": null,
   "metadata": {},
   "outputs": [],
   "source": []
  },
  {
   "cell_type": "code",
   "execution_count": null,
   "metadata": {},
   "outputs": [],
   "source": []
  },
  {
   "cell_type": "code",
   "execution_count": null,
   "metadata": {},
   "outputs": [],
   "source": []
  },
  {
   "cell_type": "code",
   "execution_count": null,
   "metadata": {},
   "outputs": [],
   "source": []
  }
 ],
 "metadata": {
  "kernelspec": {
   "display_name": "Python 3",
   "language": "python",
   "name": "python3"
  },
  "language_info": {
   "codemirror_mode": {
    "name": "ipython",
    "version": 3
   },
   "file_extension": ".py",
   "mimetype": "text/x-python",
   "name": "python",
   "nbconvert_exporter": "python",
   "pygments_lexer": "ipython3",
   "version": "3.6.5"
  }
 },
 "nbformat": 4,
 "nbformat_minor": 2
}
