{
 "cells": [
  {
   "cell_type": "code",
   "execution_count": 1,
   "metadata": {},
   "outputs": [],
   "source": [
    "# %load_ext autoreload\n",
    "# %autoreload 2"
   ]
  },
  {
   "cell_type": "code",
   "execution_count": 2,
   "metadata": {},
   "outputs": [],
   "source": [
    "%load_ext cython"
   ]
  },
  {
   "cell_type": "code",
   "execution_count": 3,
   "metadata": {},
   "outputs": [
    {
     "data": {
      "text/html": [
       "\n",
       "    <div class=\"bk-root\">\n",
       "        <a href=\"https://bokeh.pydata.org\" target=\"_blank\" class=\"bk-logo bk-logo-small bk-logo-notebook\"></a>\n",
       "        <span id=\"8282078a-8ed4-40bc-b0ee-dd1e0c9c9e4f\">Loading BokehJS ...</span>\n",
       "    </div>"
      ]
     },
     "metadata": {},
     "output_type": "display_data"
    },
    {
     "data": {
      "application/javascript": [
       "\n",
       "(function(root) {\n",
       "  function now() {\n",
       "    return new Date();\n",
       "  }\n",
       "\n",
       "  var force = true;\n",
       "\n",
       "  if (typeof (root._bokeh_onload_callbacks) === \"undefined\" || force === true) {\n",
       "    root._bokeh_onload_callbacks = [];\n",
       "    root._bokeh_is_loading = undefined;\n",
       "  }\n",
       "\n",
       "  var JS_MIME_TYPE = 'application/javascript';\n",
       "  var HTML_MIME_TYPE = 'text/html';\n",
       "  var EXEC_MIME_TYPE = 'application/vnd.bokehjs_exec.v0+json';\n",
       "  var CLASS_NAME = 'output_bokeh rendered_html';\n",
       "\n",
       "  /**\n",
       "   * Render data to the DOM node\n",
       "   */\n",
       "  function render(props, node) {\n",
       "    var script = document.createElement(\"script\");\n",
       "    node.appendChild(script);\n",
       "  }\n",
       "\n",
       "  /**\n",
       "   * Handle when an output is cleared or removed\n",
       "   */\n",
       "  function handleClearOutput(event, handle) {\n",
       "    var cell = handle.cell;\n",
       "\n",
       "    var id = cell.output_area._bokeh_element_id;\n",
       "    var server_id = cell.output_area._bokeh_server_id;\n",
       "    // Clean up Bokeh references\n",
       "    if (id !== undefined) {\n",
       "      Bokeh.index[id].model.document.clear();\n",
       "      delete Bokeh.index[id];\n",
       "    }\n",
       "\n",
       "    if (server_id !== undefined) {\n",
       "      // Clean up Bokeh references\n",
       "      var cmd = \"from bokeh.io.state import curstate; print(curstate().uuid_to_server['\" + server_id + \"'].get_sessions()[0].document.roots[0]._id)\";\n",
       "      cell.notebook.kernel.execute(cmd, {\n",
       "        iopub: {\n",
       "          output: function(msg) {\n",
       "            var element_id = msg.content.text.trim();\n",
       "            Bokeh.index[element_id].model.document.clear();\n",
       "            delete Bokeh.index[element_id];\n",
       "          }\n",
       "        }\n",
       "      });\n",
       "      // Destroy server and session\n",
       "      var cmd = \"import bokeh.io.notebook as ion; ion.destroy_server('\" + server_id + \"')\";\n",
       "      cell.notebook.kernel.execute(cmd);\n",
       "    }\n",
       "  }\n",
       "\n",
       "  /**\n",
       "   * Handle when a new output is added\n",
       "   */\n",
       "  function handleAddOutput(event, handle) {\n",
       "    var output_area = handle.output_area;\n",
       "    var output = handle.output;\n",
       "\n",
       "    // limit handleAddOutput to display_data with EXEC_MIME_TYPE content only\n",
       "    if ((output.output_type != \"display_data\") || (!output.data.hasOwnProperty(EXEC_MIME_TYPE))) {\n",
       "      return\n",
       "    }\n",
       "\n",
       "    var toinsert = output_area.element.find(\".\" + CLASS_NAME.split(' ')[0]);\n",
       "\n",
       "    if (output.metadata[EXEC_MIME_TYPE][\"id\"] !== undefined) {\n",
       "      toinsert[toinsert.length - 1].firstChild.textContent = output.data[JS_MIME_TYPE];\n",
       "      // store reference to embed id on output_area\n",
       "      output_area._bokeh_element_id = output.metadata[EXEC_MIME_TYPE][\"id\"];\n",
       "    }\n",
       "    if (output.metadata[EXEC_MIME_TYPE][\"server_id\"] !== undefined) {\n",
       "      var bk_div = document.createElement(\"div\");\n",
       "      bk_div.innerHTML = output.data[HTML_MIME_TYPE];\n",
       "      var script_attrs = bk_div.children[0].attributes;\n",
       "      for (var i = 0; i < script_attrs.length; i++) {\n",
       "        toinsert[toinsert.length - 1].firstChild.setAttribute(script_attrs[i].name, script_attrs[i].value);\n",
       "      }\n",
       "      // store reference to server id on output_area\n",
       "      output_area._bokeh_server_id = output.metadata[EXEC_MIME_TYPE][\"server_id\"];\n",
       "    }\n",
       "  }\n",
       "\n",
       "  function register_renderer(events, OutputArea) {\n",
       "\n",
       "    function append_mime(data, metadata, element) {\n",
       "      // create a DOM node to render to\n",
       "      var toinsert = this.create_output_subarea(\n",
       "        metadata,\n",
       "        CLASS_NAME,\n",
       "        EXEC_MIME_TYPE\n",
       "      );\n",
       "      this.keyboard_manager.register_events(toinsert);\n",
       "      // Render to node\n",
       "      var props = {data: data, metadata: metadata[EXEC_MIME_TYPE]};\n",
       "      render(props, toinsert[toinsert.length - 1]);\n",
       "      element.append(toinsert);\n",
       "      return toinsert\n",
       "    }\n",
       "\n",
       "    /* Handle when an output is cleared or removed */\n",
       "    events.on('clear_output.CodeCell', handleClearOutput);\n",
       "    events.on('delete.Cell', handleClearOutput);\n",
       "\n",
       "    /* Handle when a new output is added */\n",
       "    events.on('output_added.OutputArea', handleAddOutput);\n",
       "\n",
       "    /**\n",
       "     * Register the mime type and append_mime function with output_area\n",
       "     */\n",
       "    OutputArea.prototype.register_mime_type(EXEC_MIME_TYPE, append_mime, {\n",
       "      /* Is output safe? */\n",
       "      safe: true,\n",
       "      /* Index of renderer in `output_area.display_order` */\n",
       "      index: 0\n",
       "    });\n",
       "  }\n",
       "\n",
       "  // register the mime type if in Jupyter Notebook environment and previously unregistered\n",
       "  if (root.Jupyter !== undefined) {\n",
       "    var events = require('base/js/events');\n",
       "    var OutputArea = require('notebook/js/outputarea').OutputArea;\n",
       "\n",
       "    if (OutputArea.prototype.mime_types().indexOf(EXEC_MIME_TYPE) == -1) {\n",
       "      register_renderer(events, OutputArea);\n",
       "    }\n",
       "  }\n",
       "\n",
       "  \n",
       "  if (typeof (root._bokeh_timeout) === \"undefined\" || force === true) {\n",
       "    root._bokeh_timeout = Date.now() + 5000;\n",
       "    root._bokeh_failed_load = false;\n",
       "  }\n",
       "\n",
       "  var NB_LOAD_WARNING = {'data': {'text/html':\n",
       "     \"<div style='background-color: #fdd'>\\n\"+\n",
       "     \"<p>\\n\"+\n",
       "     \"BokehJS does not appear to have successfully loaded. If loading BokehJS from CDN, this \\n\"+\n",
       "     \"may be due to a slow or bad network connection. Possible fixes:\\n\"+\n",
       "     \"</p>\\n\"+\n",
       "     \"<ul>\\n\"+\n",
       "     \"<li>re-rerun `output_notebook()` to attempt to load from CDN again, or</li>\\n\"+\n",
       "     \"<li>use INLINE resources instead, as so:</li>\\n\"+\n",
       "     \"</ul>\\n\"+\n",
       "     \"<code>\\n\"+\n",
       "     \"from bokeh.resources import INLINE\\n\"+\n",
       "     \"output_notebook(resources=INLINE)\\n\"+\n",
       "     \"</code>\\n\"+\n",
       "     \"</div>\"}};\n",
       "\n",
       "  function display_loaded() {\n",
       "    var el = document.getElementById(\"8282078a-8ed4-40bc-b0ee-dd1e0c9c9e4f\");\n",
       "    if (el != null) {\n",
       "      el.textContent = \"BokehJS is loading...\";\n",
       "    }\n",
       "    if (root.Bokeh !== undefined) {\n",
       "      if (el != null) {\n",
       "        el.textContent = \"BokehJS \" + root.Bokeh.version + \" successfully loaded.\";\n",
       "      }\n",
       "    } else if (Date.now() < root._bokeh_timeout) {\n",
       "      setTimeout(display_loaded, 100)\n",
       "    }\n",
       "  }\n",
       "\n",
       "\n",
       "  function run_callbacks() {\n",
       "    try {\n",
       "      root._bokeh_onload_callbacks.forEach(function(callback) { callback() });\n",
       "    }\n",
       "    finally {\n",
       "      delete root._bokeh_onload_callbacks\n",
       "    }\n",
       "    console.info(\"Bokeh: all callbacks have finished\");\n",
       "  }\n",
       "\n",
       "  function load_libs(js_urls, callback) {\n",
       "    root._bokeh_onload_callbacks.push(callback);\n",
       "    if (root._bokeh_is_loading > 0) {\n",
       "      console.log(\"Bokeh: BokehJS is being loaded, scheduling callback at\", now());\n",
       "      return null;\n",
       "    }\n",
       "    if (js_urls == null || js_urls.length === 0) {\n",
       "      run_callbacks();\n",
       "      return null;\n",
       "    }\n",
       "    console.log(\"Bokeh: BokehJS not loaded, scheduling load and callback at\", now());\n",
       "    root._bokeh_is_loading = js_urls.length;\n",
       "    for (var i = 0; i < js_urls.length; i++) {\n",
       "      var url = js_urls[i];\n",
       "      var s = document.createElement('script');\n",
       "      s.src = url;\n",
       "      s.async = false;\n",
       "      s.onreadystatechange = s.onload = function() {\n",
       "        root._bokeh_is_loading--;\n",
       "        if (root._bokeh_is_loading === 0) {\n",
       "          console.log(\"Bokeh: all BokehJS libraries loaded\");\n",
       "          run_callbacks()\n",
       "        }\n",
       "      };\n",
       "      s.onerror = function() {\n",
       "        console.warn(\"failed to load library \" + url);\n",
       "      };\n",
       "      console.log(\"Bokeh: injecting script tag for BokehJS library: \", url);\n",
       "      document.getElementsByTagName(\"head\")[0].appendChild(s);\n",
       "    }\n",
       "  };var element = document.getElementById(\"8282078a-8ed4-40bc-b0ee-dd1e0c9c9e4f\");\n",
       "  if (element == null) {\n",
       "    console.log(\"Bokeh: ERROR: autoload.js configured with elementid '8282078a-8ed4-40bc-b0ee-dd1e0c9c9e4f' but no matching script tag was found. \")\n",
       "    return false;\n",
       "  }\n",
       "\n",
       "  var js_urls = [\"https://cdn.pydata.org/bokeh/release/bokeh-0.12.15.min.js\", \"https://cdn.pydata.org/bokeh/release/bokeh-widgets-0.12.15.min.js\", \"https://cdn.pydata.org/bokeh/release/bokeh-tables-0.12.15.min.js\", \"https://cdn.pydata.org/bokeh/release/bokeh-gl-0.12.15.min.js\"];\n",
       "\n",
       "  var inline_js = [\n",
       "    function(Bokeh) {\n",
       "      Bokeh.set_log_level(\"info\");\n",
       "    },\n",
       "    \n",
       "    function(Bokeh) {\n",
       "      \n",
       "    },\n",
       "    function(Bokeh) {\n",
       "      console.log(\"Bokeh: injecting CSS: https://cdn.pydata.org/bokeh/release/bokeh-0.12.15.min.css\");\n",
       "      Bokeh.embed.inject_css(\"https://cdn.pydata.org/bokeh/release/bokeh-0.12.15.min.css\");\n",
       "      console.log(\"Bokeh: injecting CSS: https://cdn.pydata.org/bokeh/release/bokeh-widgets-0.12.15.min.css\");\n",
       "      Bokeh.embed.inject_css(\"https://cdn.pydata.org/bokeh/release/bokeh-widgets-0.12.15.min.css\");\n",
       "      console.log(\"Bokeh: injecting CSS: https://cdn.pydata.org/bokeh/release/bokeh-tables-0.12.15.min.css\");\n",
       "      Bokeh.embed.inject_css(\"https://cdn.pydata.org/bokeh/release/bokeh-tables-0.12.15.min.css\");\n",
       "    }\n",
       "  ];\n",
       "\n",
       "  function run_inline_js() {\n",
       "    \n",
       "    if ((root.Bokeh !== undefined) || (force === true)) {\n",
       "      for (var i = 0; i < inline_js.length; i++) {\n",
       "        inline_js[i].call(root, root.Bokeh);\n",
       "      }if (force === true) {\n",
       "        display_loaded();\n",
       "      }} else if (Date.now() < root._bokeh_timeout) {\n",
       "      setTimeout(run_inline_js, 100);\n",
       "    } else if (!root._bokeh_failed_load) {\n",
       "      console.log(\"Bokeh: BokehJS failed to load within specified timeout.\");\n",
       "      root._bokeh_failed_load = true;\n",
       "    } else if (force !== true) {\n",
       "      var cell = $(document.getElementById(\"8282078a-8ed4-40bc-b0ee-dd1e0c9c9e4f\")).parents('.cell').data().cell;\n",
       "      cell.output_area.append_execute_result(NB_LOAD_WARNING)\n",
       "    }\n",
       "\n",
       "  }\n",
       "\n",
       "  if (root._bokeh_is_loading === 0) {\n",
       "    console.log(\"Bokeh: BokehJS loaded, going straight to plotting\");\n",
       "    run_inline_js();\n",
       "  } else {\n",
       "    load_libs(js_urls, function() {\n",
       "      console.log(\"Bokeh: BokehJS plotting callback run at\", now());\n",
       "      run_inline_js();\n",
       "    });\n",
       "  }\n",
       "}(window));"
      ],
      "application/vnd.bokehjs_load.v0+json": "\n(function(root) {\n  function now() {\n    return new Date();\n  }\n\n  var force = true;\n\n  if (typeof (root._bokeh_onload_callbacks) === \"undefined\" || force === true) {\n    root._bokeh_onload_callbacks = [];\n    root._bokeh_is_loading = undefined;\n  }\n\n  \n\n  \n  if (typeof (root._bokeh_timeout) === \"undefined\" || force === true) {\n    root._bokeh_timeout = Date.now() + 5000;\n    root._bokeh_failed_load = false;\n  }\n\n  var NB_LOAD_WARNING = {'data': {'text/html':\n     \"<div style='background-color: #fdd'>\\n\"+\n     \"<p>\\n\"+\n     \"BokehJS does not appear to have successfully loaded. If loading BokehJS from CDN, this \\n\"+\n     \"may be due to a slow or bad network connection. Possible fixes:\\n\"+\n     \"</p>\\n\"+\n     \"<ul>\\n\"+\n     \"<li>re-rerun `output_notebook()` to attempt to load from CDN again, or</li>\\n\"+\n     \"<li>use INLINE resources instead, as so:</li>\\n\"+\n     \"</ul>\\n\"+\n     \"<code>\\n\"+\n     \"from bokeh.resources import INLINE\\n\"+\n     \"output_notebook(resources=INLINE)\\n\"+\n     \"</code>\\n\"+\n     \"</div>\"}};\n\n  function display_loaded() {\n    var el = document.getElementById(\"8282078a-8ed4-40bc-b0ee-dd1e0c9c9e4f\");\n    if (el != null) {\n      el.textContent = \"BokehJS is loading...\";\n    }\n    if (root.Bokeh !== undefined) {\n      if (el != null) {\n        el.textContent = \"BokehJS \" + root.Bokeh.version + \" successfully loaded.\";\n      }\n    } else if (Date.now() < root._bokeh_timeout) {\n      setTimeout(display_loaded, 100)\n    }\n  }\n\n\n  function run_callbacks() {\n    try {\n      root._bokeh_onload_callbacks.forEach(function(callback) { callback() });\n    }\n    finally {\n      delete root._bokeh_onload_callbacks\n    }\n    console.info(\"Bokeh: all callbacks have finished\");\n  }\n\n  function load_libs(js_urls, callback) {\n    root._bokeh_onload_callbacks.push(callback);\n    if (root._bokeh_is_loading > 0) {\n      console.log(\"Bokeh: BokehJS is being loaded, scheduling callback at\", now());\n      return null;\n    }\n    if (js_urls == null || js_urls.length === 0) {\n      run_callbacks();\n      return null;\n    }\n    console.log(\"Bokeh: BokehJS not loaded, scheduling load and callback at\", now());\n    root._bokeh_is_loading = js_urls.length;\n    for (var i = 0; i < js_urls.length; i++) {\n      var url = js_urls[i];\n      var s = document.createElement('script');\n      s.src = url;\n      s.async = false;\n      s.onreadystatechange = s.onload = function() {\n        root._bokeh_is_loading--;\n        if (root._bokeh_is_loading === 0) {\n          console.log(\"Bokeh: all BokehJS libraries loaded\");\n          run_callbacks()\n        }\n      };\n      s.onerror = function() {\n        console.warn(\"failed to load library \" + url);\n      };\n      console.log(\"Bokeh: injecting script tag for BokehJS library: \", url);\n      document.getElementsByTagName(\"head\")[0].appendChild(s);\n    }\n  };var element = document.getElementById(\"8282078a-8ed4-40bc-b0ee-dd1e0c9c9e4f\");\n  if (element == null) {\n    console.log(\"Bokeh: ERROR: autoload.js configured with elementid '8282078a-8ed4-40bc-b0ee-dd1e0c9c9e4f' but no matching script tag was found. \")\n    return false;\n  }\n\n  var js_urls = [\"https://cdn.pydata.org/bokeh/release/bokeh-0.12.15.min.js\", \"https://cdn.pydata.org/bokeh/release/bokeh-widgets-0.12.15.min.js\", \"https://cdn.pydata.org/bokeh/release/bokeh-tables-0.12.15.min.js\", \"https://cdn.pydata.org/bokeh/release/bokeh-gl-0.12.15.min.js\"];\n\n  var inline_js = [\n    function(Bokeh) {\n      Bokeh.set_log_level(\"info\");\n    },\n    \n    function(Bokeh) {\n      \n    },\n    function(Bokeh) {\n      console.log(\"Bokeh: injecting CSS: https://cdn.pydata.org/bokeh/release/bokeh-0.12.15.min.css\");\n      Bokeh.embed.inject_css(\"https://cdn.pydata.org/bokeh/release/bokeh-0.12.15.min.css\");\n      console.log(\"Bokeh: injecting CSS: https://cdn.pydata.org/bokeh/release/bokeh-widgets-0.12.15.min.css\");\n      Bokeh.embed.inject_css(\"https://cdn.pydata.org/bokeh/release/bokeh-widgets-0.12.15.min.css\");\n      console.log(\"Bokeh: injecting CSS: https://cdn.pydata.org/bokeh/release/bokeh-tables-0.12.15.min.css\");\n      Bokeh.embed.inject_css(\"https://cdn.pydata.org/bokeh/release/bokeh-tables-0.12.15.min.css\");\n    }\n  ];\n\n  function run_inline_js() {\n    \n    if ((root.Bokeh !== undefined) || (force === true)) {\n      for (var i = 0; i < inline_js.length; i++) {\n        inline_js[i].call(root, root.Bokeh);\n      }if (force === true) {\n        display_loaded();\n      }} else if (Date.now() < root._bokeh_timeout) {\n      setTimeout(run_inline_js, 100);\n    } else if (!root._bokeh_failed_load) {\n      console.log(\"Bokeh: BokehJS failed to load within specified timeout.\");\n      root._bokeh_failed_load = true;\n    } else if (force !== true) {\n      var cell = $(document.getElementById(\"8282078a-8ed4-40bc-b0ee-dd1e0c9c9e4f\")).parents('.cell').data().cell;\n      cell.output_area.append_execute_result(NB_LOAD_WARNING)\n    }\n\n  }\n\n  if (root._bokeh_is_loading === 0) {\n    console.log(\"Bokeh: BokehJS loaded, going straight to plotting\");\n    run_inline_js();\n  } else {\n    load_libs(js_urls, function() {\n      console.log(\"Bokeh: BokehJS plotting callback run at\", now());\n      run_inline_js();\n    });\n  }\n}(window));"
     },
     "metadata": {},
     "output_type": "display_data"
    }
   ],
   "source": [
    "from bokeh.io import output_notebook\n",
    "output_notebook()"
   ]
  },
  {
   "cell_type": "code",
   "execution_count": 4,
   "metadata": {},
   "outputs": [],
   "source": [
    "import collections\n",
    "import glob\n",
    "import json\n",
    "import pickle\n",
    "\n",
    "from multiprocessing.pool import Pool, ThreadPool\n",
    "\n",
    "import numpy as np\n",
    "import pandas as pd\n",
    "\n",
    "import dask\n",
    "import dask.dataframe as dd\n",
    "import dask.array as da\n",
    "import dask.bag as db\n",
    "from dask.diagnostics import ProgressBar, Profiler, ResourceProfiler, CacheProfiler, visualize"
   ]
  },
  {
   "cell_type": "code",
   "execution_count": 5,
   "metadata": {},
   "outputs": [],
   "source": [
    "import random_indexing as ri"
   ]
  },
  {
   "cell_type": "code",
   "execution_count": 6,
   "metadata": {},
   "outputs": [],
   "source": [
    "load_tweets = (\n",
    "    db.read_text(\n",
    "        #'rehydrated_tweets_dump.jsonl',\n",
    "        'dump10K.jsonl',\n",
    "        blocksize=200*(1024**1)\n",
    "    )\n",
    "    .map(json.loads)\n",
    ")"
   ]
  },
  {
   "cell_type": "code",
   "execution_count": 7,
   "metadata": {
    "scrolled": false
   },
   "outputs": [
    {
     "name": "stdout",
     "output_type": "stream",
     "text": [
      "[########################################] | 100% Completed |  0.3s\n",
      "CPU times: user 156 ms, sys: 46.5 ms, total: 203 ms\n",
      "Wall time: 406 ms\n"
     ]
    }
   ],
   "source": [
    "%%time\n",
    "_ = (\n",
    "    load_tweets\n",
    "    .pluck('text', '')\n",
    "    .flatten()\n",
    "    .frequencies()\n",
    ")\n",
    "\n",
    "with ProgressBar():\n",
    "    _ = _.compute()\n",
    "\n",
    "vocabulary = pd.DataFrame.from_records(\n",
    "    _,\n",
    "    columns=['letter', 'count'],\n",
    "    index='letter',\n",
    ")\n",
    "vocabulary.loc[''] = 0\n",
    "\n",
    "vocabulary = vocabulary['count'].sort_values(ascending=False)"
   ]
  },
  {
   "cell_type": "code",
   "execution_count": 8,
   "metadata": {},
   "outputs": [
    {
     "data": {
      "text/plain": [
       "576"
      ]
     },
     "execution_count": 8,
     "metadata": {},
     "output_type": "execute_result"
    }
   ],
   "source": [
    "len(vocabulary)"
   ]
  },
  {
   "cell_type": "code",
   "execution_count": 9,
   "metadata": {},
   "outputs": [],
   "source": [
    "D = 10_000"
   ]
  },
  {
   "cell_type": "code",
   "execution_count": 10,
   "metadata": {},
   "outputs": [
    {
     "name": "stdout",
     "output_type": "stream",
     "text": [
      "CPU times: user 213 ms, sys: 7.57 ms, total: 221 ms\n",
      "Wall time: 223 ms\n"
     ]
    }
   ],
   "source": [
    "%%time\n",
    "features = ri.Features(vocabulary.index, D=D)"
   ]
  },
  {
   "cell_type": "code",
   "execution_count": 11,
   "metadata": {},
   "outputs": [],
   "source": [
    "%%cython\n",
    "\n",
    "def pool_init(features):\n",
    "    import imp, sys\n",
    "    __ctx = imp.new_module('__ctx')\n",
    "    sys.modules['__ctx'] = __ctx\n",
    "    \n",
    "    __ctx.features = features\n",
    "\n",
    "\n",
    "def vectorize(tweets):\n",
    "    import numpy as np\n",
    "    import random_indexing as ri\n",
    "    \n",
    "    from __ctx import features\n",
    "\n",
    "    def f(t):\n",
    "        vector = np.stack(ri.vectorize(t, window_length=3, features=features)).prod(axis=0)\n",
    "        return np.packbits(vector == 1)\n",
    "        \n",
    "    return [f(tweet['text']) for tweet in tweets]"
   ]
  },
  {
   "cell_type": "code",
   "execution_count": 61,
   "metadata": {
    "scrolled": true
   },
   "outputs": [
    {
     "name": "stdout",
     "output_type": "stream",
     "text": [
      "[########################################] | 100% Completed |  1min 10.1s\n",
      "[########################################] | 100% Completed |  1min 10.7s\n",
      "CPU times: user 5.45 s, sys: 1.36 s, total: 6.81 s\n",
      "Wall time: 2min 21s\n"
     ]
    }
   ],
   "source": [
    "%%time\n",
    "\n",
    "with Pool(initializer=pool_init, initargs=[features]) as pool:\n",
    "    with dask.set_options(\n",
    "        pool=pool,\n",
    "        get=dask.multiprocessing.get,\n",
    "    ), ProgressBar():\n",
    "        with Profiler() as prof, ResourceProfiler(dt=0.25) as rprof, CacheProfiler() as cprof:\n",
    "\n",
    "            pool_init(features)    \n",
    "\n",
    "            vectors = (\n",
    "                load_tweets\n",
    "                .map_partitions(vectorize)\n",
    "            )\n",
    "            \n",
    "            tweet_ids = load_tweets.pluck('tweet_id').to_dataframe(meta=[('tweet_id', 'uint64')])['tweet_id']\n",
    "            \n",
    "            from_scratch = (\n",
    "                vectors.to_dataframe(meta=[(i, 'uint8')for i in range(1250)])\n",
    "                .set_index(tweet_ids, sorted=True)\n",
    "                .repartition(npartitions=100)\n",
    "            )\n",
    "            \n",
    "            from_scratch.to_hdf('tweet_vectors.hdf', key='data/v*', mode='w')"
   ]
  },
  {
   "cell_type": "code",
   "execution_count": 62,
   "metadata": {},
   "outputs": [
    {
     "data": {
      "text/html": [
       "\n",
       "<div class=\"bk-root\">\n",
       "    <div class=\"bk-plotdiv\" id=\"8a81dcbd-2f1d-4153-ab5a-030437190ade\"></div>\n",
       "</div>"
      ]
     },
     "metadata": {},
     "output_type": "display_data"
    },
    {
     "data": {
      "application/javascript": [
       "(function(root) {\n",
       "  function embed_document(root) {\n",
       "    \n",
       "  var docs_json = {\"35af3b66-6c6a-41f5-a3e3-26624d197352\":{\"roots\":{\"references\":[{\"attributes\":{},\"id\":\"2bd0c7a3-6d6c-4613-93eb-45ead20865b3\",\"type\":\"CategoricalTicker\"},{\"attributes\":{\"callback\":null,\"end\":140.86149152205326},\"id\":\"f4477f89-d9e0-4ffc-a821-5709ab967a7f\",\"type\":\"Range1d\"},{\"attributes\":{\"callback\":null,\"point_policy\":\"follow_mouse\",\"tooltips\":\"\\n    <div>\\n        <span style=\\\"font-size: 14px; font-weight: bold;\\\">Key:</span>&nbsp;\\n        <span style=\\\"font-size: 10px; font-family: Monaco, monospace;\\\">@key</span>\\n    </div>\\n    <div>\\n        <span style=\\\"font-size: 14px; font-weight: bold;\\\">Task:</span>&nbsp;\\n        <span style=\\\"font-size: 10px; font-family: Monaco, monospace;\\\">@function</span>\\n    </div>\\n    \"},\"id\":\"896a010e-c428-4915-99ad-078f9d1834de\",\"type\":\"HoverTool\"},{\"attributes\":{\"callback\":null,\"column_names\":[\"width\",\"x\",\"y\",\"function\",\"color\",\"key\"],\"data\":{\"color\":[\"#B2DD2C\",\"#FDE724\",\"#B2DD2C\",\"#FDE724\",\"#440154\",\"#B2DD2C\",\"#440154\",\"#FDE724\",\"#440154\",\"#B2DD2C\",\"#440154\",\"#FDE724\",\"#440154\",\"#440154\",\"#6BCD59\",\"#6BCD59\",\"#440154\",\"#25828E\",\"#25828E\",\"#25828E\",\"#25828E\",\"#B2DD2C\",\"#6BCD59\",\"#FDE724\",\"#440154\",\"#25828E\",\"#25828E\",\"#B2DD2C\",\"#FDE724\",\"#440154\",\"#440154\",\"#B2DD2C\",\"#440154\",\"#6BCD59\",\"#FDE724\",\"#25828E\",\"#25828E\",\"#B2DD2C\",\"#440154\",\"#FDE724\",\"#440154\",\"#6BCD59\",\"#25828E\",\"#25828E\",\"#B2DD2C\",\"#440154\",\"#FDE724\",\"#440154\",\"#6BCD59\",\"#25828E\",\"#25828E\",\"#B2DD2C\",\"#440154\",\"#FDE724\",\"#440154\",\"#6BCD59\",\"#25828E\",\"#25828E\",\"#B2DD2C\",\"#440154\",\"#FDE724\",\"#440154\",\"#6BCD59\",\"#25828E\",\"#25828E\",\"#B2DD2C\",\"#440154\",\"#FDE724\",\"#440154\",\"#6BCD59\",\"#25828E\",\"#25828E\",\"#440154\",\"#6BCD59\",\"#25828E\",\"#25828E\",\"#440154\",\"#6BCD59\",\"#25828E\",\"#25828E\",\"#440154\",\"#6BCD59\",\"#25828E\",\"#25828E\",\"#B2DD2C\",\"#FDE724\",\"#B2DD2C\",\"#FDE724\",\"#440154\",\"#440154\",\"#B2DD2C\",\"#FDE724\",\"#440154\",\"#B2DD2C\",\"#440154\",\"#FDE724\",\"#440154\",\"#30678D\",\"#440154\",\"#1E9C89\",\"#440154\",\"#30678D\",\"#1E9C89\",\"#30678D\",\"#440154\",\"#1E9C89\",\"#440154\",\"#1E9C89\",\"#1E9C89\",\"#1E9C89\",\"#30678D\",\"#440154\",\"#3E4989\",\"#440154\",\"#1E9C89\",\"#1E9C89\",\"#1E9C89\",\"#440154\",\"#35B778\",\"#1E9C89\",\"#35B778\",\"#440154\",\"#1E9C89\",\"#1E9C89\",\"#440154\",\"#440154\",\"#1E9C89\",\"#1E9C89\",\"#1E9C89\",\"#440154\",\"#1E9C89\",\"#440154\",\"#440154\",\"#1E9C89\",\"#440154\",\"#1E9C89\",\"#1E9C89\",\"#440154\",\"#440154\",\"#1E9C89\",\"#440154\",\"#440154\",\"#1E9C89\",\"#440154\",\"#1E9C89\",\"#1E9C89\",\"#472777\",\"#440154\",\"#440154\",\"#440154\",\"#472777\",\"#472777\",\"#472777\",\"#472777\",\"#472777\",\"#472777\",\"#472777\",\"#472777\",\"#472777\",\"#472777\",\"#472777\",\"#472777\",\"#472777\",\"#472777\",\"#472777\",\"#472777\",\"#472777\",\"#472777\",\"#472777\",\"#1E9C89\",\"#440154\",\"#472777\",\"#1E9C89\",\"#440154\",\"#472777\",\"#1E9C89\",\"#440154\",\"#472777\",\"#1E9C89\",\"#440154\",\"#472777\",\"#1E9C89\",\"#440154\",\"#472777\",\"#1E9C89\",\"#440154\",\"#472777\",\"#1E9C89\",\"#440154\",\"#472777\",\"#1E9C89\",\"#440154\",\"#472777\",\"#1E9C89\",\"#440154\",\"#472777\",\"#1E9C89\",\"#440154\",\"#472777\",\"#1E9C89\",\"#440154\",\"#472777\",\"#1E9C89\",\"#440154\",\"#472777\",\"#B2DD2C\",\"#440154\",\"#FDE724\",\"#B2DD2C\",\"#440154\",\"#FDE724\",\"#B2DD2C\",\"#440154\",\"#FDE724\",\"#B2DD2C\",\"#440154\",\"#FDE724\",\"#440154\",\"#30678D\",\"#1E9C89\",\"#35B778\",\"#472777\",\"#1E9C89\",\"#1E9C89\",\"#440154\",\"#472777\",\"#1E9C89\",\"#440154\",\"#472777\",\"#1E9C89\",\"#440154\",\"#472777\",\"#1E9C89\",\"#440154\",\"#440154\",\"#30678D\",\"#472777\",\"#1E9C89\",\"#35B778\",\"#472777\",\"#1E9C89\",\"#440154\",\"#472777\",\"#440154\",\"#30678D\",\"#1E9C89\",\"#1E9C89\",\"#440154\",\"#472777\",\"#1E9C89\",\"#1E9C89\",\"#440154\",\"#440154\",\"#472777\",\"#472777\",\"#1E9C89\",\"#440154\",\"#472777\",\"#1E9C89\",\"#440154\",\"#472777\",\"#1E9C89\",\"#440154\",\"#472777\",\"#1E9C89\",\"#440154\",\"#472777\",\"#1E9C89\",\"#440154\",\"#472777\",\"#1E9C89\",\"#440154\",\"#472777\",\"#1E9C89\",\"#440154\",\"#472777\",\"#1E9C89\",\"#440154\",\"#472777\",\"#1E9C89\",\"#440154\",\"#472777\",\"#1E9C89\",\"#440154\",\"#472777\",\"#1E9C89\",\"#440154\",\"#472777\",\"#1E9C89\",\"#440154\",\"#472777\",\"#1E9C89\",\"#440154\",\"#472777\",\"#1E9C89\",\"#440154\",\"#472777\",\"#1E9C89\",\"#440154\",\"#472777\",\"#B2DD2C\",\"#440154\",\"#FDE724\",\"#B2DD2C\",\"#440154\",\"#FDE724\",\"#B2DD2C\",\"#440154\",\"#FDE724\",\"#440154\",\"#30678D\",\"#1E9C89\",\"#35B778\",\"#472777\",\"#1E9C89\",\"#1E9C89\",\"#440154\",\"#472777\",\"#1E9C89\",\"#440154\",\"#472777\",\"#1E9C89\",\"#440154\",\"#472777\",\"#1E9C89\",\"#440154\",\"#472777\",\"#1E9C89\",\"#440154\",\"#472777\",\"#1E9C89\",\"#440154\",\"#472777\",\"#1E9C89\",\"#440154\",\"#472777\",\"#B2DD2C\",\"#440154\",\"#FDE724\",\"#440154\",\"#30678D\",\"#1E9C89\",\"#1E9C89\",\"#440154\",\"#472777\",\"#1E9C89\",\"#440154\",\"#472777\",\"#1E9C89\",\"#440154\",\"#472777\",\"#1E9C89\",\"#440154\",\"#472777\",\"#1E9C89\",\"#440154\",\"#472777\",\"#1E9C89\",\"#440154\",\"#472777\",\"#1E9C89\",\"#440154\",\"#472777\",\"#1E9C89\",\"#440154\",\"#472777\",\"#440154\",\"#30678D\",\"#1E9C89\",\"#1E9C89\",\"#1E9C89\",\"#440154\",\"#440154\",\"#472777\",\"#472777\",\"#1E9C89\",\"#440154\",\"#472777\",\"#1E9C89\",\"#440154\",\"#472777\",\"#1E9C89\",\"#440154\",\"#472777\",\"#1E9C89\",\"#440154\",\"#472777\",\"#1E9C89\",\"#440154\",\"#472777\",\"#1E9C89\",\"#440154\",\"#472777\",\"#440154\",\"#30678D\",\"#1E9C89\",\"#1E9C89\",\"#1E9C89\",\"#35B778\",\"#35B778\",\"#440154\",\"#472777\",\"#472777\",\"#472777\",\"#1E9C89\",\"#440154\",\"#472777\",\"#1E9C89\",\"#440154\",\"#472777\",\"#1E9C89\",\"#440154\",\"#472777\",\"#1E9C89\",\"#440154\",\"#472777\",\"#1E9C89\",\"#440154\",\"#472777\",\"#440154\",\"#1E9C89\",\"#30678D\",\"#440154\",\"#472777\",\"#1E9C89\",\"#1E9C89\",\"#35B778\",\"#440154\",\"#472777\",\"#472777\",\"#1E9C89\",\"#440154\",\"#472777\",\"#1E9C89\",\"#440154\",\"#472777\",\"#1E9C89\",\"#440154\",\"#472777\",\"#1E9C89\",\"#440154\",\"#472777\",\"#1E9C89\",\"#440154\",\"#472777\",\"#1E9C89\",\"#440154\",\"#472777\",\"#1E9C89\",\"#440154\",\"#472777\"],\"function\":[\"getitem(to_dataframe(...), *)\",\"to_dataframe(vectorize(...), [*, *, *, ...], *)\",\"getitem(to_dataframe(...), *)\",\"to_dataframe(vectorize(...), [*, *, *, ...], *)\",\"_\",\"getitem(to_dataframe(...), *)\",\"_\",\"to_dataframe(vectorize(...), [*, *, *, ...], *)\",\"_\",\"getitem(to_dataframe(...), *)\",\"_\",\"to_dataframe(vectorize(...), [*, *, *, ...], *)\",\"_\",\"_\",\"getattr(apply_and_enforce(...), *)\",\"getattr(apply_and_enforce(...), *)\",\"_\",\"apply_and_enforce(*, [_], dict(...), *)\",\"apply_and_enforce(*, [_], dict(...), *)\",\"apply_and_enforce(*, [_], dict(...), *)\",\"apply_and_enforce(*, [_], dict(...), *)\",\"getitem(to_dataframe(...), *)\",\"getattr(apply_and_enforce(...), *)\",\"to_dataframe(vectorize(...), [*, *, *, ...], *)\",\"_\",\"apply_and_enforce(*, [_], dict(...), *)\",\"apply_and_enforce(*, [_], dict(...), *)\",\"getitem(to_dataframe(...), *)\",\"to_dataframe(vectorize(...), [*, *, *, ...], *)\",\"_\",\"_\",\"getitem(to_dataframe(...), *)\",\"_\",\"getattr(apply_and_enforce(...), *)\",\"to_dataframe(vectorize(...), [*, *, *, ...], *)\",\"apply_and_enforce(*, [_], dict(...), *)\",\"apply_and_enforce(*, [_], dict(...), *)\",\"getitem(to_dataframe(...), *)\",\"_\",\"to_dataframe(vectorize(...), [*, *, *, ...], *)\",\"_\",\"getattr(apply_and_enforce(...), *)\",\"apply_and_enforce(*, [_], dict(...), *)\",\"apply_and_enforce(*, [_], dict(...), *)\",\"getitem(to_dataframe(...), *)\",\"_\",\"to_dataframe(vectorize(...), [*, *, *, ...], *)\",\"_\",\"getattr(apply_and_enforce(...), *)\",\"apply_and_enforce(*, [_], dict(...), *)\",\"apply_and_enforce(*, [_], dict(...), *)\",\"getitem(to_dataframe(...), *)\",\"_\",\"to_dataframe(vectorize(...), [*, *, *, ...], *)\",\"_\",\"getattr(apply_and_enforce(...), *)\",\"apply_and_enforce(*, [_], dict(...), *)\",\"apply_and_enforce(*, [_], dict(...), *)\",\"getitem(to_dataframe(...), *)\",\"_\",\"to_dataframe(vectorize(...), [*, *, *, ...], *)\",\"_\",\"getattr(apply_and_enforce(...), *)\",\"apply_and_enforce(*, [_], dict(...), *)\",\"apply_and_enforce(*, [_], dict(...), *)\",\"getitem(to_dataframe(...), *)\",\"_\",\"to_dataframe(vectorize(...), [*, *, *, ...], *)\",\"_\",\"getattr(apply_and_enforce(...), *)\",\"apply_and_enforce(*, [_], dict(...), *)\",\"apply_and_enforce(*, [_], dict(...), *)\",\"_\",\"getattr(apply_and_enforce(...), *)\",\"apply_and_enforce(*, [_], dict(...), *)\",\"apply_and_enforce(*, [_], dict(...), *)\",\"_\",\"getattr(apply_and_enforce(...), *)\",\"apply_and_enforce(*, [_], dict(...), *)\",\"apply_and_enforce(*, [_], dict(...), *)\",\"_\",\"getattr(apply_and_enforce(...), *)\",\"apply_and_enforce(*, [_], dict(...), *)\",\"apply_and_enforce(*, [_], dict(...), *)\",\"getitem(to_dataframe(...), *)\",\"to_dataframe(vectorize(...), [*, *, *, ...], *)\",\"getitem(to_dataframe(...), *)\",\"to_dataframe(vectorize(...), [*, *, *, ...], *)\",\"_\",\"_\",\"getitem(to_dataframe(...), *)\",\"to_dataframe(vectorize(...), [*, *, *, ...], *)\",\"_\",\"getitem(to_dataframe(...), *)\",\"_\",\"to_dataframe(vectorize(...), [*, *, *, ...], *)\",\"_\",\"apply_and_enforce(*, [_, _], dict(...), *)\",\"_\",\"boundary_slice(_, *, *, *)\",\"_\",\"apply_and_enforce(*, [_, _], dict(...), *)\",\"boundary_slice(_, *, *, *)\",\"apply_and_enforce(*, [_, _], dict(...), *)\",\"_\",\"boundary_slice(_, *, *, *)\",\"_\",\"boundary_slice(_, *, *, *)\",\"boundary_slice(_, *, *, *)\",\"boundary_slice(_, *, *, *)\",\"apply_and_enforce(*, [_, _], dict(...), *)\",\"_\",\"_pd_to_hdf(*, *, [boundary_slice(...), *, *], *)\",\"_\",\"boundary_slice(_, *, *, *)\",\"boundary_slice(_, *, *, *)\",\"boundary_slice(_, *, *, *)\",\"_\",\"concat([_, _])\",\"boundary_slice(_, *, *, *)\",\"concat([_, _])\",\"_\",\"boundary_slice(_, *, *, *)\",\"boundary_slice(_, *, *, *)\",\"_\",\"_\",\"boundary_slice(_, *, *, *)\",\"boundary_slice(_, *, *, *)\",\"boundary_slice(_, *, *, *)\",\"_\",\"boundary_slice(_, *, *, *)\",\"_\",\"_\",\"boundary_slice(_, *, *, *)\",\"_\",\"boundary_slice(_, *, *, *)\",\"boundary_slice(_, *, *, *)\",\"_\",\"_\",\"boundary_slice(_, *, *, *)\",\"_\",\"_\",\"boundary_slice(_, *, *, *)\",\"_\",\"boundary_slice(_, *, *, *)\",\"boundary_slice(_, *, *, *)\",\"_link(_, _pd_to_hdf(...))\",\"_\",\"_\",\"_\",\"_link(_, _pd_to_hdf(...))\",\"_link(_, _pd_to_hdf(...))\",\"_link(_, _pd_to_hdf(...))\",\"_link(_, _pd_to_hdf(...))\",\"_link(_, _pd_to_hdf(...))\",\"_link(_, _pd_to_hdf(...))\",\"_link(_, _pd_to_hdf(...))\",\"_link(_, _pd_to_hdf(...))\",\"_link(_, _pd_to_hdf(...))\",\"_link(_, _pd_to_hdf(...))\",\"_link(_, _pd_to_hdf(...))\",\"_link(_, _pd_to_hdf(...))\",\"_link(_, _pd_to_hdf(...))\",\"_link(_, _pd_to_hdf(...))\",\"_link(_, _pd_to_hdf(...))\",\"_link(_, _pd_to_hdf(...))\",\"_link(_, _pd_to_hdf(...))\",\"_link(_, _pd_to_hdf(...))\",\"_link(_, _pd_to_hdf(...))\",\"boundary_slice(_, *, *, *)\",\"_\",\"_link(_, _pd_to_hdf(...))\",\"boundary_slice(_, *, *, *)\",\"_\",\"_link(_, _pd_to_hdf(...))\",\"boundary_slice(_, *, *, *)\",\"_\",\"_link(_, _pd_to_hdf(...))\",\"boundary_slice(_, *, *, *)\",\"_\",\"_link(_, _pd_to_hdf(...))\",\"boundary_slice(_, *, *, *)\",\"_\",\"_link(_, _pd_to_hdf(...))\",\"boundary_slice(_, *, *, *)\",\"_\",\"_link(_, _pd_to_hdf(...))\",\"boundary_slice(_, *, *, *)\",\"_\",\"_link(_, _pd_to_hdf(...))\",\"boundary_slice(_, *, *, *)\",\"_\",\"_link(_, _pd_to_hdf(...))\",\"boundary_slice(_, *, *, *)\",\"_\",\"_link(_, _pd_to_hdf(...))\",\"boundary_slice(_, *, *, *)\",\"_\",\"_link(_, _pd_to_hdf(...))\",\"boundary_slice(_, *, *, *)\",\"_\",\"_link(_, _pd_to_hdf(...))\",\"boundary_slice(_, *, *, *)\",\"_\",\"_link(_, _pd_to_hdf(...))\",\"getitem(to_dataframe(...), *)\",\"_\",\"to_dataframe(vectorize(...), [*, *, *, ...], *)\",\"getitem(to_dataframe(...), *)\",\"_\",\"to_dataframe(vectorize(...), [*, *, *, ...], *)\",\"getitem(to_dataframe(...), *)\",\"_\",\"to_dataframe(vectorize(...), [*, *, *, ...], *)\",\"getitem(to_dataframe(...), *)\",\"_\",\"to_dataframe(vectorize(...), [*, *, *, ...], *)\",\"_\",\"apply_and_enforce(*, [_, _], dict(...), *)\",\"boundary_slice(_, *, *, *)\",\"concat([_, _])\",\"_link(_, _pd_to_hdf(...))\",\"boundary_slice(_, *, *, *)\",\"boundary_slice(_, *, *, *)\",\"_\",\"_link(_, _pd_to_hdf(...))\",\"boundary_slice(_, *, *, *)\",\"_\",\"_link(_, _pd_to_hdf(...))\",\"boundary_slice(_, *, *, *)\",\"_\",\"_link(_, _pd_to_hdf(...))\",\"boundary_slice(_, *, *, *)\",\"_\",\"_\",\"apply_and_enforce(*, [_, _], dict(...), *)\",\"_link(_, _pd_to_hdf(...))\",\"boundary_slice(_, *, *, *)\",\"concat([_, _])\",\"_link(_, _pd_to_hdf(...))\",\"boundary_slice(_, *, *, *)\",\"_\",\"_link(_, _pd_to_hdf(...))\",\"_\",\"apply_and_enforce(*, [_, _], dict(...), *)\",\"boundary_slice(_, *, *, *)\",\"boundary_slice(_, *, *, *)\",\"_\",\"_link(_, _pd_to_hdf(...))\",\"boundary_slice(_, *, *, *)\",\"boundary_slice(_, *, *, *)\",\"_\",\"_\",\"_link(_, _pd_to_hdf(...))\",\"_link(_, _pd_to_hdf(...))\",\"boundary_slice(_, *, *, *)\",\"_\",\"_link(_, _pd_to_hdf(...))\",\"boundary_slice(_, *, *, *)\",\"_\",\"_link(_, _pd_to_hdf(...))\",\"boundary_slice(_, *, *, *)\",\"_\",\"_link(_, _pd_to_hdf(...))\",\"boundary_slice(_, *, *, *)\",\"_\",\"_link(_, _pd_to_hdf(...))\",\"boundary_slice(_, *, *, *)\",\"_\",\"_link(_, _pd_to_hdf(...))\",\"boundary_slice(_, *, *, *)\",\"_\",\"_link(_, _pd_to_hdf(...))\",\"boundary_slice(_, *, *, *)\",\"_\",\"_link(_, _pd_to_hdf(...))\",\"boundary_slice(_, *, *, *)\",\"_\",\"_link(_, _pd_to_hdf(...))\",\"boundary_slice(_, *, *, *)\",\"_\",\"_link(_, _pd_to_hdf(...))\",\"boundary_slice(_, *, *, *)\",\"_\",\"_link(_, _pd_to_hdf(...))\",\"boundary_slice(_, *, *, *)\",\"_\",\"_link(_, _pd_to_hdf(...))\",\"boundary_slice(_, *, *, *)\",\"_\",\"_link(_, _pd_to_hdf(...))\",\"boundary_slice(_, *, *, *)\",\"_\",\"_link(_, _pd_to_hdf(...))\",\"boundary_slice(_, *, *, *)\",\"_\",\"_link(_, _pd_to_hdf(...))\",\"boundary_slice(_, *, *, *)\",\"_\",\"_link(_, _pd_to_hdf(...))\",\"getitem(to_dataframe(...), *)\",\"_\",\"to_dataframe(vectorize(...), [*, *, *, ...], *)\",\"getitem(to_dataframe(...), *)\",\"_\",\"to_dataframe(vectorize(...), [*, *, *, ...], *)\",\"getitem(to_dataframe(...), *)\",\"_\",\"to_dataframe(vectorize(...), [*, *, *, ...], *)\",\"_\",\"apply_and_enforce(*, [_, _], dict(...), *)\",\"boundary_slice(_, *, *, *)\",\"concat([_, _])\",\"_link(_, _pd_to_hdf(...))\",\"boundary_slice(_, *, *, *)\",\"boundary_slice(_, *, *, *)\",\"_\",\"_link(_, _pd_to_hdf(...))\",\"boundary_slice(_, *, *, *)\",\"_\",\"_link(_, _pd_to_hdf(...))\",\"boundary_slice(_, *, *, *)\",\"_\",\"_link(_, _pd_to_hdf(...))\",\"boundary_slice(_, *, *, *)\",\"_\",\"_link(_, _pd_to_hdf(...))\",\"boundary_slice(_, *, *, *)\",\"_\",\"_link(_, _pd_to_hdf(...))\",\"boundary_slice(_, *, *, *)\",\"_\",\"_link(_, _pd_to_hdf(...))\",\"boundary_slice(_, *, *, *)\",\"_\",\"_link(_, _pd_to_hdf(...))\",\"getitem(to_dataframe(...), *)\",\"_\",\"to_dataframe(vectorize(...), [*, *, *, ...], *)\",\"_\",\"apply_and_enforce(*, [_, _], dict(...), *)\",\"boundary_slice(_, *, *, *)\",\"boundary_slice(_, *, *, *)\",\"_\",\"_link(_, _pd_to_hdf(...))\",\"boundary_slice(_, *, *, *)\",\"_\",\"_link(_, _pd_to_hdf(...))\",\"boundary_slice(_, *, *, *)\",\"_\",\"_link(_, _pd_to_hdf(...))\",\"boundary_slice(_, *, *, *)\",\"_\",\"_link(_, _pd_to_hdf(...))\",\"boundary_slice(_, *, *, *)\",\"_\",\"_link(_, _pd_to_hdf(...))\",\"boundary_slice(_, *, *, *)\",\"_\",\"_link(_, _pd_to_hdf(...))\",\"boundary_slice(_, *, *, *)\",\"_\",\"_link(_, _pd_to_hdf(...))\",\"boundary_slice(_, *, *, *)\",\"_\",\"_link(_, _pd_to_hdf(...))\",\"_\",\"apply_and_enforce(*, [_, _], dict(...), *)\",\"boundary_slice(_, *, *, *)\",\"boundary_slice(_, *, *, *)\",\"boundary_slice(_, *, *, *)\",\"_\",\"_\",\"_link(_, _pd_to_hdf(...))\",\"_link(_, _pd_to_hdf(...))\",\"boundary_slice(_, *, *, *)\",\"_\",\"_link(_, _pd_to_hdf(...))\",\"boundary_slice(_, *, *, *)\",\"_\",\"_link(_, _pd_to_hdf(...))\",\"boundary_slice(_, *, *, *)\",\"_\",\"_link(_, _pd_to_hdf(...))\",\"boundary_slice(_, *, *, *)\",\"_\",\"_link(_, _pd_to_hdf(...))\",\"boundary_slice(_, *, *, *)\",\"_\",\"_link(_, _pd_to_hdf(...))\",\"boundary_slice(_, *, *, *)\",\"_\",\"_link(_, _pd_to_hdf(...))\",\"_\",\"apply_and_enforce(*, [_, _], dict(...), *)\",\"boundary_slice(_, *, *, *)\",\"boundary_slice(_, *, *, *)\",\"boundary_slice(_, *, *, *)\",\"concat([_, _])\",\"concat([_, _])\",\"_\",\"_link(_, _pd_to_hdf(...))\",\"_link(_, _pd_to_hdf(...))\",\"_link(_, _pd_to_hdf(...))\",\"boundary_slice(_, *, *, *)\",\"_\",\"_link(_, _pd_to_hdf(...))\",\"boundary_slice(_, *, *, *)\",\"_\",\"_link(_, _pd_to_hdf(...))\",\"boundary_slice(_, *, *, *)\",\"_\",\"_link(_, _pd_to_hdf(...))\",\"boundary_slice(_, *, *, *)\",\"_\",\"_link(_, _pd_to_hdf(...))\",\"boundary_slice(_, *, *, *)\",\"_\",\"_link(_, _pd_to_hdf(...))\",\"_\",\"boundary_slice(_, *, *, *)\",\"apply_and_enforce(*, [_, _], dict(...), *)\",\"_\",\"_link(_, _pd_to_hdf(...))\",\"boundary_slice(_, *, *, *)\",\"boundary_slice(_, *, *, *)\",\"concat([_, _])\",\"_\",\"_link(_, _pd_to_hdf(...))\",\"_link(_, _pd_to_hdf(...))\",\"boundary_slice(_, *, *, *)\",\"_\",\"_link(_, _pd_to_hdf(...))\",\"boundary_slice(_, *, *, *)\",\"_\",\"_link(_, _pd_to_hdf(...))\",\"boundary_slice(_, *, *, *)\",\"_\",\"_link(_, _pd_to_hdf(...))\",\"boundary_slice(_, *, *, *)\",\"_\",\"_link(_, _pd_to_hdf(...))\",\"boundary_slice(_, *, *, *)\",\"_\",\"_link(_, _pd_to_hdf(...))\",\"boundary_slice(_, *, *, *)\",\"_\",\"_link(_, _pd_to_hdf(...))\",\"boundary_slice(_, *, *, *)\",\"_\",\"_link(_, _pd_to_hdf(...))\"],\"key\":[\"('pluck-to_dataframe-getitem-4ad0e035bab59cc691726b95dfac6a0d', 0)\",\"('bag-from-delayed-decode-map-loads-read-block-map-partitions-vectorize-map-partitions-vectorize-to_dataframe-6c9925f70e4ef8660324151dcb028577', 0)\",\"('pluck-to_dataframe-getitem-4ad0e035bab59cc691726b95dfac6a0d', 1)\",\"('bag-from-delayed-decode-map-loads-read-block-map-partitions-vectorize-map-partitions-vectorize-to_dataframe-6c9925f70e4ef8660324151dcb028577', 1)\",\"('getitem-4ad0e035bab59cc691726b95dfac6a0d', 0)\",\"('pluck-to_dataframe-getitem-4ad0e035bab59cc691726b95dfac6a0d', 2)\",\"('getitem-4ad0e035bab59cc691726b95dfac6a0d', 1)\",\"('bag-from-delayed-decode-map-loads-read-block-map-partitions-vectorize-map-partitions-vectorize-to_dataframe-6c9925f70e4ef8660324151dcb028577', 2)\",\"('getitem-4ad0e035bab59cc691726b95dfac6a0d', 2)\",\"('pluck-to_dataframe-getitem-4ad0e035bab59cc691726b95dfac6a0d', 3)\",\"('getitem-4ad0e035bab59cc691726b95dfac6a0d', 3)\",\"('bag-from-delayed-decode-map-loads-read-block-map-partitions-vectorize-map-partitions-vectorize-to_dataframe-6c9925f70e4ef8660324151dcb028577', 3)\",\"('to_dataframe-6c9925f70e4ef8660324151dcb028577', 2)\",\"('to_dataframe-6c9925f70e4ef8660324151dcb028577', 3)\",\"('set_index-2d56c5420fef64febfc582d7a0a8b0b7-index', 2)\",\"('set_index-2d56c5420fef64febfc582d7a0a8b0b7-index', 3)\",\"('to_dataframe-6c9925f70e4ef8660324151dcb028577', 0)\",\"('max-234d8dd21432cd739964e363eff50ae9', 2)\",\"('max-234d8dd21432cd739964e363eff50ae9', 3)\",\"('min-b20aae5a89c87d1fd510413b08d1596e', 3)\",\"('min-b20aae5a89c87d1fd510413b08d1596e', 2)\",\"('pluck-to_dataframe-getitem-4ad0e035bab59cc691726b95dfac6a0d', 4)\",\"('set_index-2d56c5420fef64febfc582d7a0a8b0b7-index', 0)\",\"('bag-from-delayed-decode-map-loads-read-block-map-partitions-vectorize-map-partitions-vectorize-to_dataframe-6c9925f70e4ef8660324151dcb028577', 4)\",\"('getitem-4ad0e035bab59cc691726b95dfac6a0d', 4)\",\"('max-234d8dd21432cd739964e363eff50ae9', 0)\",\"('min-b20aae5a89c87d1fd510413b08d1596e', 0)\",\"('pluck-to_dataframe-getitem-4ad0e035bab59cc691726b95dfac6a0d', 5)\",\"('bag-from-delayed-decode-map-loads-read-block-map-partitions-vectorize-map-partitions-vectorize-to_dataframe-6c9925f70e4ef8660324151dcb028577', 5)\",\"('to_dataframe-6c9925f70e4ef8660324151dcb028577', 1)\",\"('getitem-4ad0e035bab59cc691726b95dfac6a0d', 5)\",\"('pluck-to_dataframe-getitem-4ad0e035bab59cc691726b95dfac6a0d', 6)\",\"('getitem-4ad0e035bab59cc691726b95dfac6a0d', 6)\",\"('set_index-2d56c5420fef64febfc582d7a0a8b0b7-index', 1)\",\"('bag-from-delayed-decode-map-loads-read-block-map-partitions-vectorize-map-partitions-vectorize-to_dataframe-6c9925f70e4ef8660324151dcb028577', 6)\",\"('max-234d8dd21432cd739964e363eff50ae9', 1)\",\"('min-b20aae5a89c87d1fd510413b08d1596e', 1)\",\"('pluck-to_dataframe-getitem-4ad0e035bab59cc691726b95dfac6a0d', 7)\",\"('getitem-4ad0e035bab59cc691726b95dfac6a0d', 7)\",\"('bag-from-delayed-decode-map-loads-read-block-map-partitions-vectorize-map-partitions-vectorize-to_dataframe-6c9925f70e4ef8660324151dcb028577', 7)\",\"('to_dataframe-6c9925f70e4ef8660324151dcb028577', 6)\",\"('set_index-2d56c5420fef64febfc582d7a0a8b0b7-index', 6)\",\"('max-234d8dd21432cd739964e363eff50ae9', 6)\",\"('min-b20aae5a89c87d1fd510413b08d1596e', 6)\",\"('pluck-to_dataframe-getitem-4ad0e035bab59cc691726b95dfac6a0d', 8)\",\"('getitem-4ad0e035bab59cc691726b95dfac6a0d', 8)\",\"('bag-from-delayed-decode-map-loads-read-block-map-partitions-vectorize-map-partitions-vectorize-to_dataframe-6c9925f70e4ef8660324151dcb028577', 8)\",\"('to_dataframe-6c9925f70e4ef8660324151dcb028577', 4)\",\"('set_index-2d56c5420fef64febfc582d7a0a8b0b7-index', 4)\",\"('max-234d8dd21432cd739964e363eff50ae9', 4)\",\"('min-b20aae5a89c87d1fd510413b08d1596e', 4)\",\"('pluck-to_dataframe-getitem-4ad0e035bab59cc691726b95dfac6a0d', 9)\",\"('getitem-4ad0e035bab59cc691726b95dfac6a0d', 9)\",\"('bag-from-delayed-decode-map-loads-read-block-map-partitions-vectorize-map-partitions-vectorize-to_dataframe-6c9925f70e4ef8660324151dcb028577', 9)\",\"('to_dataframe-6c9925f70e4ef8660324151dcb028577', 5)\",\"('set_index-2d56c5420fef64febfc582d7a0a8b0b7-index', 5)\",\"('max-234d8dd21432cd739964e363eff50ae9', 5)\",\"('min-b20aae5a89c87d1fd510413b08d1596e', 5)\",\"('pluck-to_dataframe-getitem-4ad0e035bab59cc691726b95dfac6a0d', 10)\",\"('getitem-4ad0e035bab59cc691726b95dfac6a0d', 10)\",\"('bag-from-delayed-decode-map-loads-read-block-map-partitions-vectorize-map-partitions-vectorize-to_dataframe-6c9925f70e4ef8660324151dcb028577', 10)\",\"('to_dataframe-6c9925f70e4ef8660324151dcb028577', 7)\",\"('set_index-2d56c5420fef64febfc582d7a0a8b0b7-index', 7)\",\"('max-234d8dd21432cd739964e363eff50ae9', 7)\",\"('min-b20aae5a89c87d1fd510413b08d1596e', 7)\",\"('pluck-to_dataframe-getitem-4ad0e035bab59cc691726b95dfac6a0d', 11)\",\"('getitem-4ad0e035bab59cc691726b95dfac6a0d', 11)\",\"('bag-from-delayed-decode-map-loads-read-block-map-partitions-vectorize-map-partitions-vectorize-to_dataframe-6c9925f70e4ef8660324151dcb028577', 11)\",\"('to_dataframe-6c9925f70e4ef8660324151dcb028577', 11)\",\"('set_index-2d56c5420fef64febfc582d7a0a8b0b7-index', 11)\",\"('max-234d8dd21432cd739964e363eff50ae9', 11)\",\"('min-b20aae5a89c87d1fd510413b08d1596e', 11)\",\"('to_dataframe-6c9925f70e4ef8660324151dcb028577', 9)\",\"('set_index-2d56c5420fef64febfc582d7a0a8b0b7-index', 9)\",\"('max-234d8dd21432cd739964e363eff50ae9', 9)\",\"('min-b20aae5a89c87d1fd510413b08d1596e', 9)\",\"('to_dataframe-6c9925f70e4ef8660324151dcb028577', 10)\",\"('set_index-2d56c5420fef64febfc582d7a0a8b0b7-index', 10)\",\"('max-234d8dd21432cd739964e363eff50ae9', 10)\",\"('min-b20aae5a89c87d1fd510413b08d1596e', 10)\",\"('to_dataframe-6c9925f70e4ef8660324151dcb028577', 8)\",\"('set_index-2d56c5420fef64febfc582d7a0a8b0b7-index', 8)\",\"('max-234d8dd21432cd739964e363eff50ae9', 8)\",\"('min-b20aae5a89c87d1fd510413b08d1596e', 8)\",\"('pluck-to_dataframe-getitem-4ad0e035bab59cc691726b95dfac6a0d', 0)\",\"('bag-from-delayed-decode-map-loads-read-block-map-partitions-vectorize-map-partitions-vectorize-to_dataframe-6c9925f70e4ef8660324151dcb028577', 0)\",\"('pluck-to_dataframe-getitem-4ad0e035bab59cc691726b95dfac6a0d', 1)\",\"('bag-from-delayed-decode-map-loads-read-block-map-partitions-vectorize-map-partitions-vectorize-to_dataframe-6c9925f70e4ef8660324151dcb028577', 1)\",\"('getitem-4ad0e035bab59cc691726b95dfac6a0d', 0)\",\"('getitem-4ad0e035bab59cc691726b95dfac6a0d', 1)\",\"('pluck-to_dataframe-getitem-4ad0e035bab59cc691726b95dfac6a0d', 2)\",\"('bag-from-delayed-decode-map-loads-read-block-map-partitions-vectorize-map-partitions-vectorize-to_dataframe-6c9925f70e4ef8660324151dcb028577', 2)\",\"('getitem-4ad0e035bab59cc691726b95dfac6a0d', 2)\",\"('pluck-to_dataframe-getitem-4ad0e035bab59cc691726b95dfac6a0d', 3)\",\"('getitem-4ad0e035bab59cc691726b95dfac6a0d', 3)\",\"('bag-from-delayed-decode-map-loads-read-block-map-partitions-vectorize-map-partitions-vectorize-to_dataframe-6c9925f70e4ef8660324151dcb028577', 3)\",\"('to_dataframe-6c9925f70e4ef8660324151dcb028577', 3)\",\"('set_index-2d56c5420fef64febfc582d7a0a8b0b7', 3)\",\"('to_dataframe-6c9925f70e4ef8660324151dcb028577', 2)\",\"('repartition-split-86e07fde00bbd64fb86725c03da49c67', 35)\",\"('to_dataframe-6c9925f70e4ef8660324151dcb028577', 0)\",\"('set_index-2d56c5420fef64febfc582d7a0a8b0b7', 2)\",\"('repartition-split-repartition-merge-86e07fde00bbd64fb86725c03da49c67', 25)\",\"('set_index-2d56c5420fef64febfc582d7a0a8b0b7', 0)\",\"('repartition-merge-86e07fde00bbd64fb86725c03da49c67', 25)\",\"('repartition-split-86e07fde00bbd64fb86725c03da49c67', 18)\",\"('to_dataframe-6c9925f70e4ef8660324151dcb028577', 1)\",\"('repartition-split-repartition-merge-86e07fde00bbd64fb86725c03da49c67', 17)\",\"('repartition-split-86e07fde00bbd64fb86725c03da49c67', 8)\",\"('repartition-split-repartition-merge-86e07fde00bbd64fb86725c03da49c67', 1)\",\"('set_index-2d56c5420fef64febfc582d7a0a8b0b7', 1)\",\"('repartition-merge-86e07fde00bbd64fb86725c03da49c67', 17)\",\"('repartition-merge-repartition-split-to-hdf-793a04304fca11e8989372000083dce0', 0)\",\"('repartition-merge-86e07fde00bbd64fb86725c03da49c67', 1)\",\"('repartition-split-repartition-merge-86e07fde00bbd64fb86725c03da49c67', 2)\",\"('repartition-split-86e07fde00bbd64fb86725c03da49c67', 9)\",\"('repartition-split-86e07fde00bbd64fb86725c03da49c67', 17)\",\"('repartition-merge-86e07fde00bbd64fb86725c03da49c67', 2)\",\"('repartition-merge-86e07fde00bbd64fb86725c03da49c67', 8)\",\"('repartition-split-repartition-merge-86e07fde00bbd64fb86725c03da49c67', 9)\",\"('repartition-merge-86e07fde00bbd64fb86725c03da49c67', 16)\",\"('repartition-merge-86e07fde00bbd64fb86725c03da49c67', 9)\",\"('repartition-split-repartition-merge-86e07fde00bbd64fb86725c03da49c67', 10)\",\"('repartition-split-repartition-merge-86e07fde00bbd64fb86725c03da49c67', 11)\",\"('repartition-merge-86e07fde00bbd64fb86725c03da49c67', 10)\",\"('repartition-merge-86e07fde00bbd64fb86725c03da49c67', 11)\",\"('repartition-split-repartition-merge-86e07fde00bbd64fb86725c03da49c67', 12)\",\"('repartition-split-repartition-merge-86e07fde00bbd64fb86725c03da49c67', 13)\",\"('repartition-split-repartition-merge-86e07fde00bbd64fb86725c03da49c67', 14)\",\"('repartition-merge-86e07fde00bbd64fb86725c03da49c67', 12)\",\"('repartition-split-repartition-merge-86e07fde00bbd64fb86725c03da49c67', 15)\",\"('repartition-merge-86e07fde00bbd64fb86725c03da49c67', 13)\",\"('repartition-merge-86e07fde00bbd64fb86725c03da49c67', 14)\",\"('repartition-split-repartition-merge-86e07fde00bbd64fb86725c03da49c67', 3)\",\"('repartition-merge-86e07fde00bbd64fb86725c03da49c67', 15)\",\"('repartition-split-repartition-merge-86e07fde00bbd64fb86725c03da49c67', 4)\",\"('repartition-split-repartition-merge-86e07fde00bbd64fb86725c03da49c67', 5)\",\"('repartition-merge-86e07fde00bbd64fb86725c03da49c67', 3)\",\"('repartition-merge-86e07fde00bbd64fb86725c03da49c67', 4)\",\"('repartition-split-repartition-merge-86e07fde00bbd64fb86725c03da49c67', 6)\",\"('repartition-merge-86e07fde00bbd64fb86725c03da49c67', 5)\",\"('to-hdf-793a04304fca11e8989372000083dce0', 0)\",\"('repartition-split-repartition-merge-86e07fde00bbd64fb86725c03da49c67', 7)\",\"('repartition-merge-86e07fde00bbd64fb86725c03da49c67', 6)\",\"('repartition-split-repartition-merge-86e07fde00bbd64fb86725c03da49c67', 18)\",\"('repartition-split-repartition-merge-86e07fde00bbd64fb86725c03da49c67', 19)\",\"('to-hdf-793a04304fca11e8989372000083dce0', 1)\",\"('repartition-merge-86e07fde00bbd64fb86725c03da49c67', 7)\",\"('repartition-merge-86e07fde00bbd64fb86725c03da49c67', 19)\",\"('repartition-merge-86e07fde00bbd64fb86725c03da49c67', 18)\",\"('to-hdf-793a04304fca11e8989372000083dce0', 7)\",\"('to-hdf-793a04304fca11e8989372000083dce0', 19)\",\"('to-hdf-793a04304fca11e8989372000083dce0', 18)\",\"('to-hdf-793a04304fca11e8989372000083dce0', 2)\",\"('to-hdf-793a04304fca11e8989372000083dce0', 3)\",\"('to-hdf-793a04304fca11e8989372000083dce0', 4)\",\"('to-hdf-793a04304fca11e8989372000083dce0', 5)\",\"('to-hdf-793a04304fca11e8989372000083dce0', 6)\",\"('to-hdf-793a04304fca11e8989372000083dce0', 8)\",\"('to-hdf-793a04304fca11e8989372000083dce0', 16)\",\"('to-hdf-793a04304fca11e8989372000083dce0', 17)\",\"('to-hdf-793a04304fca11e8989372000083dce0', 9)\",\"('to-hdf-793a04304fca11e8989372000083dce0', 10)\",\"('to-hdf-793a04304fca11e8989372000083dce0', 11)\",\"('to-hdf-793a04304fca11e8989372000083dce0', 12)\",\"('to-hdf-793a04304fca11e8989372000083dce0', 13)\",\"('to-hdf-793a04304fca11e8989372000083dce0', 14)\",\"('to-hdf-793a04304fca11e8989372000083dce0', 15)\",\"('to-hdf-793a04304fca11e8989372000083dce0', 25)\",\"('repartition-split-repartition-merge-86e07fde00bbd64fb86725c03da49c67', 20)\",\"('repartition-merge-86e07fde00bbd64fb86725c03da49c67', 20)\",\"('to-hdf-793a04304fca11e8989372000083dce0', 20)\",\"('repartition-split-repartition-merge-86e07fde00bbd64fb86725c03da49c67', 21)\",\"('repartition-merge-86e07fde00bbd64fb86725c03da49c67', 21)\",\"('to-hdf-793a04304fca11e8989372000083dce0', 21)\",\"('repartition-split-repartition-merge-86e07fde00bbd64fb86725c03da49c67', 22)\",\"('repartition-merge-86e07fde00bbd64fb86725c03da49c67', 22)\",\"('to-hdf-793a04304fca11e8989372000083dce0', 22)\",\"('repartition-split-repartition-merge-86e07fde00bbd64fb86725c03da49c67', 23)\",\"('repartition-merge-86e07fde00bbd64fb86725c03da49c67', 23)\",\"('to-hdf-793a04304fca11e8989372000083dce0', 23)\",\"('repartition-split-repartition-merge-86e07fde00bbd64fb86725c03da49c67', 24)\",\"('repartition-merge-86e07fde00bbd64fb86725c03da49c67', 24)\",\"('to-hdf-793a04304fca11e8989372000083dce0', 24)\",\"('repartition-split-repartition-merge-86e07fde00bbd64fb86725c03da49c67', 26)\",\"('repartition-merge-86e07fde00bbd64fb86725c03da49c67', 26)\",\"('to-hdf-793a04304fca11e8989372000083dce0', 26)\",\"('repartition-split-repartition-merge-86e07fde00bbd64fb86725c03da49c67', 27)\",\"('repartition-merge-86e07fde00bbd64fb86725c03da49c67', 27)\",\"('to-hdf-793a04304fca11e8989372000083dce0', 27)\",\"('repartition-split-repartition-merge-86e07fde00bbd64fb86725c03da49c67', 28)\",\"('repartition-merge-86e07fde00bbd64fb86725c03da49c67', 28)\",\"('to-hdf-793a04304fca11e8989372000083dce0', 28)\",\"('repartition-split-repartition-merge-86e07fde00bbd64fb86725c03da49c67', 29)\",\"('repartition-merge-86e07fde00bbd64fb86725c03da49c67', 29)\",\"('to-hdf-793a04304fca11e8989372000083dce0', 29)\",\"('repartition-split-repartition-merge-86e07fde00bbd64fb86725c03da49c67', 30)\",\"('repartition-merge-86e07fde00bbd64fb86725c03da49c67', 30)\",\"('to-hdf-793a04304fca11e8989372000083dce0', 30)\",\"('repartition-split-repartition-merge-86e07fde00bbd64fb86725c03da49c67', 31)\",\"('repartition-merge-86e07fde00bbd64fb86725c03da49c67', 31)\",\"('to-hdf-793a04304fca11e8989372000083dce0', 31)\",\"('repartition-split-repartition-merge-86e07fde00bbd64fb86725c03da49c67', 32)\",\"('repartition-merge-86e07fde00bbd64fb86725c03da49c67', 32)\",\"('to-hdf-793a04304fca11e8989372000083dce0', 32)\",\"('pluck-to_dataframe-getitem-4ad0e035bab59cc691726b95dfac6a0d', 4)\",\"('getitem-4ad0e035bab59cc691726b95dfac6a0d', 4)\",\"('bag-from-delayed-decode-map-loads-read-block-map-partitions-vectorize-map-partitions-vectorize-to_dataframe-6c9925f70e4ef8660324151dcb028577', 4)\",\"('pluck-to_dataframe-getitem-4ad0e035bab59cc691726b95dfac6a0d', 5)\",\"('getitem-4ad0e035bab59cc691726b95dfac6a0d', 5)\",\"('bag-from-delayed-decode-map-loads-read-block-map-partitions-vectorize-map-partitions-vectorize-to_dataframe-6c9925f70e4ef8660324151dcb028577', 5)\",\"('pluck-to_dataframe-getitem-4ad0e035bab59cc691726b95dfac6a0d', 6)\",\"('getitem-4ad0e035bab59cc691726b95dfac6a0d', 6)\",\"('bag-from-delayed-decode-map-loads-read-block-map-partitions-vectorize-map-partitions-vectorize-to_dataframe-6c9925f70e4ef8660324151dcb028577', 6)\",\"('pluck-to_dataframe-getitem-4ad0e035bab59cc691726b95dfac6a0d', 7)\",\"('getitem-4ad0e035bab59cc691726b95dfac6a0d', 7)\",\"('bag-from-delayed-decode-map-loads-read-block-map-partitions-vectorize-map-partitions-vectorize-to_dataframe-6c9925f70e4ef8660324151dcb028577', 7)\",\"('to_dataframe-6c9925f70e4ef8660324151dcb028577', 4)\",\"('set_index-2d56c5420fef64febfc582d7a0a8b0b7', 4)\",\"('repartition-split-86e07fde00bbd64fb86725c03da49c67', 36)\",\"('repartition-merge-86e07fde00bbd64fb86725c03da49c67', 33)\",\"('to-hdf-793a04304fca11e8989372000083dce0', 33)\",\"('repartition-split-86e07fde00bbd64fb86725c03da49c67', 44)\",\"('repartition-split-repartition-merge-86e07fde00bbd64fb86725c03da49c67', 34)\",\"('repartition-merge-86e07fde00bbd64fb86725c03da49c67', 34)\",\"('to-hdf-793a04304fca11e8989372000083dce0', 34)\",\"('repartition-split-repartition-merge-86e07fde00bbd64fb86725c03da49c67', 35)\",\"('repartition-merge-86e07fde00bbd64fb86725c03da49c67', 35)\",\"('to-hdf-793a04304fca11e8989372000083dce0', 35)\",\"('repartition-split-repartition-merge-86e07fde00bbd64fb86725c03da49c67', 36)\",\"('repartition-merge-86e07fde00bbd64fb86725c03da49c67', 36)\",\"('to-hdf-793a04304fca11e8989372000083dce0', 36)\",\"('repartition-split-repartition-merge-86e07fde00bbd64fb86725c03da49c67', 37)\",\"('to_dataframe-6c9925f70e4ef8660324151dcb028577', 5)\",\"('repartition-merge-86e07fde00bbd64fb86725c03da49c67', 37)\",\"('set_index-2d56c5420fef64febfc582d7a0a8b0b7', 5)\",\"('to-hdf-793a04304fca11e8989372000083dce0', 37)\",\"('repartition-split-86e07fde00bbd64fb86725c03da49c67', 45)\",\"('repartition-merge-86e07fde00bbd64fb86725c03da49c67', 41)\",\"('to-hdf-793a04304fca11e8989372000083dce0', 41)\",\"('repartition-split-repartition-merge-86e07fde00bbd64fb86725c03da49c67', 42)\",\"('repartition-merge-86e07fde00bbd64fb86725c03da49c67', 42)\",\"('to-hdf-793a04304fca11e8989372000083dce0', 42)\",\"('to_dataframe-6c9925f70e4ef8660324151dcb028577', 6)\",\"('set_index-2d56c5420fef64febfc582d7a0a8b0b7', 6)\",\"('repartition-split-repartition-merge-86e07fde00bbd64fb86725c03da49c67', 43)\",\"('repartition-split-86e07fde00bbd64fb86725c03da49c67', 62)\",\"('repartition-merge-86e07fde00bbd64fb86725c03da49c67', 43)\",\"('to-hdf-793a04304fca11e8989372000083dce0', 43)\",\"('repartition-split-repartition-merge-86e07fde00bbd64fb86725c03da49c67', 50)\",\"('repartition-split-repartition-merge-86e07fde00bbd64fb86725c03da49c67', 51)\",\"('repartition-merge-86e07fde00bbd64fb86725c03da49c67', 50)\",\"('repartition-merge-86e07fde00bbd64fb86725c03da49c67', 51)\",\"('to-hdf-793a04304fca11e8989372000083dce0', 50)\",\"('to-hdf-793a04304fca11e8989372000083dce0', 51)\",\"('repartition-split-repartition-merge-86e07fde00bbd64fb86725c03da49c67', 52)\",\"('repartition-merge-86e07fde00bbd64fb86725c03da49c67', 52)\",\"('to-hdf-793a04304fca11e8989372000083dce0', 52)\",\"('repartition-split-repartition-merge-86e07fde00bbd64fb86725c03da49c67', 53)\",\"('repartition-merge-86e07fde00bbd64fb86725c03da49c67', 53)\",\"('to-hdf-793a04304fca11e8989372000083dce0', 53)\",\"('repartition-split-repartition-merge-86e07fde00bbd64fb86725c03da49c67', 54)\",\"('repartition-merge-86e07fde00bbd64fb86725c03da49c67', 54)\",\"('to-hdf-793a04304fca11e8989372000083dce0', 54)\",\"('repartition-split-repartition-merge-86e07fde00bbd64fb86725c03da49c67', 55)\",\"('repartition-merge-86e07fde00bbd64fb86725c03da49c67', 55)\",\"('to-hdf-793a04304fca11e8989372000083dce0', 55)\",\"('repartition-split-repartition-merge-86e07fde00bbd64fb86725c03da49c67', 56)\",\"('repartition-merge-86e07fde00bbd64fb86725c03da49c67', 56)\",\"('to-hdf-793a04304fca11e8989372000083dce0', 56)\",\"('repartition-split-repartition-merge-86e07fde00bbd64fb86725c03da49c67', 57)\",\"('repartition-merge-86e07fde00bbd64fb86725c03da49c67', 57)\",\"('to-hdf-793a04304fca11e8989372000083dce0', 57)\",\"('repartition-split-repartition-merge-86e07fde00bbd64fb86725c03da49c67', 44)\",\"('repartition-merge-86e07fde00bbd64fb86725c03da49c67', 44)\",\"('to-hdf-793a04304fca11e8989372000083dce0', 44)\",\"('repartition-split-repartition-merge-86e07fde00bbd64fb86725c03da49c67', 45)\",\"('repartition-merge-86e07fde00bbd64fb86725c03da49c67', 45)\",\"('to-hdf-793a04304fca11e8989372000083dce0', 45)\",\"('repartition-split-repartition-merge-86e07fde00bbd64fb86725c03da49c67', 46)\",\"('repartition-merge-86e07fde00bbd64fb86725c03da49c67', 46)\",\"('to-hdf-793a04304fca11e8989372000083dce0', 46)\",\"('repartition-split-repartition-merge-86e07fde00bbd64fb86725c03da49c67', 47)\",\"('repartition-merge-86e07fde00bbd64fb86725c03da49c67', 47)\",\"('to-hdf-793a04304fca11e8989372000083dce0', 47)\",\"('repartition-split-repartition-merge-86e07fde00bbd64fb86725c03da49c67', 48)\",\"('repartition-merge-86e07fde00bbd64fb86725c03da49c67', 48)\",\"('to-hdf-793a04304fca11e8989372000083dce0', 48)\",\"('repartition-split-repartition-merge-86e07fde00bbd64fb86725c03da49c67', 49)\",\"('repartition-merge-86e07fde00bbd64fb86725c03da49c67', 49)\",\"('to-hdf-793a04304fca11e8989372000083dce0', 49)\",\"('repartition-split-repartition-merge-86e07fde00bbd64fb86725c03da49c67', 38)\",\"('repartition-merge-86e07fde00bbd64fb86725c03da49c67', 38)\",\"('to-hdf-793a04304fca11e8989372000083dce0', 38)\",\"('repartition-split-repartition-merge-86e07fde00bbd64fb86725c03da49c67', 39)\",\"('repartition-merge-86e07fde00bbd64fb86725c03da49c67', 39)\",\"('to-hdf-793a04304fca11e8989372000083dce0', 39)\",\"('repartition-split-repartition-merge-86e07fde00bbd64fb86725c03da49c67', 40)\",\"('repartition-merge-86e07fde00bbd64fb86725c03da49c67', 40)\",\"('to-hdf-793a04304fca11e8989372000083dce0', 40)\",\"('pluck-to_dataframe-getitem-4ad0e035bab59cc691726b95dfac6a0d', 8)\",\"('getitem-4ad0e035bab59cc691726b95dfac6a0d', 8)\",\"('bag-from-delayed-decode-map-loads-read-block-map-partitions-vectorize-map-partitions-vectorize-to_dataframe-6c9925f70e4ef8660324151dcb028577', 8)\",\"('pluck-to_dataframe-getitem-4ad0e035bab59cc691726b95dfac6a0d', 9)\",\"('getitem-4ad0e035bab59cc691726b95dfac6a0d', 9)\",\"('bag-from-delayed-decode-map-loads-read-block-map-partitions-vectorize-map-partitions-vectorize-to_dataframe-6c9925f70e4ef8660324151dcb028577', 9)\",\"('pluck-to_dataframe-getitem-4ad0e035bab59cc691726b95dfac6a0d', 10)\",\"('getitem-4ad0e035bab59cc691726b95dfac6a0d', 10)\",\"('bag-from-delayed-decode-map-loads-read-block-map-partitions-vectorize-map-partitions-vectorize-to_dataframe-6c9925f70e4ef8660324151dcb028577', 10)\",\"('to_dataframe-6c9925f70e4ef8660324151dcb028577', 7)\",\"('set_index-2d56c5420fef64febfc582d7a0a8b0b7', 7)\",\"('repartition-split-86e07fde00bbd64fb86725c03da49c67', 63)\",\"('repartition-merge-86e07fde00bbd64fb86725c03da49c67', 58)\",\"('to-hdf-793a04304fca11e8989372000083dce0', 58)\",\"('repartition-split-86e07fde00bbd64fb86725c03da49c67', 71)\",\"('repartition-split-repartition-merge-86e07fde00bbd64fb86725c03da49c67', 59)\",\"('repartition-merge-86e07fde00bbd64fb86725c03da49c67', 59)\",\"('to-hdf-793a04304fca11e8989372000083dce0', 59)\",\"('repartition-split-repartition-merge-86e07fde00bbd64fb86725c03da49c67', 60)\",\"('repartition-merge-86e07fde00bbd64fb86725c03da49c67', 60)\",\"('to-hdf-793a04304fca11e8989372000083dce0', 60)\",\"('repartition-split-repartition-merge-86e07fde00bbd64fb86725c03da49c67', 61)\",\"('repartition-merge-86e07fde00bbd64fb86725c03da49c67', 61)\",\"('to-hdf-793a04304fca11e8989372000083dce0', 61)\",\"('repartition-split-repartition-merge-86e07fde00bbd64fb86725c03da49c67', 62)\",\"('repartition-merge-86e07fde00bbd64fb86725c03da49c67', 62)\",\"('to-hdf-793a04304fca11e8989372000083dce0', 62)\",\"('repartition-split-repartition-merge-86e07fde00bbd64fb86725c03da49c67', 63)\",\"('repartition-merge-86e07fde00bbd64fb86725c03da49c67', 63)\",\"('to-hdf-793a04304fca11e8989372000083dce0', 63)\",\"('repartition-split-repartition-merge-86e07fde00bbd64fb86725c03da49c67', 64)\",\"('repartition-merge-86e07fde00bbd64fb86725c03da49c67', 64)\",\"('to-hdf-793a04304fca11e8989372000083dce0', 64)\",\"('repartition-split-repartition-merge-86e07fde00bbd64fb86725c03da49c67', 65)\",\"('repartition-merge-86e07fde00bbd64fb86725c03da49c67', 65)\",\"('to-hdf-793a04304fca11e8989372000083dce0', 65)\",\"('pluck-to_dataframe-getitem-4ad0e035bab59cc691726b95dfac6a0d', 11)\",\"('getitem-4ad0e035bab59cc691726b95dfac6a0d', 11)\",\"('bag-from-delayed-decode-map-loads-read-block-map-partitions-vectorize-map-partitions-vectorize-to_dataframe-6c9925f70e4ef8660324151dcb028577', 11)\",\"('to_dataframe-6c9925f70e4ef8660324151dcb028577', 11)\",\"('set_index-2d56c5420fef64febfc582d7a0a8b0b7', 11)\",\"('repartition-split-86e07fde00bbd64fb86725c03da49c67', 99)\",\"('repartition-split-repartition-merge-86e07fde00bbd64fb86725c03da49c67', 92)\",\"('repartition-merge-86e07fde00bbd64fb86725c03da49c67', 92)\",\"('to-hdf-793a04304fca11e8989372000083dce0', 92)\",\"('repartition-split-repartition-merge-86e07fde00bbd64fb86725c03da49c67', 93)\",\"('repartition-merge-86e07fde00bbd64fb86725c03da49c67', 93)\",\"('to-hdf-793a04304fca11e8989372000083dce0', 93)\",\"('repartition-split-repartition-merge-86e07fde00bbd64fb86725c03da49c67', 94)\",\"('repartition-merge-86e07fde00bbd64fb86725c03da49c67', 94)\",\"('to-hdf-793a04304fca11e8989372000083dce0', 94)\",\"('repartition-split-repartition-merge-86e07fde00bbd64fb86725c03da49c67', 95)\",\"('repartition-merge-86e07fde00bbd64fb86725c03da49c67', 95)\",\"('to-hdf-793a04304fca11e8989372000083dce0', 95)\",\"('repartition-split-repartition-merge-86e07fde00bbd64fb86725c03da49c67', 96)\",\"('repartition-merge-86e07fde00bbd64fb86725c03da49c67', 96)\",\"('to-hdf-793a04304fca11e8989372000083dce0', 96)\",\"('repartition-split-repartition-merge-86e07fde00bbd64fb86725c03da49c67', 97)\",\"('repartition-merge-86e07fde00bbd64fb86725c03da49c67', 97)\",\"('to-hdf-793a04304fca11e8989372000083dce0', 97)\",\"('repartition-split-repartition-merge-86e07fde00bbd64fb86725c03da49c67', 98)\",\"('repartition-merge-86e07fde00bbd64fb86725c03da49c67', 98)\",\"('to-hdf-793a04304fca11e8989372000083dce0', 98)\",\"('repartition-split-repartition-merge-86e07fde00bbd64fb86725c03da49c67', 99)\",\"('repartition-merge-86e07fde00bbd64fb86725c03da49c67', 99)\",\"('to-hdf-793a04304fca11e8989372000083dce0', 99)\",\"('to_dataframe-6c9925f70e4ef8660324151dcb028577', 9)\",\"('set_index-2d56c5420fef64febfc582d7a0a8b0b7', 9)\",\"('repartition-split-86e07fde00bbd64fb86725c03da49c67', 89)\",\"('repartition-split-repartition-merge-86e07fde00bbd64fb86725c03da49c67', 75)\",\"('repartition-split-repartition-merge-86e07fde00bbd64fb86725c03da49c67', 76)\",\"('repartition-merge-86e07fde00bbd64fb86725c03da49c67', 75)\",\"('repartition-merge-86e07fde00bbd64fb86725c03da49c67', 76)\",\"('to-hdf-793a04304fca11e8989372000083dce0', 75)\",\"('to-hdf-793a04304fca11e8989372000083dce0', 76)\",\"('repartition-split-repartition-merge-86e07fde00bbd64fb86725c03da49c67', 77)\",\"('repartition-merge-86e07fde00bbd64fb86725c03da49c67', 77)\",\"('to-hdf-793a04304fca11e8989372000083dce0', 77)\",\"('repartition-split-repartition-merge-86e07fde00bbd64fb86725c03da49c67', 78)\",\"('repartition-merge-86e07fde00bbd64fb86725c03da49c67', 78)\",\"('to-hdf-793a04304fca11e8989372000083dce0', 78)\",\"('repartition-split-repartition-merge-86e07fde00bbd64fb86725c03da49c67', 79)\",\"('repartition-merge-86e07fde00bbd64fb86725c03da49c67', 79)\",\"('to-hdf-793a04304fca11e8989372000083dce0', 79)\",\"('repartition-split-repartition-merge-86e07fde00bbd64fb86725c03da49c67', 80)\",\"('repartition-merge-86e07fde00bbd64fb86725c03da49c67', 80)\",\"('to-hdf-793a04304fca11e8989372000083dce0', 80)\",\"('repartition-split-repartition-merge-86e07fde00bbd64fb86725c03da49c67', 81)\",\"('repartition-merge-86e07fde00bbd64fb86725c03da49c67', 81)\",\"('to-hdf-793a04304fca11e8989372000083dce0', 81)\",\"('repartition-split-repartition-merge-86e07fde00bbd64fb86725c03da49c67', 82)\",\"('repartition-merge-86e07fde00bbd64fb86725c03da49c67', 82)\",\"('to-hdf-793a04304fca11e8989372000083dce0', 82)\",\"('to_dataframe-6c9925f70e4ef8660324151dcb028577', 10)\",\"('set_index-2d56c5420fef64febfc582d7a0a8b0b7', 10)\",\"('repartition-split-86e07fde00bbd64fb86725c03da49c67', 90)\",\"('repartition-split-86e07fde00bbd64fb86725c03da49c67', 98)\",\"('repartition-split-repartition-merge-86e07fde00bbd64fb86725c03da49c67', 84)\",\"('repartition-merge-86e07fde00bbd64fb86725c03da49c67', 83)\",\"('repartition-merge-86e07fde00bbd64fb86725c03da49c67', 91)\",\"('repartition-merge-86e07fde00bbd64fb86725c03da49c67', 84)\",\"('to-hdf-793a04304fca11e8989372000083dce0', 84)\",\"('to-hdf-793a04304fca11e8989372000083dce0', 83)\",\"('to-hdf-793a04304fca11e8989372000083dce0', 91)\",\"('repartition-split-repartition-merge-86e07fde00bbd64fb86725c03da49c67', 85)\",\"('repartition-merge-86e07fde00bbd64fb86725c03da49c67', 85)\",\"('to-hdf-793a04304fca11e8989372000083dce0', 85)\",\"('repartition-split-repartition-merge-86e07fde00bbd64fb86725c03da49c67', 86)\",\"('repartition-merge-86e07fde00bbd64fb86725c03da49c67', 86)\",\"('to-hdf-793a04304fca11e8989372000083dce0', 86)\",\"('repartition-split-repartition-merge-86e07fde00bbd64fb86725c03da49c67', 87)\",\"('repartition-merge-86e07fde00bbd64fb86725c03da49c67', 87)\",\"('to-hdf-793a04304fca11e8989372000083dce0', 87)\",\"('repartition-split-repartition-merge-86e07fde00bbd64fb86725c03da49c67', 88)\",\"('repartition-merge-86e07fde00bbd64fb86725c03da49c67', 88)\",\"('to-hdf-793a04304fca11e8989372000083dce0', 88)\",\"('repartition-split-repartition-merge-86e07fde00bbd64fb86725c03da49c67', 89)\",\"('repartition-merge-86e07fde00bbd64fb86725c03da49c67', 89)\",\"('to-hdf-793a04304fca11e8989372000083dce0', 89)\",\"('to_dataframe-6c9925f70e4ef8660324151dcb028577', 8)\",\"('repartition-split-repartition-merge-86e07fde00bbd64fb86725c03da49c67', 90)\",\"('set_index-2d56c5420fef64febfc582d7a0a8b0b7', 8)\",\"('repartition-merge-86e07fde00bbd64fb86725c03da49c67', 90)\",\"('to-hdf-793a04304fca11e8989372000083dce0', 90)\",\"('repartition-split-86e07fde00bbd64fb86725c03da49c67', 72)\",\"('repartition-split-repartition-merge-86e07fde00bbd64fb86725c03da49c67', 67)\",\"('repartition-merge-86e07fde00bbd64fb86725c03da49c67', 66)\",\"('repartition-merge-86e07fde00bbd64fb86725c03da49c67', 67)\",\"('to-hdf-793a04304fca11e8989372000083dce0', 67)\",\"('to-hdf-793a04304fca11e8989372000083dce0', 66)\",\"('repartition-split-repartition-merge-86e07fde00bbd64fb86725c03da49c67', 68)\",\"('repartition-merge-86e07fde00bbd64fb86725c03da49c67', 68)\",\"('to-hdf-793a04304fca11e8989372000083dce0', 68)\",\"('repartition-split-repartition-merge-86e07fde00bbd64fb86725c03da49c67', 69)\",\"('repartition-merge-86e07fde00bbd64fb86725c03da49c67', 69)\",\"('to-hdf-793a04304fca11e8989372000083dce0', 69)\",\"('repartition-split-repartition-merge-86e07fde00bbd64fb86725c03da49c67', 70)\",\"('repartition-merge-86e07fde00bbd64fb86725c03da49c67', 70)\",\"('to-hdf-793a04304fca11e8989372000083dce0', 70)\",\"('repartition-split-repartition-merge-86e07fde00bbd64fb86725c03da49c67', 71)\",\"('repartition-merge-86e07fde00bbd64fb86725c03da49c67', 71)\",\"('to-hdf-793a04304fca11e8989372000083dce0', 71)\",\"('repartition-split-repartition-merge-86e07fde00bbd64fb86725c03da49c67', 72)\",\"('repartition-merge-86e07fde00bbd64fb86725c03da49c67', 72)\",\"('to-hdf-793a04304fca11e8989372000083dce0', 72)\",\"('repartition-split-repartition-merge-86e07fde00bbd64fb86725c03da49c67', 73)\",\"('repartition-merge-86e07fde00bbd64fb86725c03da49c67', 73)\",\"('to-hdf-793a04304fca11e8989372000083dce0', 73)\",\"('repartition-split-repartition-merge-86e07fde00bbd64fb86725c03da49c67', 74)\",\"('repartition-merge-86e07fde00bbd64fb86725c03da49c67', 74)\",\"('to-hdf-793a04304fca11e8989372000083dce0', 74)\"],\"width\":[0.0397451730677858,23.478736925986595,0.04431803908664733,23.537718654959463,0.009075718000531197,0.04530157695990056,0.008254430023953319,23.351923970971256,0.0036271800054237247,0.02233256702311337,0.0031582069350406528,23.309904734953307,0.03155945905018598,0.026038377080112696,0.029931772965937853,0.020507939043454826,0.018876504967920482,0.004332876997068524,0.0038227130426093936,0.0043727579759433866,0.015016137040220201,0.026948257931508124,0.024521906045265496,23.6749215539312,0.004343961947597563,0.004169499035924673,0.004126247018575668,0.029609867953695357,23.80560601304751,0.0374808709602803,0.006327538983896375,0.018432272016070783,0.013456905027851462,0.028492379002273083,23.49069462600164,0.0029864419484511018,0.0024187800008803606,0.02128228300716728,0.004555518971756101,24.462101893033832,0.018465547007508576,0.013706038007512689,0.0023999239783734083,0.0023674650583416224,0.021417454932816327,0.003822437021881342,22.834142297971994,0.04745856404770166,0.013799443957395852,0.002841998008079827,0.002519882982596755,0.0218064880464226,0.005736529943533242,22.09478263708297,0.016193907940760255,0.01275136403273791,0.0023166369646787643,0.0022038029273971915,0.02152157702948898,0.003425201983191073,22.403294983902015,0.02424227201845497,0.014038039022125304,0.003444634028710425,0.0027265610406175256,0.017106873099692166,0.007253756979480386,18.735665899934247,0.015636240015737712,0.011602228973060846,0.002847125055268407,0.002879787003621459,0.014606275013647974,0.013899294077418745,0.003635572036728263,0.003128939075395465,0.011252867057919502,0.008342140004970133,0.0026059229858219624,0.0021705609979107976,0.01111297495663166,0.008209513034671545,0.0024036190006881952,0.0018260868964716792,0.042817608918994665,23.299892897950485,0.023185017984360456,23.347987705958076,0.005315393093042076,0.0050102550303563476,0.023015614948235452,23.229343671002425,0.004062218009494245,0.021711205947212875,0.004280098946765065,23.120718733989634,0.02515294007025659,0.03987047798000276,0.035152247990481555,0.031986854039132595,0.0360475170891732,0.04142430203501135,0.021218719077296555,0.055916465003974736,0.0335474539315328,0.03979398705996573,0.038449026993475854,0.03470127296168357,0.02537384198512882,0.028378378017805517,0.034331743023358285,0.01815829100087285,0.22881916793994606,0.0217398249078542,0.018750487943179905,0.018759847967885435,0.02566362707875669,0.01361455104779452,0.039664339972659945,0.026288443012163043,0.08065857202745974,0.012713687028735876,0.02863229310605675,0.028705817996524274,0.01191549003124237,0.010576220927760005,0.01849158701952547,0.029105886002071202,0.02710943599231541,0.010194001020863652,0.01832753501366824,0.0073675879975780845,0.012454873998649418,0.02219835005234927,0.01007777894847095,0.020115028019063175,0.027948740986175835,0.013540279935114086,0.030746278003789485,0.0315443049184978,0.027657293947413564,0.02939728496130556,0.044947228976525366,0.014532850007526577,0.04255550692323595,0.02647680207155645,0.058729256968945265,0.013521173968911171,0.015947994077578187,0.017508847056888044,0.07500914798583835,0.10954874893650413,0.155354312970303,0.198068642988801,0.2162850700551644,0.228173732990399,0.22445952508132905,0.21162207890301943,0.1989556570770219,0.17781953292433172,0.15820481604896486,0.14415975695010275,0.12720062292646617,0.1234756869962439,0.12729903997387737,0.12590094399638474,0.1267335240263492,0.13195348891895264,0.13047135202214122,0.016930805053561926,0.007574790040962398,0.10782040003687143,0.010870460071600974,0.006215600995346904,0.12069851101841778,0.010387063026428223,0.005926477024331689,0.1310682890471071,0.012014275998808444,0.006598493084311485,0.137897468986921,0.010557152098044753,0.009612332098186016,0.14083572197705507,0.016268810955807567,0.009847173001617193,0.1315666949376464,0.013648504973389208,0.0071854989510029554,0.13231674500275403,0.015493037994019687,0.007394916960038245,0.12926300603430718,0.015841773943975568,0.0069342260248959064,0.12899948994163424,0.016119580948725343,0.0072827700059860945,0.13631113898009062,0.012852940009906888,0.005730323027819395,0.15263844700530171,0.01375668600667268,0.006844348041340709,0.16132166690658778,0.024129183031618595,0.0033372280886396766,22.574225306976587,0.0247955220984295,0.004040665924549103,22.872680654982105,0.024394819978624582,0.004479978000745177,22.939346503000706,0.022220156039111316,0.004194198991172016,23.73786095599644,0.020863871090114117,0.0237041610525921,0.014347212039865553,0.019212454091757536,0.043367793899960816,0.013809483963996172,0.011108404956758022,0.010244899080134928,0.04923748201690614,0.012854458065703511,0.005026137921959162,0.04597985802683979,0.012302764924243093,0.0068420449970290065,0.043407157994806767,0.016470201080664992,0.015288094989955425,0.014034981955774128,0.022767147980630398,0.0573321389965713,0.011403960059396923,0.018913169973529875,0.06706506700720638,0.012935903971083462,0.005352525971829891,0.07881928700953722,0.01438091800082475,0.024197208927944303,0.02454336395021528,0.02001894696149975,0.006399442907422781,0.043807453010231256,0.012299611000344157,0.010930441902019083,0.0059812209801748395,0.006092663039453328,0.054304011981002986,0.08144924195948988,0.009629125008359551,0.004575835890136659,0.07974907697644085,0.01135418692138046,0.004879347048699856,0.07498697994742543,0.011455263011157513,0.005243599065579474,0.08257480105385184,0.012558236019685864,0.004166080034337938,0.11525988101493567,0.01620008796453476,0.007711359998211265,0.10917372908443213,0.016142499051056802,0.006923555047251284,0.10422592505346984,0.01595054497011006,0.005761689972132444,0.07700401498004794,0.012381482985801995,0.004859080072492361,0.08493794896639884,0.011794639052823186,0.0059679209953173995,0.08384538302198052,0.012284805998206139,0.006445245002396405,0.08008223702199757,0.010881447000429034,0.006299815024249256,0.08097358990926296,0.013227739022113383,0.005262977909296751,0.09236498095560819,0.012250204919837415,0.007528064073994756,0.09005198895465583,0.017521001980639994,0.009815920027904212,0.09033492999151349,0.011827150010503829,0.008503322955220938,0.09885837696492672,0.02199202694464475,0.003428473020903766,21.595291362027638,0.020718829007819295,0.004189882078208029,20.643300918047316,0.017145458958111703,0.004565343027934432,21.207098725019023,0.01884381496347487,0.02274381392635405,0.013689699932001531,0.026008291984908283,0.057686474989168346,0.011295620002783835,0.012894426006823778,0.006168609019368887,0.05106279195751995,0.011742691043764353,0.005824364023283124,0.0567220599623397,0.012028462020680308,0.007296392926946282,0.05075832991860807,0.013033758965320885,0.005879881093278527,0.05469316302333027,0.01648476906120777,0.006286447984166443,0.05320214095991105,0.011923765065148473,0.005816878983750939,0.0567203649552539,0.011684241937473416,0.0058033979730680585,0.05262935103382915,0.016620151000097394,0.0034405121114104986,17.489007640979253,0.01884075498674065,0.014881556970067322,0.00976397399790585,0.01034555397927761,0.006544798030517995,0.18825831601861864,0.010794806992635131,0.007268549990840256,0.06691726506687701,0.012240672018378973,0.006155023002065718,0.07100739993620664,0.009861869970336556,0.0060484090354293585,0.052024438977241516,0.021065843058750033,0.007857727934606373,0.05693749396596104,0.011008378001861274,0.005849675973877311,0.06311017298139632,0.010408578091301024,0.006049160961993039,0.064981225063093,0.01155256200581789,0.008521684911102057,0.06659121892880648,0.022817609016783535,0.02514407702255994,0.017059318954125047,0.03615974495187402,0.030941803008317947,0.013257718994282186,0.010514635010622442,0.04577286506537348,0.09596192301250994,0.016164088039658964,0.01766559306997806,0.06357300991658121,0.014349670964293182,0.006465982063673437,0.07265349198132753,0.015034822979941964,0.005154730984941125,0.06720596097875386,0.013175492989830673,0.006251538055948913,0.07187784998677671,0.014029612066224217,0.005051643936894834,0.07325735001359135,0.011544712004251778,0.004907957976683974,0.07341306703165174,0.015184672083705664,0.017159907030873,0.013112229062244296,0.017378468066453934,0.01630263205152005,0.021608563023619354,0.02017212298233062,0.0051597090205177665,0.04704311303794384,0.07459973799996078,0.11757018405478448,0.011003398918546736,0.003541841055266559,0.09838187391869724,0.012179765035398304,0.005815155920572579,0.10125684004742652,0.014116193982772529,0.004202297073788941,0.09846428304444999,0.012117252917960286,0.006363841937854886,0.1064194559585303,0.010617557098157704,0.006824356038123369,0.11020474205724895,0.019560858025215566,0.018246539984829724,0.023677687044255435,0.008445607032626867,0.10127509105950594,0.02071386098396033,0.019222789094783366,0.021507874014787376,0.006243495969101787,0.09658384299837053,0.13180657394696027,0.02231565397232771,0.005296615068800747,0.1330556779867038,0.00931244099047035,0.006341387052088976,0.1351127700181678,0.010183256003074348,0.006057212012819946,0.14626826997846365,0.010354623897001147,0.0058279200457036495,0.12878466700203717,0.00896239303983748,0.005511379102244973,0.12974076601676643,0.016551227075979114,0.008114734082482755,0.11576364003121853,0.0071326399920508265,0.003878007992170751,0.10996824305038899],\"x\":[0.01987258659210056,11.743091807118617,0.03991787147242576,11.788429074571468,0.04478408908471465,0.07259616057854146,0.06698352401144803,11.747631289530545,0.10227784013841301,0.1157677675364539,0.12900004058610648,11.78596415661741,23.43996460561175,23.454471448552795,23.47120402951259,23.479234174476005,23.492411943501793,23.489994402509183,23.492334530572407,23.494649868109263,23.502241747570224,23.51122117799241,23.514593561994843,35.34765850112308,23.52749640296679,23.529450238565914,23.532055760500953,23.54792500997428,35.43740187061485,23.576419956516474,23.5662379974965,23.578978048055433,23.595414627576247,23.61004602559842,35.34890187100973,23.62650354707148,23.629731226013973,23.642088389606215,23.655489214579575,35.889803040539846,47.10387716756668,47.120426279027015,47.128890558029525,47.131607070565224,47.14381869358476,47.15686285949778,58.57658033305779,47.20932070899289,47.24035460909363,47.24910150410142,47.252339752507396,47.26510602107737,47.27932330209296,58.33010964549612,47.348843681043945,47.36394542909693,47.37207090656739,47.374974548467435,47.38726062851492,47.400335609097965,58.604255419108085,48.133389974129386,48.15293861145619,48.16209286695812,48.16556967457291,48.175866354606114,48.18847452651244,57.56039028405212,66.93646862602327,66.95046541455667,66.95813745353371,66.9613802304957,69.38514471857343,69.39989850798156,69.40908671007492,69.41068677452859,69.81184956151992,69.82197048293892,69.82776370050851,69.82866670156363,69.99957682355307,70.00956201553345,70.0152153884992,70.01605914148968,70.22112910053693,81.8521210020408,70.233286034083,81.89847239211667,70.24593496148009,70.24835391261149,70.2606509475736,81.865992037463,70.27479719894473,70.28815745201427,70.30164587951731,81.86456383008044,93.43866449105553,93.47190933907405,93.49874813097995,93.50827093108092,93.52079451654572,93.53764595196117,93.53730841760989,93.5673635074636,93.5655437411042,93.57926851452794,93.59233587456401,93.6002484766068,93.60863358399365,93.61440706194844,93.62921400659252,93.62734855955932,93.73699338803999,93.64073226053733,93.64872475911397,93.65642161399592,93.66513922053855,93.66583724261727,93.68640330806375,93.68659176956862,93.71937783900648,93.70672916050535,93.7211463014828,93.7280350959627,93.742097769049,93.7481683845399,93.75789813848678,93.76861268107314,93.77400122000836,93.77282309054863,93.78763727459591,93.78752683114726,93.79449176799972,93.80287556012627,93.80254837754183,93.81211967405397,93.82221872045193,93.82153086399194,93.83880430913996,93.84538015455473,93.85131529404316,93.86803429445717,93.87719511648174,93.8690470760921,93.88708919461351,93.89023624302354,93.9129903455032,93.90717819705606,93.91272021504119,93.91807463148143,93.95200900395866,93.97651728952769,94.00505860045087,94.04179618658964,94.09806338895578,94.14574159053154,94.19541550648864,94.24733772955369,94.30665756959934,94.34919450047892,94.38725767005235,94.42608789645601,94.47054004960228,94.50018198450562,94.53034449194092,94.56144702609163,94.5980240990175,94.62824397359509,94.65959635307081,94.6333439515438,94.64591321197804,94.70393100206275,94.66735398198944,94.67619250458665,94.740080340649,94.69975720951334,94.708259815583,94.77708092157263,94.73118987597991,94.7409607055597,94.81354271958116,94.76347371505108,94.7740078100469,94.84965131303761,94.80900038057007,94.82242582854815,94.89355218654964,94.849988173577,94.86075073154643,94.93119187362026,94.89095915702637,94.90273393748794,94.97146851813886,94.92874597106129,94.94054329104256,95.00889796612319,94.96774499455933,94.97988696605898,95.05208639451303,95.00423658208456,95.01389485958498,95.09349617850967,95.04330298502464,95.05401204002555,95.1385047516087,95.08588928251993,95.10006182210054,106.38914506754372,95.13358870509546,95.1485075680539,106.58741777355317,95.18263521103654,95.19770875305403,106.6702527825255,95.23104352608789,95.24505803862121,107.11671622900758,117.68728558253497,117.71022073051427,117.72966018912848,117.74694785603788,117.77860206610058,117.80773986305576,117.820778786554,117.8320033234777,117.86220664007124,117.89375928102527,117.90324125206098,117.92923877213616,117.95895669353195,117.96912263764534,117.99479038605932,118.02522998454515,118.03198134852573,118.04121189413127,118.05159355001524,118.07742670958396,118.06922319100704,118.0849125609966,118.12842107855249,118.1131083619548,118.12278744403739,118.16519924753811,118.147618160001,118.16724215552676,118.17711829196196,118.18990601052064,118.19313066953328,118.21871822758112,118.20654814550653,118.21126507211011,118.21624747745227,118.22029229451437,118.2468687481014,118.26458327507135,118.24579443759285,118.25342353398446,118.29592532746028,118.28001581749413,118.28865558851976,118.32908097596373,118.31145296955947,118.32015242159832,118.36442354356404,118.34247394907288,118.35116382909473,118.41134309151676,118.37511560507119,118.38753556308802,118.44634223554749,118.41410487249959,118.42597847257275,118.4820250045741,118.47752159251831,118.489048846066,118.5308200995205,118.507679010625,118.51665001106448,118.56186825258192,118.54043184255715,118.54968063964043,118.59500142955221,118.57591525209136,118.58571055659559,118.6293634835165,118.61017499049194,118.61927051458042,118.66341862699483,118.64400539558847,118.65362071804702,118.70281601545867,118.67589951760601,118.686114990036,118.73551364347804,118.71305374300573,118.7271179909585,118.77759351709392,118.7556458770996,118.76613898354117,118.82014807150699,118.7920525065856,118.80507979460526,129.60479541111272,118.83379607752431,118.84679230011534,129.17107298609335,118.87874358345289,118.89008013857529,129.49635087954812,118.99573763553053,119.01721709105186,119.03613883408252,119.05683168012183,119.09941073146183,119.13439999509137,119.14709317300003,119.1572159905918,119.18641773506533,119.2185416725697,119.22786435100716,119.25971045310143,119.2947142990306,119.30497351055965,119.33463579404633,119.36726372444537,119.37730977253523,119.40828281047288,119.44451486854814,119.45648808509577,119.48702815559227,119.52008187153842,119.5295327535132,119.5615688074613,119.59627268905751,119.60565336595755,119.6354576376034,119.67065108648967,119.68133218004368,128.4282334445743,137.183452065452,137.2007205315167,137.21343954908662,137.22401057300158,137.23283966106828,137.33064062113408,137.43077633553185,137.44043392001186,137.47810868453234,137.51838094601408,137.52821287454572,137.56723400310148,137.60825628705788,137.61694578453898,137.64659523556475,137.68374926352408,137.70013661996927,137.7331337929936,137.76773377496284,137.77677034400403,137.81184235552792,137.8491749711102,137.8579868125962,137.89396782650147,137.9329737580847,137.94359505653847,137.98176261258777,139.50453817553353,139.5289563514525,139.55044284451287,139.56376184755936,139.5749360685004,139.58891423454043,139.5962532554986,139.6190365155926,139.6502135465853,139.65041318896692,139.66771093162242,139.70969092298765,139.70595314947423,139.7167850419646,139.75679524906445,139.74937848956324,139.76022820256185,139.79692298464943,139.80017285060603,139.81044030108023,139.85001394699793,139.83812719106209,139.84822377900127,139.88786036206875,139.89226949599106,139.90107702102978,139.94077041454148,140.10779979103245,140.1243413776392,140.13979203952476,140.14437593403272,140.15010341408197,140.15782241348643,140.1635085066082,140.1613879465731,140.1880089135375,140.20646581903566,140.232918242109,140.21740593446884,140.22501744457986,140.2763077650452,140.2502383525716,140.25969099008944,140.31357725395355,140.29981218499597,140.30932112049777,140.36098471551668,140.33193454053253,140.34154164604843,140.39832599600777,140.37026286649052,140.37936412007548,140.43947313004173,140.4126846099971,140.41999617114197,140.43476475856733,140.43436844856478,140.48988865956198,140.45754824148025,140.46226342360023,140.47944951511454,140.4756117790239,140.52752149559092,140.55679605400655,140.5064099750016,140.5206462944625,140.59012635808904,140.54554989852477,140.55388306453824,140.62513943214435,140.58119860000443,140.58971497102175,140.6662867240375,140.6282716790447,140.63689528405666,140.70475440251175,140.66157201852184,140.66920367453713,140.73737539199647,140.70127287053037,140.71443811210338,140.77678103907965,140.74344851903152,140.74925303494092,140.80650740058627],\"y\":[4,2,3,1,4,4,3,3,4,4,4,4,3,4,3,4,2,3,4,3,4,3,4,2,3,4,3,4,3,1,4,4,4,1,4,1,1,1,1,1,4,4,4,4,4,4,4,2,2,2,2,2,2,2,3,3,3,3,3,3,3,1,1,1,1,1,1,1,1,1,1,1,1,2,1,2,1,2,3,1,2,3,1,4,2,3,1,4,2,1,2,1,2,2,2,2,2,2,1,2,3,1,2,3,2,1,4,2,3,1,4,2,3,1,2,1,4,2,1,2,4,2,1,2,2,1,2,1,4,2,2,1,4,1,2,4,2,1,4,1,2,3,4,1,2,1,3,4,1,2,4,1,2,3,4,1,2,3,4,1,2,3,4,1,2,3,4,1,2,3,3,3,4,4,4,1,1,1,2,2,2,3,3,3,4,4,4,1,1,1,2,2,2,3,3,3,4,4,4,1,1,1,2,2,2,3,3,3,4,4,4,1,1,1,2,2,2,3,3,3,3,3,3,3,3,3,3,3,3,3,3,3,3,4,3,4,3,4,4,4,3,3,3,1,4,1,4,1,1,4,3,4,3,4,3,1,1,1,4,4,4,3,3,3,1,1,1,4,4,4,3,3,3,1,1,1,4,4,4,3,3,3,1,1,1,4,4,4,3,3,3,1,1,1,4,4,4,3,3,3,1,1,1,4,4,4,3,3,3,2,2,2,2,2,2,2,2,2,2,2,2,2,2,2,2,2,2,2,2,2,2,2,2,2,2,2,2,2,2,2,2,2,2,2,2,2,2,2,2,2,2,2,2,2,2,2,2,2,2,2,2,2,2,2,2,2,2,4,2,4,2,4,2,4,2,4,4,4,2,2,2,4,4,4,2,2,2,4,4,4,2,2,2,4,2,3,4,2,3,4,2,2,3,4,2,2,2,3,3,3,4,4,4,2,2,2,3,3,3,1,4,1,4,4,1,2,1,2,2,1,3,3,3,4,4,4,2,2,2,1,1,1,3,3,3,4,4,4,2,2,2]},\"selected\":null,\"selection_policy\":null},\"id\":\"d7efb90b-3640-401f-868b-219f39b36fd1\",\"type\":\"ColumnDataSource\"},{\"attributes\":{\"dimension\":1,\"grid_line_color\":{\"value\":null},\"plot\":{\"id\":\"8077b937-ab88-4e52-a44a-18968fbf58e3\",\"subtype\":\"Figure\",\"type\":\"Plot\"},\"ticker\":{\"id\":\"2bd0c7a3-6d6c-4613-93eb-45ead20865b3\",\"type\":\"CategoricalTicker\"}},\"id\":\"59be4d0e-5c64-4052-b709-c782e5cbbd68\",\"type\":\"Grid\"},{\"attributes\":{\"source\":{\"id\":\"d7efb90b-3640-401f-868b-219f39b36fd1\",\"type\":\"ColumnDataSource\"}},\"id\":\"9b6d4b2f-bdcb-49bf-b285-24b7dc101bcb\",\"type\":\"CDSView\"},{\"attributes\":{\"grid_line_color\":{\"value\":null},\"plot\":{\"id\":\"8077b937-ab88-4e52-a44a-18968fbf58e3\",\"subtype\":\"Figure\",\"type\":\"Plot\"},\"ticker\":{\"id\":\"92f3e72e-9309-4419-bdee-d9f06e8ef97c\",\"type\":\"BasicTicker\"}},\"id\":\"de9b644d-d323-4d67-b5da-d3266a35b7c0\",\"type\":\"Grid\"},{\"attributes\":{},\"id\":\"299d473e-b105-468f-b397-3a31208807a8\",\"type\":\"SaveTool\"},{\"attributes\":{\"fill_color\":{\"field\":\"color\"},\"height\":{\"units\":\"data\",\"value\":1},\"line_color\":{\"value\":\"gray\"},\"width\":{\"field\":\"width\",\"units\":\"data\"},\"x\":{\"field\":\"x\"},\"y\":{\"field\":\"y\"}},\"id\":\"6dd51e7e-a2cf-4844-b06a-af10c66584c3\",\"type\":\"Rect\"},{\"attributes\":{\"axis_label\":\"Time (s)\",\"axis_line_color\":{\"value\":null},\"formatter\":{\"id\":\"012ad3f8-d22e-4a86-b07a-0b7840b2b40c\",\"type\":\"BasicTickFormatter\"},\"major_tick_line_color\":{\"value\":null},\"plot\":{\"id\":\"8077b937-ab88-4e52-a44a-18968fbf58e3\",\"subtype\":\"Figure\",\"type\":\"Plot\"},\"ticker\":{\"id\":\"92f3e72e-9309-4419-bdee-d9f06e8ef97c\",\"type\":\"BasicTicker\"}},\"id\":\"f71a20e2-95a9-4120-8bb9-b09091b41824\",\"type\":\"LinearAxis\"},{\"attributes\":{},\"id\":\"014fb44f-3720-4811-889f-2928c510f14f\",\"type\":\"CategoricalScale\"},{\"attributes\":{\"below\":[{\"id\":\"f71a20e2-95a9-4120-8bb9-b09091b41824\",\"type\":\"LinearAxis\"}],\"left\":[{\"id\":\"f34fcf18-0ca3-4eda-9b7c-15838682758b\",\"type\":\"CategoricalAxis\"}],\"plot_height\":300,\"plot_width\":800,\"renderers\":[{\"id\":\"f71a20e2-95a9-4120-8bb9-b09091b41824\",\"type\":\"LinearAxis\"},{\"id\":\"de9b644d-d323-4d67-b5da-d3266a35b7c0\",\"type\":\"Grid\"},{\"id\":\"f34fcf18-0ca3-4eda-9b7c-15838682758b\",\"type\":\"CategoricalAxis\"},{\"id\":\"59be4d0e-5c64-4052-b709-c782e5cbbd68\",\"type\":\"Grid\"},{\"id\":\"38a9e104-2859-46b3-9d69-1ea6c75c8d6d\",\"type\":\"GlyphRenderer\"}],\"title\":{\"id\":\"840e4bce-2dc9-4ec8-84a2-c8138752b163\",\"type\":\"Title\"},\"toolbar\":{\"id\":\"2e94f632-efb3-4d57-b481-21f829aef8dc\",\"type\":\"Toolbar\"},\"toolbar_location\":\"above\",\"x_range\":{\"id\":\"f4477f89-d9e0-4ffc-a821-5709ab967a7f\",\"type\":\"Range1d\"},\"x_scale\":{\"id\":\"df84e5e3-2ee5-4c52-9f31-2add277dc32c\",\"type\":\"LinearScale\"},\"y_range\":{\"id\":\"f0410bdc-7e72-411a-a6ae-7fc2d6c394a8\",\"type\":\"FactorRange\"},\"y_scale\":{\"id\":\"014fb44f-3720-4811-889f-2928c510f14f\",\"type\":\"CategoricalScale\"}},\"id\":\"8077b937-ab88-4e52-a44a-18968fbf58e3\",\"subtype\":\"Figure\",\"type\":\"Plot\"},{\"attributes\":{\"callback\":null,\"factors\":[\"0\",\"1\",\"2\",\"3\"]},\"id\":\"f0410bdc-7e72-411a-a6ae-7fc2d6c394a8\",\"type\":\"FactorRange\"},{\"attributes\":{},\"id\":\"012ad3f8-d22e-4a86-b07a-0b7840b2b40c\",\"type\":\"BasicTickFormatter\"},{\"attributes\":{\"dimensions\":\"width\"},\"id\":\"dd4ebedc-d8c5-4708-916c-63043af9d96f\",\"type\":\"PanTool\"},{\"attributes\":{\"dimensions\":\"width\"},\"id\":\"a1c23de1-57ec-4d78-a11c-762a5b09d923\",\"type\":\"WheelZoomTool\"},{\"attributes\":{\"fill_alpha\":{\"value\":0.1},\"fill_color\":{\"value\":\"#1f77b4\"},\"height\":{\"units\":\"data\",\"value\":1},\"line_alpha\":{\"value\":0.1},\"line_color\":{\"value\":\"#1f77b4\"},\"width\":{\"field\":\"width\",\"units\":\"data\"},\"x\":{\"field\":\"x\"},\"y\":{\"field\":\"y\"}},\"id\":\"1bd02b39-2556-4962-aaca-410293d23674\",\"type\":\"Rect\"},{\"attributes\":{\"data_source\":{\"id\":\"d7efb90b-3640-401f-868b-219f39b36fd1\",\"type\":\"ColumnDataSource\"},\"glyph\":{\"id\":\"6dd51e7e-a2cf-4844-b06a-af10c66584c3\",\"type\":\"Rect\"},\"hover_glyph\":null,\"muted_glyph\":null,\"nonselection_glyph\":{\"id\":\"1bd02b39-2556-4962-aaca-410293d23674\",\"type\":\"Rect\"},\"selection_glyph\":null,\"view\":{\"id\":\"9b6d4b2f-bdcb-49bf-b285-24b7dc101bcb\",\"type\":\"CDSView\"}},\"id\":\"38a9e104-2859-46b3-9d69-1ea6c75c8d6d\",\"type\":\"GlyphRenderer\"},{\"attributes\":{\"active_drag\":\"auto\",\"active_inspect\":\"auto\",\"active_scroll\":\"auto\",\"active_tap\":\"auto\",\"tools\":[{\"id\":\"896a010e-c428-4915-99ad-078f9d1834de\",\"type\":\"HoverTool\"},{\"id\":\"299d473e-b105-468f-b397-3a31208807a8\",\"type\":\"SaveTool\"},{\"id\":\"469eb801-247f-4644-851d-7f14c2344ad0\",\"type\":\"ResetTool\"},{\"id\":\"a1c23de1-57ec-4d78-a11c-762a5b09d923\",\"type\":\"WheelZoomTool\"},{\"id\":\"dd4ebedc-d8c5-4708-916c-63043af9d96f\",\"type\":\"PanTool\"}]},\"id\":\"2e94f632-efb3-4d57-b481-21f829aef8dc\",\"type\":\"Toolbar\"},{\"attributes\":{\"plot\":null,\"text\":\"Profile Results\"},\"id\":\"840e4bce-2dc9-4ec8-84a2-c8138752b163\",\"type\":\"Title\"},{\"attributes\":{},\"id\":\"92f3e72e-9309-4419-bdee-d9f06e8ef97c\",\"type\":\"BasicTicker\"},{\"attributes\":{},\"id\":\"8fbe201d-3839-42dc-b75d-1633a7443989\",\"type\":\"CategoricalTickFormatter\"},{\"attributes\":{},\"id\":\"469eb801-247f-4644-851d-7f14c2344ad0\",\"type\":\"ResetTool\"},{\"attributes\":{\"axis_label\":\"Worker ID\",\"axis_line_color\":{\"value\":null},\"formatter\":{\"id\":\"8fbe201d-3839-42dc-b75d-1633a7443989\",\"type\":\"CategoricalTickFormatter\"},\"major_tick_line_color\":{\"value\":null},\"plot\":{\"id\":\"8077b937-ab88-4e52-a44a-18968fbf58e3\",\"subtype\":\"Figure\",\"type\":\"Plot\"},\"ticker\":{\"id\":\"2bd0c7a3-6d6c-4613-93eb-45ead20865b3\",\"type\":\"CategoricalTicker\"}},\"id\":\"f34fcf18-0ca3-4eda-9b7c-15838682758b\",\"type\":\"CategoricalAxis\"},{\"attributes\":{},\"id\":\"df84e5e3-2ee5-4c52-9f31-2add277dc32c\",\"type\":\"LinearScale\"}],\"root_ids\":[\"8077b937-ab88-4e52-a44a-18968fbf58e3\"]},\"title\":\"Bokeh Application\",\"version\":\"0.12.15\"}};\n",
       "  var render_items = [{\"docid\":\"35af3b66-6c6a-41f5-a3e3-26624d197352\",\"elementid\":\"8a81dcbd-2f1d-4153-ab5a-030437190ade\",\"modelid\":\"8077b937-ab88-4e52-a44a-18968fbf58e3\"}];\n",
       "  root.Bokeh.embed.embed_items_notebook(docs_json, render_items);\n",
       "\n",
       "  }\n",
       "  if (root.Bokeh !== undefined) {\n",
       "    embed_document(root);\n",
       "  } else {\n",
       "    var attempts = 0;\n",
       "    var timer = setInterval(function(root) {\n",
       "      if (root.Bokeh !== undefined) {\n",
       "        embed_document(root);\n",
       "        clearInterval(timer);\n",
       "      }\n",
       "      attempts++;\n",
       "      if (attempts > 100) {\n",
       "        console.log(\"Bokeh: ERROR: Unable to run BokehJS code because BokehJS library is missing\")\n",
       "        clearInterval(timer);\n",
       "      }\n",
       "    }, 10, root)\n",
       "  }\n",
       "})(window);"
      ],
      "application/vnd.bokehjs_exec.v0+json": ""
     },
     "metadata": {
      "application/vnd.bokehjs_exec.v0+json": {
       "id": "8077b937-ab88-4e52-a44a-18968fbf58e3"
      }
     },
     "output_type": "display_data"
    }
   ],
   "source": [
    "visualize(prof, rprof, cprof);"
   ]
  },
  {
   "cell_type": "code",
   "execution_count": 60,
   "metadata": {},
   "outputs": [
    {
     "name": "stdout",
     "output_type": "stream",
     "text": [
      "CPU times: user 35.5 s, sys: 908 ms, total: 36.4 s\n",
      "Wall time: 37 s\n"
     ]
    }
   ],
   "source": [
    "%%time\n",
    "from_hdf = (\n",
    "    dd.read_hdf('tweet_vectors.hdf', key='data/v*', sorted_index=True)\n",
    ")"
   ]
  },
  {
   "cell_type": "code",
   "execution_count": 75,
   "metadata": {},
   "outputs": [
    {
     "name": "stdout",
     "output_type": "stream",
     "text": [
      "[########################################] | 100% Completed |  0.1s\n"
     ]
    }
   ],
   "source": [
    "with Profiler() as prof, ResourceProfiler(dt=0.25) as rprof, CacheProfiler() as cprof, ProgressBar():    \n",
    "    from_hdf.loc[[853035540559671296, 853046831227514884]].compute()"
   ]
  },
  {
   "cell_type": "code",
   "execution_count": 131,
   "metadata": {},
   "outputs": [],
   "source": [
    "screen_names = pd.DataFrame(\n",
    "    {\n",
    "        'screen_name': [\n",
    "            '@one', '@one',\n",
    "            '@ONE',\n",
    "            '@OTHER', '@OTHER', '@OTHER',\n",
    "            #'@OTHER_MISSING'\n",
    "        ],\n",
    "    },\n",
    "    index=[\n",
    "            853035540559671296, 853035540559671296,\n",
    "            853036662594707456,\n",
    "            853038492380794880, 853040176620326914, 853046831227514884,\n",
    "            #1,\n",
    "        ],\n",
    ")"
   ]
  },
  {
   "cell_type": "code",
   "execution_count": 132,
   "metadata": {},
   "outputs": [
    {
     "data": {
      "text/html": [
       "<div>\n",
       "<style scoped>\n",
       "    .dataframe tbody tr th:only-of-type {\n",
       "        vertical-align: middle;\n",
       "    }\n",
       "\n",
       "    .dataframe tbody tr th {\n",
       "        vertical-align: top;\n",
       "    }\n",
       "\n",
       "    .dataframe thead th {\n",
       "        text-align: right;\n",
       "    }\n",
       "</style>\n",
       "<table border=\"1\" class=\"dataframe\">\n",
       "  <thead>\n",
       "    <tr style=\"text-align: right;\">\n",
       "      <th></th>\n",
       "      <th>screen_name</th>\n",
       "    </tr>\n",
       "  </thead>\n",
       "  <tbody>\n",
       "    <tr>\n",
       "      <th>853035540559671296</th>\n",
       "      <td>@one</td>\n",
       "    </tr>\n",
       "    <tr>\n",
       "      <th>853035540559671296</th>\n",
       "      <td>@one</td>\n",
       "    </tr>\n",
       "    <tr>\n",
       "      <th>853036662594707456</th>\n",
       "      <td>@ONE</td>\n",
       "    </tr>\n",
       "    <tr>\n",
       "      <th>853038492380794880</th>\n",
       "      <td>@OTHER</td>\n",
       "    </tr>\n",
       "    <tr>\n",
       "      <th>853040176620326914</th>\n",
       "      <td>@OTHER</td>\n",
       "    </tr>\n",
       "    <tr>\n",
       "      <th>853046831227514884</th>\n",
       "      <td>@OTHER</td>\n",
       "    </tr>\n",
       "  </tbody>\n",
       "</table>\n",
       "</div>"
      ],
      "text/plain": [
       "                   screen_name\n",
       "853035540559671296        @one\n",
       "853035540559671296        @one\n",
       "853036662594707456        @ONE\n",
       "853038492380794880      @OTHER\n",
       "853040176620326914      @OTHER\n",
       "853046831227514884      @OTHER"
      ]
     },
     "execution_count": 132,
     "metadata": {},
     "output_type": "execute_result"
    }
   ],
   "source": [
    "screen_names"
   ]
  },
  {
   "cell_type": "code",
   "execution_count": 315,
   "metadata": {},
   "outputs": [
    {
     "data": {
      "text/plain": [
       "screen_name\n",
       "@one      [2, -2, 2, -2, -2, 2, -2, -2, -2, 2, 2, 2, -2,...\n",
       "@OTHER    [-1, -1, 3, -1, -3, 3, -1, -1, 1, -1, -1, -1, ...\n",
       "@ONE      [-1, -1, 1, -1, -1, 1, 1, 1, 1, 1, -1, 1, 1, 1...\n",
       "Name: x, dtype: object"
      ]
     },
     "execution_count": 315,
     "metadata": {},
     "output_type": "execute_result"
    }
   ],
   "source": [
    "(\n",
    "    from_hdf\n",
    "    .join(screen_names, how='right')\n",
    "    .groupby('screen_name')\n",
    "    .apply(\n",
    "        lambda g: unpack(g.values[:, :-1].astype('uint8')).sum(axis=0),\n",
    "        meta=('x', int),\n",
    "    )\n",
    ").compute()"
   ]
  },
  {
   "cell_type": "code",
   "execution_count": null,
   "metadata": {},
   "outputs": [],
   "source": []
  }
 ],
 "metadata": {
  "kernelspec": {
   "display_name": "Python 3",
   "language": "python",
   "name": "python3"
  },
  "language_info": {
   "codemirror_mode": {
    "name": "ipython",
    "version": 3
   },
   "file_extension": ".py",
   "mimetype": "text/x-python",
   "name": "python",
   "nbconvert_exporter": "python",
   "pygments_lexer": "ipython3",
   "version": "3.6.5"
  }
 },
 "nbformat": 4,
 "nbformat_minor": 2
}
