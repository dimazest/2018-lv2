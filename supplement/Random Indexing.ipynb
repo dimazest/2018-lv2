{
 "cells": [
  {
   "cell_type": "code",
   "execution_count": 1,
   "metadata": {},
   "outputs": [],
   "source": [
    "%load_ext autoreload\n",
    "%autoreload 2"
   ]
  },
  {
   "cell_type": "code",
   "execution_count": 2,
   "metadata": {},
   "outputs": [],
   "source": [
    "import string\n",
    "import itertools\n",
    "\n",
    "import numpy as np"
   ]
  },
  {
   "cell_type": "code",
   "execution_count": 3,
   "metadata": {},
   "outputs": [],
   "source": [
    "import random_indexing as ri"
   ]
  },
  {
   "cell_type": "code",
   "execution_count": 4,
   "metadata": {},
   "outputs": [],
   "source": [
    "features = ri.Features(list('abcde ') + [''], 10)"
   ]
  },
  {
   "cell_type": "code",
   "execution_count": 5,
   "metadata": {},
   "outputs": [],
   "source": [
    "_a = features[''][features.permutation] * features['a']\n",
    "\n",
    "ab = features['a'][features.permutation] * features['b']\n",
    "bc = features['b'][features.permutation] * features['c']\n",
    "cd = features['c'][features.permutation] * features['d']\n",
    "\n",
    "c_ = features['c'][features.permutation] * features['']\n",
    "d_ = features['d'][features.permutation] * features['']"
   ]
  },
  {
   "cell_type": "code",
   "execution_count": 6,
   "metadata": {},
   "outputs": [],
   "source": [
    "assert (ab == ab * bc * bc).all()"
   ]
  },
  {
   "cell_type": "code",
   "execution_count": 7,
   "metadata": {},
   "outputs": [],
   "source": [
    "_ab = features[''][features.permutation][features.permutation] * ab\n",
    "\n",
    "abc = features['a'][features.permutation][features.permutation] * bc\n",
    "bcd = features['b'][features.permutation][features.permutation] * cd\n",
    "\n",
    "cd_ = features['c'][features.permutation][features.permutation] * d_"
   ]
  },
  {
   "cell_type": "code",
   "execution_count": 8,
   "metadata": {},
   "outputs": [],
   "source": [
    "_abc = (\n",
    "    features[''][features.permutation][features.permutation][features.permutation] * \n",
    "    abc\n",
    ")\n",
    "\n",
    "abcd = (\n",
    "    features['a'][features.permutation][features.permutation][features.permutation] * \n",
    "    bcd\n",
    ")"
   ]
  },
  {
   "cell_type": "code",
   "execution_count": 10,
   "metadata": {},
   "outputs": [],
   "source": [
    "assert (\n",
    "    np.stack(ri.vectorize_naive('abc', window_length=2, features=features)) ==\n",
    "    np.stack([_a, ab, bc, c_])\n",
    ").all()"
   ]
  },
  {
   "cell_type": "code",
   "execution_count": 11,
   "metadata": {},
   "outputs": [],
   "source": [
    "assert (\n",
    "    np.stack(ri.vectorize('abc', window_length=2, features=features)) ==\n",
    "    np.stack([_a, ab, bc, c_])\n",
    ").all()"
   ]
  },
  {
   "cell_type": "code",
   "execution_count": 12,
   "metadata": {},
   "outputs": [],
   "source": [
    "assert (\n",
    "    np.stack(ri.vectorize('abcd', window_length=3, features=features)) ==\n",
    "    np.stack([_ab, abc, bcd, cd_])\n",
    ").all()"
   ]
  },
  {
   "cell_type": "code",
   "execution_count": 14,
   "metadata": {},
   "outputs": [],
   "source": [
    "t1 = np.stack(ri.vectorize('aabbccddeeaabbcceedd', window_length=5, features=features))"
   ]
  },
  {
   "cell_type": "code",
   "execution_count": 15,
   "metadata": {},
   "outputs": [],
   "source": [
    "t1n = np.stack(ri.vectorize_naive('aabbccddeeaabbcceedd', window_length=5, features=features))"
   ]
  },
  {
   "cell_type": "code",
   "execution_count": 16,
   "metadata": {},
   "outputs": [],
   "source": [
    "_aabb = (\n",
    "    features['' ][features.permutation][features.permutation][features.permutation][features.permutation] *\n",
    "    features['a'][features.permutation][features.permutation][features.permutation] *\n",
    "    features['a'][features.permutation][features.permutation] *\n",
    "    features['b'][features.permutation] *\n",
    "    features['b']\n",
    ")"
   ]
  },
  {
   "cell_type": "code",
   "execution_count": 17,
   "metadata": {},
   "outputs": [],
   "source": [
    "assert (t1[0] == _aabb).all()"
   ]
  },
  {
   "cell_type": "code",
   "execution_count": 18,
   "metadata": {},
   "outputs": [],
   "source": [
    "assert (t1n[0] == _aabb).all()"
   ]
  },
  {
   "cell_type": "code",
   "execution_count": 19,
   "metadata": {},
   "outputs": [],
   "source": [
    "assert (t1 == t1n).all()"
   ]
  },
  {
   "cell_type": "code",
   "execution_count": 20,
   "metadata": {},
   "outputs": [],
   "source": [
    "def LongText(features, N):\n",
    "    return itertools.islice(itertools.cycle(features), N)"
   ]
  },
  {
   "cell_type": "code",
   "execution_count": 21,
   "metadata": {},
   "outputs": [],
   "source": [
    "def test(vectorizer, N, window_lenght, features):\n",
    "    return sum(\n",
    "        vectorizer(\n",
    "            LongText(features.features, N),\n",
    "            window_lenght, features,\n",
    "        )\n",
    "    )"
   ]
  },
  {
   "cell_type": "code",
   "execution_count": 23,
   "metadata": {},
   "outputs": [],
   "source": [
    "features10K = ri.Features(list(string.ascii_lowercase) + [''], 10_000)"
   ]
  },
  {
   "cell_type": "code",
   "execution_count": 24,
   "metadata": {},
   "outputs": [
    {
     "name": "stdout",
     "output_type": "stream",
     "text": [
      "1000\n",
      "CPU times: user 83.6 ms, sys: 2.44 ms, total: 86 ms\n",
      "Wall time: 85 ms\n",
      "CPU times: user 144 ms, sys: 788 µs, total: 145 ms\n",
      "Wall time: 145 ms\n",
      "10000\n",
      "CPU times: user 849 ms, sys: 4.98 ms, total: 854 ms\n",
      "Wall time: 873 ms\n",
      "CPU times: user 1.79 s, sys: 15.3 ms, total: 1.81 s\n",
      "Wall time: 1.93 s\n",
      "100000\n",
      "CPU times: user 8.64 s, sys: 57.6 ms, total: 8.7 s\n",
      "Wall time: 8.83 s\n",
      "CPU times: user 17.8 s, sys: 139 ms, total: 17.9 s\n",
      "Wall time: 18.4 s\n"
     ]
    }
   ],
   "source": [
    "for _N in 1_000, 10_000, 100_000:\n",
    "    print(_N)\n",
    "\n",
    "    %time _ = test(ri.vectorize, _N, 5, features10K)\n",
    "    %time _naive = test(ri.vectorize_naive, _N, 5, features10K)\n",
    "    \n",
    "    assert (_ == _naive).all()"
   ]
  },
  {
   "cell_type": "code",
   "execution_count": null,
   "metadata": {},
   "outputs": [],
   "source": []
  }
 ],
 "metadata": {
  "kernelspec": {
   "display_name": "Python 3",
   "language": "python",
   "name": "python3"
  },
  "language_info": {
   "codemirror_mode": {
    "name": "ipython",
    "version": 3
   },
   "file_extension": ".py",
   "mimetype": "text/x-python",
   "name": "python",
   "nbconvert_exporter": "python",
   "pygments_lexer": "ipython3",
   "version": "3.6.5"
  }
 },
 "nbformat": 4,
 "nbformat_minor": 2
}
