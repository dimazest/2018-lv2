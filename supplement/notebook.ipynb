{
 "cells": [
  {
   "cell_type": "code",
   "execution_count": 1,
   "metadata": {},
   "outputs": [],
   "source": [
    "%matplotlib inline"
   ]
  },
  {
   "cell_type": "code",
   "execution_count": 2,
   "metadata": {},
   "outputs": [],
   "source": [
    "import matplotlib\n",
    "matplotlib.rc('pdf', fonttype=42)"
   ]
  },
  {
   "cell_type": "code",
   "execution_count": 3,
   "metadata": {},
   "outputs": [],
   "source": [
    "import pandas as pd\n",
    "import numpy as np\n",
    "import seaborn as sns"
   ]
  },
  {
   "cell_type": "markdown",
   "metadata": {},
   "source": [
    "# Timeline"
   ]
  },
  {
   "cell_type": "code",
   "execution_count": 4,
   "metadata": {},
   "outputs": [],
   "source": [
    "_ = (\n",
    "    pd.read_csv(\n",
    "        'rehydrated_tweets_count_by_day.csv',\n",
    "        parse_dates=['day'],\n",
    "        index_col=['day', 'lang']\n",
    "   )\n",
    "    ['count']\n",
    "    .unstack('lang', fill_value=0)\n",
    ")\n",
    "\n",
    "_['total'] = _.sum(axis=1)\n",
    "_ = _[['lv', 'ru', 'en', 'total']]\n",
    "\n",
    "timeline = _"
   ]
  },
  {
   "cell_type": "code",
   "execution_count": 5,
   "metadata": {},
   "outputs": [
    {
     "data": {
      "text/html": [
       "<div>\n",
       "<style scoped>\n",
       "    .dataframe tbody tr th:only-of-type {\n",
       "        vertical-align: middle;\n",
       "    }\n",
       "\n",
       "    .dataframe tbody tr th {\n",
       "        vertical-align: top;\n",
       "    }\n",
       "\n",
       "    .dataframe thead th {\n",
       "        text-align: right;\n",
       "    }\n",
       "</style>\n",
       "<table border=\"1\" class=\"dataframe\">\n",
       "  <thead>\n",
       "    <tr style=\"text-align: right;\">\n",
       "      <th>lang</th>\n",
       "      <th>lv</th>\n",
       "      <th>ru</th>\n",
       "      <th>en</th>\n",
       "      <th>total</th>\n",
       "    </tr>\n",
       "    <tr>\n",
       "      <th>day</th>\n",
       "      <th></th>\n",
       "      <th></th>\n",
       "      <th></th>\n",
       "      <th></th>\n",
       "    </tr>\n",
       "  </thead>\n",
       "  <tbody>\n",
       "    <tr>\n",
       "      <th>2017-04-15</th>\n",
       "      <td>1309</td>\n",
       "      <td>263</td>\n",
       "      <td>137</td>\n",
       "      <td>1853</td>\n",
       "    </tr>\n",
       "    <tr>\n",
       "      <th>2017-04-16</th>\n",
       "      <td>1465</td>\n",
       "      <td>285</td>\n",
       "      <td>194</td>\n",
       "      <td>2158</td>\n",
       "    </tr>\n",
       "    <tr>\n",
       "      <th>2017-04-17</th>\n",
       "      <td>1358</td>\n",
       "      <td>266</td>\n",
       "      <td>178</td>\n",
       "      <td>1968</td>\n",
       "    </tr>\n",
       "    <tr>\n",
       "      <th>2017-04-18</th>\n",
       "      <td>2776</td>\n",
       "      <td>352</td>\n",
       "      <td>309</td>\n",
       "      <td>3626</td>\n",
       "    </tr>\n",
       "    <tr>\n",
       "      <th>2017-04-19</th>\n",
       "      <td>3146</td>\n",
       "      <td>452</td>\n",
       "      <td>307</td>\n",
       "      <td>4132</td>\n",
       "    </tr>\n",
       "  </tbody>\n",
       "</table>\n",
       "</div>"
      ],
      "text/plain": [
       "lang          lv   ru   en  total\n",
       "day                              \n",
       "2017-04-15  1309  263  137   1853\n",
       "2017-04-16  1465  285  194   2158\n",
       "2017-04-17  1358  266  178   1968\n",
       "2017-04-18  2776  352  309   3626\n",
       "2017-04-19  3146  452  307   4132"
      ]
     },
     "execution_count": 5,
     "metadata": {},
     "output_type": "execute_result"
    }
   ],
   "source": [
    "timeline.head()"
   ]
  },
  {
   "cell_type": "code",
   "execution_count": 9,
   "metadata": {},
   "outputs": [
    {
     "data": {
      "text/plain": [
       "'Average tweet number per day: 3209'"
      ]
     },
     "execution_count": 9,
     "metadata": {},
     "output_type": "execute_result"
    }
   ],
   "source": [
    "'Average tweet number per day: {:.0f}'.format(timeline['total'].mean())"
   ]
  },
  {
   "cell_type": "code",
   "execution_count": 10,
   "metadata": {},
   "outputs": [
    {
     "data": {
      "image/png": "[encoded data removed]",
      "text/plain": [
       "<matplotlib.figure.Figure at 0x11a1e4a58>"
      ]
     },
     "metadata": {},
     "output_type": "display_data"
    }
   ],
   "source": [
    "_ = timeline.rolling(window=7).mean().plot(figsize=(17, 3))\n",
    "\n",
    "_.figure.savefig('rehydrated_tweets_count_by_day.pdf')"
   ]
  },
  {
   "cell_type": "markdown",
   "metadata": {},
   "source": [
    "# Source statistics"
   ]
  },
  {
   "cell_type": "code",
   "execution_count": 25,
   "metadata": {},
   "outputs": [],
   "source": [
    "sources = (\n",
    "    pd.read_csv(\n",
    "        'rehydrated_tweets_source_counts.csv',\n",
    "        index_col=['source_pretty'],\n",
    "        usecols=['source_pretty', 'total_count', 'total_share', 'tracked_source_share'],\n",
    "    )\n",
    "    .drop_duplicates()\n",
    ")"
   ]
  },
  {
   "cell_type": "code",
   "execution_count": 29,
   "metadata": {},
   "outputs": [
    {
     "data": {
      "text/html": [
       "<div>\n",
       "<style scoped>\n",
       "    .dataframe tbody tr th:only-of-type {\n",
       "        vertical-align: middle;\n",
       "    }\n",
       "\n",
       "    .dataframe tbody tr th {\n",
       "        vertical-align: top;\n",
       "    }\n",
       "\n",
       "    .dataframe thead th {\n",
       "        text-align: right;\n",
       "    }\n",
       "</style>\n",
       "<table border=\"1\" class=\"dataframe\">\n",
       "  <thead>\n",
       "    <tr style=\"text-align: right;\">\n",
       "      <th></th>\n",
       "      <th>total_count</th>\n",
       "      <th>total_share</th>\n",
       "      <th>tracked_source_share</th>\n",
       "    </tr>\n",
       "    <tr>\n",
       "      <th>source_pretty</th>\n",
       "      <th></th>\n",
       "      <th></th>\n",
       "      <th></th>\n",
       "    </tr>\n",
       "  </thead>\n",
       "  <tbody>\n",
       "    <tr>\n",
       "      <th>Twitter Web Client</th>\n",
       "      <td>409397</td>\n",
       "      <td>34.4%</td>\n",
       "      <td>52.0%</td>\n",
       "    </tr>\n",
       "    <tr>\n",
       "      <th>Twitter for Android</th>\n",
       "      <td>195537</td>\n",
       "      <td>16.4%</td>\n",
       "      <td>8.5%</td>\n",
       "    </tr>\n",
       "    <tr>\n",
       "      <th>Twitter for iPhone</th>\n",
       "      <td>177404</td>\n",
       "      <td>14.9%</td>\n",
       "      <td>13.6%</td>\n",
       "    </tr>\n",
       "    <tr>\n",
       "      <th>TweetDeck</th>\n",
       "      <td>91906</td>\n",
       "      <td>7.7%</td>\n",
       "      <td>91.6%</td>\n",
       "    </tr>\n",
       "    <tr>\n",
       "      <th>TVNET Login</th>\n",
       "      <td>48938</td>\n",
       "      <td>4.1%</td>\n",
       "      <td>96.7%</td>\n",
       "    </tr>\n",
       "    <tr>\n",
       "      <th>dlvr.it</th>\n",
       "      <td>39193</td>\n",
       "      <td>3.3%</td>\n",
       "      <td>98.4%</td>\n",
       "    </tr>\n",
       "    <tr>\n",
       "      <th>Facebook</th>\n",
       "      <td>31166</td>\n",
       "      <td>2.6%</td>\n",
       "      <td>95.1%</td>\n",
       "    </tr>\n",
       "    <tr>\n",
       "      <th>Foursquare</th>\n",
       "      <td>29121</td>\n",
       "      <td>2.4%</td>\n",
       "      <td>0.0%</td>\n",
       "    </tr>\n",
       "    <tr>\n",
       "      <th>Instagram</th>\n",
       "      <td>23082</td>\n",
       "      <td>1.9%</td>\n",
       "      <td>1.8%</td>\n",
       "    </tr>\n",
       "    <tr>\n",
       "      <th>SKATIES</th>\n",
       "      <td>19015</td>\n",
       "      <td>1.6%</td>\n",
       "      <td>98.2%</td>\n",
       "    </tr>\n",
       "  </tbody>\n",
       "</table>\n",
       "</div>"
      ],
      "text/plain": [
       "                     total_count total_share tracked_source_share\n",
       "source_pretty                                                    \n",
       "Twitter Web Client        409397       34.4%                52.0%\n",
       "Twitter for Android       195537       16.4%                 8.5%\n",
       "Twitter for iPhone        177404       14.9%                13.6%\n",
       "TweetDeck                  91906        7.7%                91.6%\n",
       "TVNET Login                48938        4.1%                96.7%\n",
       "dlvr.it                    39193        3.3%                98.4%\n",
       "Facebook                   31166        2.6%                95.1%\n",
       "Foursquare                 29121        2.4%                 0.0%\n",
       "Instagram                  23082        1.9%                 1.8%\n",
       "SKATIES                    19015        1.6%                98.2%"
      ]
     },
     "execution_count": 29,
     "metadata": {},
     "output_type": "execute_result"
    }
   ],
   "source": [
    "sources"
   ]
  },
  {
   "cell_type": "code",
   "execution_count": 28,
   "metadata": {},
   "outputs": [],
   "source": [
    "sources.to_latex('figures/rehydrated_tweets_source_counts.tex')"
   ]
  },
  {
   "cell_type": "markdown",
   "metadata": {},
   "source": [
    "# Language usage "
   ]
  },
  {
   "cell_type": "code",
   "execution_count": null,
   "metadata": {},
   "outputs": [],
   "source": [
    "_ = pd.read_csv('rehydrated_tweets_lang_usage.csv', index_col='rnum')\n",
    "\n",
    "_['Language Uniformity Score'] = (_[['lv', 'ru', 'en']].max(axis=1) / _[['lv', 'ru', 'en']].sum(axis=1)).round(2)\n",
    "\n",
    "lang_usage = _"
   ]
  },
  {
   "cell_type": "code",
   "execution_count": null,
   "metadata": {},
   "outputs": [],
   "source": [
    "_ = lang_usage['Language Uniformity Score'].plot.hist(bins=6, figsize=(8, 3))\n",
    "\n",
    "_.set(xlabel=\"Language uniformity score\", ylabel=\"Users\")\n",
    "_.figure.tight_layout()\n",
    "\n",
    "_.figure.savefig('rehydrated_tweets_lang_usage.pdf')"
   ]
  },
  {
   "cell_type": "code",
   "execution_count": null,
   "metadata": {},
   "outputs": [],
   "source": [
    "lang_usage.sort_values('Language Uniformity Score').head()"
   ]
  },
  {
   "cell_type": "markdown",
   "metadata": {},
   "source": [
    "# Language preference"
   ]
  },
  {
   "cell_type": "markdown",
   "metadata": {},
   "source": [
    "## Monolingual"
   ]
  },
  {
   "cell_type": "code",
   "execution_count": null,
   "metadata": {},
   "outputs": [],
   "source": [
    "(\n",
    "    lang_usage[\n",
    "        (lang_usage[['lv', 'ru', 'en']] == 0).sum(axis='columns') == 2\n",
    "    ]\n",
    "    [['lv', 'ru', 'en']] > 0\n",
    ").sum(axis='rows')"
   ]
  },
  {
   "cell_type": "markdown",
   "metadata": {},
   "source": [
    "## Multilingual"
   ]
  },
  {
   "cell_type": "code",
   "execution_count": null,
   "metadata": {},
   "outputs": [],
   "source": [
    "(\n",
    "    lang_usage[\n",
    "        (lang_usage[['lv', 'ru', 'en']] > 0).sum(axis='columns') > 1\n",
    "    ]\n",
    "    [['lv', 'ru', 'en']]\n",
    "    .replace(0, np.nan)\n",
    "    .rank(axis='columns', method='min', ascending=False)\n",
    "    .apply(lambda c: c.value_counts(), axis='rows')\n",
    ")"
   ]
  },
  {
   "cell_type": "markdown",
   "metadata": {},
   "source": [
    "# Topics"
   ]
  },
  {
   "cell_type": "code",
   "execution_count": null,
   "metadata": {},
   "outputs": [],
   "source": [
    "relevance_judgments_count_by_day = (\n",
    "    pd.read_csv(\n",
    "        'relevance_judgments_count_by_day.csv',\n",
    "        index_col=['day', 'topic_id'],\n",
    "        parse_dates=['day'],\n",
    "    )['count']\n",
    "    .unstack('topic_id', fill_value=0)\n",
    ")"
   ]
  },
  {
   "cell_type": "code",
   "execution_count": null,
   "metadata": {},
   "outputs": [],
   "source": [
    "(\n",
    "    relevance_judgments_count_by_day[['LV001', 'LV005', 'LV006', 'LV007', 'LV008']]\n",
    "    .rolling(window=7).mean()\n",
    "    .plot(figsize=(17, 3))\n",
    ");"
   ]
  },
  {
   "cell_type": "code",
   "execution_count": null,
   "metadata": {},
   "outputs": [],
   "source": [
    "(\n",
    "    relevance_judgments_count_by_day[['LV002', 'LV003', 'LV004', 'LV009']]\n",
    "    .rolling(window=7).mean()\n",
    "    .plot(figsize=(17, 3))\n",
    ");"
   ]
  },
  {
   "cell_type": "code",
   "execution_count": null,
   "metadata": {},
   "outputs": [],
   "source": [
    "_ = (\n",
    "    pd.read_csv(\n",
    "        'relevance_judgments_lang_pref_by_day.csv',\n",
    "        index_col=['day', 'topic_id'],\n",
    "        parse_dates=['day'],\n",
    "    )\n",
    ")\n",
    "\n",
    "_.columns = pd.MultiIndex.from_tuples(\n",
    "    [\n",
    "        ('Counts', 'Total'),\n",
    "        ('Counts', 'lv, ru, en'),\n",
    "\n",
    "        ('Tweets', 'lv'),\n",
    "        ('Tweets', 'ru'),\n",
    "        ('Tweets', 'en'),\n",
    "\n",
    "        ('Users', 'lv'),\n",
    "        ('Users', 'ru'),\n",
    "        ('Users', 'en'),\n",
    "    ],\n",
    "    names=['Type', 'Language']\n",
    ")\n",
    "relevance_judgments_lang_pref_by_day = _"
   ]
  },
  {
   "cell_type": "code",
   "execution_count": null,
   "metadata": {},
   "outputs": [],
   "source": [
    "relevance_judgments_lang_pref_by_day.head()"
   ]
  },
  {
   "cell_type": "code",
   "execution_count": null,
   "metadata": {},
   "outputs": [],
   "source": [
    "_ = relevance_judgments_lang_pref_by_day[['Tweets', 'Users']].stack().reset_index(['topic_id', 'Language'])\n",
    "\n",
    "sns.lmplot(\n",
    "    x='Tweets', y='Users',\n",
    "    hue='Language', hue_order=['lv', 'ru', 'en'],\n",
    "    col='topic_id', col_wrap=3,\n",
    "    data=_,\n",
    "    ci=None,\n",
    ");"
   ]
  },
  {
   "cell_type": "code",
   "execution_count": null,
   "metadata": {},
   "outputs": [],
   "source": [
    "_ = relevance_judgments_lang_pref_by_day.loc[(slice(None), 'LV001'), :].reset_index('topic_id')\n",
    "\n",
    "(\n",
    "    _['Tweets']\n",
    "    .multiply(\n",
    "        _['Counts', 'lv, ru, en'],\n",
    "        axis='rows',\n",
    "    )\n",
    "    .rolling(window=7).mean()\n",
    "    .plot.area(figsize=(17, 3))\n",
    ");"
   ]
  },
  {
   "cell_type": "code",
   "execution_count": null,
   "metadata": {},
   "outputs": [],
   "source": [
    "_ = relevance_judgments_lang_pref_by_day.loc[(slice(None), 'LV001'), :].reset_index('topic_id')\n",
    "\n",
    "(\n",
    "    _['Users']\n",
    "    .multiply(\n",
    "        _['Counts', 'lv, ru, en'],\n",
    "        axis='rows',\n",
    "    )\n",
    "    .rolling(window=7).mean()\n",
    "    .plot.area(figsize=(17, 3))\n",
    ");"
   ]
  },
  {
   "cell_type": "markdown",
   "metadata": {},
   "source": [
    "## Topics 2"
   ]
  },
  {
   "cell_type": "code",
   "execution_count": null,
   "metadata": {},
   "outputs": [],
   "source": [
    "_ = pd.read_csv(\n",
    "    'relevance_judgments_lang_pref.csv',\n",
    "    index_col=['topic_id', 'day'],\n",
    ")[['r_lv', 'r_ru', 'r_en']]\n",
    "\n",
    "\n",
    "_.columns = ['lv', 'ru', 'en']\n",
    "\n",
    "relevance_judgments_lang_pref = _"
   ]
  },
  {
   "cell_type": "code",
   "execution_count": null,
   "metadata": {},
   "outputs": [],
   "source": [
    "relevance_judgments_lang_pref.loc[['LV005']].head()"
   ]
  },
  {
   "cell_type": "markdown",
   "metadata": {},
   "source": [
    "### Topics 3"
   ]
  },
  {
   "cell_type": "code",
   "execution_count": null,
   "metadata": {},
   "outputs": [],
   "source": [
    "relevance_judgments_count_by_day.divide?"
   ]
  },
  {
   "cell_type": "code",
   "execution_count": null,
   "metadata": {},
   "outputs": [],
   "source": [
    "_ = pd.read_csv(\n",
    "    'relevance_judgments_lang_pref_by_user.csv',\n",
    "    index_col=['topic_id', 'rnum'],\n",
    ")\n",
    "\n",
    "_.columns = pd.MultiIndex.from_tuples(\n",
    "    [\n",
    "        ('User', 'lv'),\n",
    "        ('User', 'ru'),\n",
    "        ('User', 'en'),\n",
    "        ('User', 'total'),\n",
    "\n",
    "        ('Topic', 'lv'),\n",
    "        ('Topic', 'ru'),\n",
    "        ('Topic', 'en'),\n",
    "        ('Topic', 'total'),\n",
    "\n",
    "    ],\n",
    "    names=['Type', 'Language']\n",
    ")\n",
    "\n",
    "_ = _.stack('Type')\n",
    "_ = _[['lv', 'ru', 'en']].divide(_['total'], axis='rows').round(2)\n",
    "\n",
    "# _ = _.unstack('Type').stack('Language')\n",
    "# _.reset_index(['Language', 'topic_id'], inplace=True, keep=True)\n",
    "\n",
    "_ = _.unstack('Type')\n",
    "\n",
    "_.columns = ['t_lv', 'u_lv', 't_ru', 'u_ru', 't_en', 'u_en']\n",
    "\n",
    "relevance_judgments_lang_pref_by_user = _#[['u_lv', 'u_ru', 'u_en', 't_lv', 't_ru', 't_en']]\n",
    "\n",
    "_.head()"
   ]
  },
  {
   "cell_type": "code",
   "execution_count": null,
   "metadata": {
    "scrolled": false
   },
   "outputs": [],
   "source": [
    "for topic in (\n",
    "    'LV001',\n",
    "    'LV003',\n",
    "    'LV005',\n",
    "    'LV006', 'LV007', 'LV008', 'LV009'\n",
    "):\n",
    "\n",
    "    g = sns.pairplot(\n",
    "        x_vars=[\n",
    "            'u_lv', 'u_ru', 'u_en'\n",
    "        ],\n",
    "        y_vars=[\n",
    "            't_lv', 't_ru', 't_en'\n",
    "        ],\n",
    "        data=relevance_judgments_lang_pref_by_user.loc[topic].replace({0: np.nan, 1: np.nan}),\n",
    "        kind='scatter',\n",
    "    )\n",
    "    \n",
    "    g.fig.suptitle(topic)\n",
    "    g.fig.savefig(f'lang_perf_by_user_{topic}.pdf')"
   ]
  },
  {
   "cell_type": "code",
   "execution_count": null,
   "metadata": {},
   "outputs": [],
   "source": []
  },
  {
   "cell_type": "code",
   "execution_count": null,
   "metadata": {},
   "outputs": [],
   "source": []
  },
  {
   "cell_type": "code",
   "execution_count": null,
   "metadata": {},
   "outputs": [],
   "source": []
  },
  {
   "cell_type": "code",
   "execution_count": null,
   "metadata": {},
   "outputs": [],
   "source": []
  },
  {
   "cell_type": "code",
   "execution_count": null,
   "metadata": {},
   "outputs": [],
   "source": []
  }
 ],
 "metadata": {
  "kernelspec": {
   "display_name": "Python 3",
   "language": "python",
   "name": "python3"
  },
  "language_info": {
   "codemirror_mode": {
    "name": "ipython",
    "version": 3
   },
   "file_extension": ".py",
   "mimetype": "text/x-python",
   "name": "python",
   "nbconvert_exporter": "python",
   "pygments_lexer": "ipython3",
   "version": "3.6.5"
  }
 },
 "nbformat": 4,
 "nbformat_minor": 2
}
